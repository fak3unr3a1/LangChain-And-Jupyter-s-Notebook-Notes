{
 "cells": [
  {
   "cell_type": "markdown",
   "id": "b385fdc6-cecc-4564-ab12-85f494a00781",
   "metadata": {},
   "source": [
    "# LangChain - Short-term Memory"
   ]
  },
  {
   "cell_type": "markdown",
   "id": "e1335d52-d456-4ae3-9058-c0c135b1acee",
   "metadata": {
    "tags": []
   },
   "source": [
    "## Install dependencies"
   ]
  },
  {
   "cell_type": "code",
   "execution_count": 1,
   "id": "24b0f6cb-2820-4f7e-8081-4de2809a1807",
   "metadata": {},
   "outputs": [
    {
     "name": "stdout",
     "output_type": "stream",
     "text": [
      "Requirement already satisfied: langchain[llms] in c:\\users\\cglyn\\appdata\\local\\programs\\python\\python311\\lib\\site-packages (0.1.20)Note: you may need to restart the kernel to use updated packages.\n"
     ]
    },
    {
     "name": "stderr",
     "output_type": "stream",
     "text": [
      "DEPRECATION: Loading egg at c:\\users\\cglyn\\appdata\\local\\programs\\python\\python311\\lib\\site-packages\\requests-2.31.0-py3.11.egg is deprecated. pip 24.3 will enforce this behaviour change. A possible replacement is to use pip for package installation.. Discussion can be found at https://github.com/pypa/pip/issues/12330\n",
      "DEPRECATION: Loading egg at c:\\users\\cglyn\\appdata\\local\\programs\\python\\python311\\lib\\site-packages\\websockets-11.0-py3.11.egg is deprecated. pip 24.3 will enforce this behaviour change. A possible replacement is to use pip for package installation.. Discussion can be found at https://github.com/pypa/pip/issues/12330\n",
      "DEPRECATION: torchsde 0.2.5 has a non-standard dependency specifier numpy>=1.19.*; python_version >= \"3.7\". pip 24.1 will enforce this behaviour change. A possible replacement is to upgrade to a newer version of torchsde or contact the author to suggest that they release a version with a conforming dependency specifiers. Discussion can be found at https://github.com/pypa/pip/issues/12063\n"
     ]
    },
    {
     "name": "stdout",
     "output_type": "stream",
     "text": [
      "\n",
      "Requirement already satisfied: PyYAML>=5.3 in c:\\users\\cglyn\\appdata\\local\\programs\\python\\python311\\lib\\site-packages (from langchain[llms]) (6.0.1)\n",
      "Requirement already satisfied: SQLAlchemy<3,>=1.4 in c:\\users\\cglyn\\appdata\\local\\programs\\python\\python311\\lib\\site-packages (from langchain[llms]) (2.0.30)\n",
      "Requirement already satisfied: aiohttp<4.0.0,>=3.8.3 in c:\\users\\cglyn\\appdata\\local\\programs\\python\\python311\\lib\\site-packages (from langchain[llms]) (3.9.1)\n",
      "Requirement already satisfied: clarifai>=9.1.0 in c:\\users\\cglyn\\appdata\\local\\programs\\python\\python311\\lib\\site-packages (from langchain[llms]) (10.3.3)\n",
      "Requirement already satisfied: cohere<6,>=4 in c:\\users\\cglyn\\appdata\\local\\programs\\python\\python311\\lib\\site-packages (from langchain[llms]) (5.4.0)\n",
      "Requirement already satisfied: dataclasses-json<0.7,>=0.5.7 in c:\\users\\cglyn\\appdata\\local\\programs\\python\\python311\\lib\\site-packages (from langchain[llms]) (0.6.6)\n",
      "Requirement already satisfied: huggingface_hub<1,>=0 in c:\\users\\cglyn\\appdata\\local\\programs\\python\\python311\\lib\\site-packages (from langchain[llms]) (0.19.4)\n",
      "Requirement already satisfied: langchain-community<0.1,>=0.0.38 in c:\\users\\cglyn\\appdata\\local\\programs\\python\\python311\\lib\\site-packages (from langchain[llms]) (0.0.38)\n",
      "Requirement already satisfied: langchain-core<0.2.0,>=0.1.52 in c:\\users\\cglyn\\appdata\\local\\programs\\python\\python311\\lib\\site-packages (from langchain[llms]) (0.1.52)\n",
      "Requirement already satisfied: langchain-text-splitters<0.1,>=0.0.1 in c:\\users\\cglyn\\appdata\\local\\programs\\python\\python311\\lib\\site-packages (from langchain[llms]) (0.0.1)\n",
      "Requirement already satisfied: langsmith<0.2.0,>=0.1.17 in c:\\users\\cglyn\\appdata\\local\\programs\\python\\python311\\lib\\site-packages (from langchain[llms]) (0.1.56)\n",
      "Requirement already satisfied: manifest-ml<0.0.2,>=0.0.1 in c:\\users\\cglyn\\appdata\\local\\programs\\python\\python311\\lib\\site-packages (from langchain[llms]) (0.0.1)\n",
      "Requirement already satisfied: nlpcloud<2,>=1 in c:\\users\\cglyn\\appdata\\local\\programs\\python\\python311\\lib\\site-packages (from langchain[llms]) (1.1.46)\n",
      "Requirement already satisfied: numpy<2,>=1 in c:\\users\\cglyn\\appdata\\local\\programs\\python\\python311\\lib\\site-packages (from langchain[llms]) (1.26.4)\n",
      "Requirement already satisfied: openai<2 in c:\\users\\cglyn\\appdata\\local\\programs\\python\\python311\\lib\\site-packages (from langchain[llms]) (1.28.1)\n",
      "Requirement already satisfied: openlm<0.0.6,>=0.0.5 in c:\\users\\cglyn\\appdata\\local\\programs\\python\\python311\\lib\\site-packages (from langchain[llms]) (0.0.5)\n",
      "Requirement already satisfied: pydantic<3,>=1 in c:\\users\\cglyn\\appdata\\local\\programs\\python\\python311\\lib\\site-packages (from langchain[llms]) (2.5.2)\n",
      "Requirement already satisfied: requests<3,>=2 in c:\\users\\cglyn\\appdata\\local\\programs\\python\\python311\\lib\\site-packages\\requests-2.31.0-py3.11.egg (from langchain[llms]) (2.31.0)\n",
      "Requirement already satisfied: tenacity<9.0.0,>=8.1.0 in c:\\users\\cglyn\\appdata\\local\\programs\\python\\python311\\lib\\site-packages (from langchain[llms]) (8.3.0)\n",
      "Requirement already satisfied: torch<3,>=1 in c:\\users\\cglyn\\appdata\\local\\programs\\python\\python311\\lib\\site-packages (from langchain[llms]) (2.1.1)\n",
      "Requirement already satisfied: transformers<5,>=4 in c:\\users\\cglyn\\appdata\\local\\programs\\python\\python311\\lib\\site-packages (from langchain[llms]) (4.40.2)\n",
      "Requirement already satisfied: attrs>=17.3.0 in c:\\users\\cglyn\\appdata\\local\\programs\\python\\python311\\lib\\site-packages (from aiohttp<4.0.0,>=3.8.3->langchain[llms]) (23.1.0)\n",
      "Requirement already satisfied: multidict<7.0,>=4.5 in c:\\users\\cglyn\\appdata\\local\\programs\\python\\python311\\lib\\site-packages (from aiohttp<4.0.0,>=3.8.3->langchain[llms]) (6.0.4)\n",
      "Requirement already satisfied: yarl<2.0,>=1.0 in c:\\users\\cglyn\\appdata\\local\\programs\\python\\python311\\lib\\site-packages (from aiohttp<4.0.0,>=3.8.3->langchain[llms]) (1.9.4)\n",
      "Requirement already satisfied: frozenlist>=1.1.1 in c:\\users\\cglyn\\appdata\\local\\programs\\python\\python311\\lib\\site-packages (from aiohttp<4.0.0,>=3.8.3->langchain[llms]) (1.4.0)\n",
      "Requirement already satisfied: aiosignal>=1.1.2 in c:\\users\\cglyn\\appdata\\local\\programs\\python\\python311\\lib\\site-packages (from aiohttp<4.0.0,>=3.8.3->langchain[llms]) (1.3.1)\n",
      "Requirement already satisfied: clarifai-grpc~=10.3.4 in c:\\users\\cglyn\\appdata\\local\\programs\\python\\python311\\lib\\site-packages (from clarifai>=9.1.0->langchain[llms]) (10.3.4)\n",
      "Requirement already satisfied: tqdm>=4.65.0 in c:\\users\\cglyn\\appdata\\local\\programs\\python\\python311\\lib\\site-packages (from clarifai>=9.1.0->langchain[llms]) (4.65.2)\n",
      "Requirement already satisfied: tritonclient>=2.34.0 in c:\\users\\cglyn\\appdata\\local\\programs\\python\\python311\\lib\\site-packages (from clarifai>=9.1.0->langchain[llms]) (2.45.0)\n",
      "Requirement already satisfied: rich>=13.4.2 in c:\\users\\cglyn\\appdata\\local\\programs\\python\\python311\\lib\\site-packages (from clarifai>=9.1.0->langchain[llms]) (13.4.2)\n",
      "Requirement already satisfied: schema==0.7.5 in c:\\users\\cglyn\\appdata\\local\\programs\\python\\python311\\lib\\site-packages (from clarifai>=9.1.0->langchain[llms]) (0.7.5)\n",
      "Requirement already satisfied: Pillow>=9.5.0 in c:\\users\\cglyn\\appdata\\local\\programs\\python\\python311\\lib\\site-packages (from clarifai>=9.1.0->langchain[llms]) (10.2.0)\n",
      "Requirement already satisfied: inquirerpy==0.3.4 in c:\\users\\cglyn\\appdata\\local\\programs\\python\\python311\\lib\\site-packages (from clarifai>=9.1.0->langchain[llms]) (0.3.4)\n",
      "Requirement already satisfied: tabulate>=0.9.0 in c:\\users\\cglyn\\appdata\\local\\programs\\python\\python311\\lib\\site-packages (from clarifai>=9.1.0->langchain[llms]) (0.9.0)\n",
      "Requirement already satisfied: pfzy<0.4.0,>=0.3.1 in c:\\users\\cglyn\\appdata\\local\\programs\\python\\python311\\lib\\site-packages (from inquirerpy==0.3.4->clarifai>=9.1.0->langchain[llms]) (0.3.4)\n",
      "Requirement already satisfied: prompt-toolkit<4.0.0,>=3.0.1 in c:\\users\\cglyn\\appdata\\roaming\\python\\python311\\site-packages (from inquirerpy==0.3.4->clarifai>=9.1.0->langchain[llms]) (3.0.41)\n",
      "Requirement already satisfied: contextlib2>=0.5.5 in c:\\users\\cglyn\\appdata\\local\\programs\\python\\python311\\lib\\site-packages (from schema==0.7.5->clarifai>=9.1.0->langchain[llms]) (21.6.0)\n",
      "Requirement already satisfied: boto3<2.0.0,>=1.34.0 in c:\\users\\cglyn\\appdata\\local\\programs\\python\\python311\\lib\\site-packages (from cohere<6,>=4->langchain[llms]) (1.34.103)\n",
      "Requirement already satisfied: fastavro<2.0.0,>=1.9.4 in c:\\users\\cglyn\\appdata\\local\\programs\\python\\python311\\lib\\site-packages (from cohere<6,>=4->langchain[llms]) (1.9.4)\n",
      "Requirement already satisfied: httpx>=0.21.2 in c:\\users\\cglyn\\appdata\\local\\programs\\python\\python311\\lib\\site-packages (from cohere<6,>=4->langchain[llms]) (0.27.0)\n",
      "Requirement already satisfied: httpx-sse<0.5.0,>=0.4.0 in c:\\users\\cglyn\\appdata\\local\\programs\\python\\python311\\lib\\site-packages (from cohere<6,>=4->langchain[llms]) (0.4.0)\n",
      "Requirement already satisfied: tokenizers<0.20,>=0.19 in c:\\users\\cglyn\\appdata\\local\\programs\\python\\python311\\lib\\site-packages (from cohere<6,>=4->langchain[llms]) (0.19.1)\n",
      "Requirement already satisfied: types-requests<3.0.0,>=2.0.0 in c:\\users\\cglyn\\appdata\\local\\programs\\python\\python311\\lib\\site-packages (from cohere<6,>=4->langchain[llms]) (2.31.0.20240406)\n",
      "Requirement already satisfied: typing_extensions>=4.0.0 in c:\\users\\cglyn\\appdata\\local\\programs\\python\\python311\\lib\\site-packages (from cohere<6,>=4->langchain[llms]) (4.9.0)\n",
      "Requirement already satisfied: marshmallow<4.0.0,>=3.18.0 in c:\\users\\cglyn\\appdata\\local\\programs\\python\\python311\\lib\\site-packages (from dataclasses-json<0.7,>=0.5.7->langchain[llms]) (3.21.2)\n",
      "Requirement already satisfied: typing-inspect<1,>=0.4.0 in c:\\users\\cglyn\\appdata\\local\\programs\\python\\python311\\lib\\site-packages (from dataclasses-json<0.7,>=0.5.7->langchain[llms]) (0.9.0)\n",
      "Requirement already satisfied: filelock in c:\\users\\cglyn\\appdata\\local\\programs\\python\\python311\\lib\\site-packages (from huggingface_hub<1,>=0->langchain[llms]) (3.13.1)\n",
      "Requirement already satisfied: fsspec>=2023.5.0 in c:\\users\\cglyn\\appdata\\local\\programs\\python\\python311\\lib\\site-packages (from huggingface_hub<1,>=0->langchain[llms]) (2023.12.1)\n",
      "Requirement already satisfied: packaging>=20.9 in c:\\users\\cglyn\\appdata\\local\\programs\\python\\python311\\lib\\site-packages (from huggingface_hub<1,>=0->langchain[llms]) (23.2)\n",
      "Requirement already satisfied: jsonpatch<2.0,>=1.33 in c:\\users\\cglyn\\appdata\\local\\programs\\python\\python311\\lib\\site-packages (from langchain-core<0.2.0,>=0.1.52->langchain[llms]) (1.33)\n",
      "Requirement already satisfied: orjson<4.0.0,>=3.9.14 in c:\\users\\cglyn\\appdata\\local\\programs\\python\\python311\\lib\\site-packages (from langsmith<0.2.0,>=0.1.17->langchain[llms]) (3.10.1)\n",
      "Requirement already satisfied: dill>=0.3.5 in c:\\users\\cglyn\\appdata\\local\\programs\\python\\python311\\lib\\site-packages (from manifest-ml<0.0.2,>=0.0.1->langchain[llms]) (0.3.8)\n",
      "Requirement already satisfied: redis>=4.3.1 in c:\\users\\cglyn\\appdata\\local\\programs\\python\\python311\\lib\\site-packages (from manifest-ml<0.0.2,>=0.0.1->langchain[llms]) (5.0.4)\n",
      "Requirement already satisfied: sqlitedict>=2.0.0 in c:\\users\\cglyn\\appdata\\local\\programs\\python\\python311\\lib\\site-packages (from manifest-ml<0.0.2,>=0.0.1->langchain[llms]) (2.1.0)\n",
      "Requirement already satisfied: anyio<5,>=3.5.0 in c:\\users\\cglyn\\appdata\\local\\programs\\python\\python311\\lib\\site-packages (from openai<2->langchain[llms]) (3.7.1)\n",
      "Requirement already satisfied: distro<2,>=1.7.0 in c:\\users\\cglyn\\appdata\\local\\programs\\python\\python311\\lib\\site-packages (from openai<2->langchain[llms]) (1.9.0)\n",
      "Requirement already satisfied: sniffio in c:\\users\\cglyn\\appdata\\local\\programs\\python\\python311\\lib\\site-packages (from openai<2->langchain[llms]) (1.3.0)\n",
      "Requirement already satisfied: annotated-types>=0.4.0 in c:\\users\\cglyn\\appdata\\local\\programs\\python\\python311\\lib\\site-packages (from pydantic<3,>=1->langchain[llms]) (0.6.0)\n",
      "Requirement already satisfied: pydantic-core==2.14.5 in c:\\users\\cglyn\\appdata\\local\\programs\\python\\python311\\lib\\site-packages (from pydantic<3,>=1->langchain[llms]) (2.14.5)\n",
      "Requirement already satisfied: certifi>=2017.4.17 in c:\\users\\cglyn\\appdata\\local\\programs\\python\\python311\\lib\\site-packages (from requests<3,>=2->langchain[llms]) (2024.2.2)\n",
      "Requirement already satisfied: charset-normalizer<4,>=2 in c:\\users\\cglyn\\appdata\\local\\programs\\python\\python311\\lib\\site-packages (from requests<3,>=2->langchain[llms]) (3.3.2)\n",
      "Requirement already satisfied: idna<4,>=2.5 in c:\\users\\cglyn\\appdata\\local\\programs\\python\\python311\\lib\\site-packages (from requests<3,>=2->langchain[llms]) (3.6)\n",
      "Requirement already satisfied: urllib3<3,>=1.21.1 in c:\\users\\cglyn\\appdata\\local\\programs\\python\\python311\\lib\\site-packages (from requests<3,>=2->langchain[llms]) (2.2.1)\n",
      "Requirement already satisfied: greenlet!=0.4.17 in c:\\users\\cglyn\\appdata\\local\\programs\\python\\python311\\lib\\site-packages (from SQLAlchemy<3,>=1.4->langchain[llms]) (3.0.3)\n",
      "Requirement already satisfied: sympy in c:\\users\\cglyn\\appdata\\local\\programs\\python\\python311\\lib\\site-packages (from torch<3,>=1->langchain[llms]) (1.12)\n",
      "Requirement already satisfied: networkx in c:\\users\\cglyn\\appdata\\local\\programs\\python\\python311\\lib\\site-packages (from torch<3,>=1->langchain[llms]) (3.2.1)\n",
      "Requirement already satisfied: jinja2 in c:\\users\\cglyn\\appdata\\local\\programs\\python\\python311\\lib\\site-packages (from torch<3,>=1->langchain[llms]) (3.1.2)\n",
      "Requirement already satisfied: regex!=2019.12.17 in c:\\users\\cglyn\\appdata\\local\\programs\\python\\python311\\lib\\site-packages (from transformers<5,>=4->langchain[llms]) (2023.10.3)\n",
      "Requirement already satisfied: safetensors>=0.4.1 in c:\\users\\cglyn\\appdata\\local\\programs\\python\\python311\\lib\\site-packages (from transformers<5,>=4->langchain[llms]) (0.4.3)\n",
      "Requirement already satisfied: botocore<1.35.0,>=1.34.103 in c:\\users\\cglyn\\appdata\\local\\programs\\python\\python311\\lib\\site-packages (from boto3<2.0.0,>=1.34.0->cohere<6,>=4->langchain[llms]) (1.34.103)\n",
      "Requirement already satisfied: jmespath<2.0.0,>=0.7.1 in c:\\users\\cglyn\\appdata\\local\\programs\\python\\python311\\lib\\site-packages (from boto3<2.0.0,>=1.34.0->cohere<6,>=4->langchain[llms]) (0.10.0)\n",
      "Requirement already satisfied: s3transfer<0.11.0,>=0.10.0 in c:\\users\\cglyn\\appdata\\local\\programs\\python\\python311\\lib\\site-packages (from boto3<2.0.0,>=1.34.0->cohere<6,>=4->langchain[llms]) (0.10.1)\n",
      "Requirement already satisfied: grpcio>=1.44.0 in c:\\users\\cglyn\\appdata\\local\\programs\\python\\python311\\lib\\site-packages (from clarifai-grpc~=10.3.4->clarifai>=9.1.0->langchain[llms]) (1.62.0)\n",
      "Requirement already satisfied: protobuf>=3.20.3 in c:\\users\\cglyn\\appdata\\local\\programs\\python\\python311\\lib\\site-packages (from clarifai-grpc~=10.3.4->clarifai>=9.1.0->langchain[llms]) (4.25.1)\n",
      "Requirement already satisfied: googleapis-common-protos>=1.53.0 in c:\\users\\cglyn\\appdata\\local\\programs\\python\\python311\\lib\\site-packages (from clarifai-grpc~=10.3.4->clarifai>=9.1.0->langchain[llms]) (1.62.0)\n",
      "Requirement already satisfied: httpcore==1.* in c:\\users\\cglyn\\appdata\\local\\programs\\python\\python311\\lib\\site-packages (from httpx>=0.21.2->cohere<6,>=4->langchain[llms]) (1.0.5)\n",
      "Requirement already satisfied: h11<0.15,>=0.13 in c:\\users\\cglyn\\appdata\\local\\programs\\python\\python311\\lib\\site-packages (from httpcore==1.*->httpx>=0.21.2->cohere<6,>=4->langchain[llms]) (0.14.0)\n",
      "Requirement already satisfied: jsonpointer>=1.9 in c:\\users\\cglyn\\appdata\\local\\programs\\python\\python311\\lib\\site-packages (from jsonpatch<2.0,>=1.33->langchain-core<0.2.0,>=0.1.52->langchain[llms]) (2.4)\n",
      "Requirement already satisfied: markdown-it-py>=2.2.0 in c:\\users\\cglyn\\appdata\\local\\programs\\python\\python311\\lib\\site-packages (from rich>=13.4.2->clarifai>=9.1.0->langchain[llms]) (3.0.0)\n",
      "Requirement already satisfied: pygments<3.0.0,>=2.13.0 in c:\\users\\cglyn\\appdata\\local\\programs\\python\\python311\\lib\\site-packages (from rich>=13.4.2->clarifai>=9.1.0->langchain[llms]) (2.17.2)\n",
      "Requirement already satisfied: colorama in c:\\users\\cglyn\\appdata\\local\\programs\\python\\python311\\lib\\site-packages (from tqdm>=4.65.0->clarifai>=9.1.0->langchain[llms]) (0.4.6)\n",
      "Requirement already satisfied: python-rapidjson>=0.9.1 in c:\\users\\cglyn\\appdata\\local\\programs\\python\\python311\\lib\\site-packages (from tritonclient>=2.34.0->clarifai>=9.1.0->langchain[llms]) (1.16)\n",
      "Requirement already satisfied: mypy-extensions>=0.3.0 in c:\\users\\cglyn\\appdata\\local\\programs\\python\\python311\\lib\\site-packages (from typing-inspect<1,>=0.4.0->dataclasses-json<0.7,>=0.5.7->langchain[llms]) (1.0.0)\n",
      "Requirement already satisfied: MarkupSafe>=2.0 in c:\\users\\cglyn\\appdata\\local\\programs\\python\\python311\\lib\\site-packages (from jinja2->torch<3,>=1->langchain[llms]) (2.1.3)\n",
      "Requirement already satisfied: mpmath>=0.19 in c:\\users\\cglyn\\appdata\\local\\programs\\python\\python311\\lib\\site-packages (from sympy->torch<3,>=1->langchain[llms]) (1.3.0)\n",
      "Requirement already satisfied: python-dateutil<3.0.0,>=2.1 in c:\\users\\cglyn\\appdata\\local\\programs\\python\\python311\\lib\\site-packages (from botocore<1.35.0,>=1.34.103->boto3<2.0.0,>=1.34.0->cohere<6,>=4->langchain[llms]) (2.8.2)\n",
      "Requirement already satisfied: mdurl~=0.1 in c:\\users\\cglyn\\appdata\\local\\programs\\python\\python311\\lib\\site-packages (from markdown-it-py>=2.2.0->rich>=13.4.2->clarifai>=9.1.0->langchain[llms]) (0.1.2)\n",
      "Requirement already satisfied: wcwidth in c:\\users\\cglyn\\appdata\\local\\programs\\python\\python311\\lib\\site-packages (from prompt-toolkit<4.0.0,>=3.0.1->inquirerpy==0.3.4->clarifai>=9.1.0->langchain[llms]) (0.2.12)\n",
      "Requirement already satisfied: six>=1.5 in c:\\users\\cglyn\\appdata\\local\\programs\\python\\python311\\lib\\site-packages (from python-dateutil<3.0.0,>=2.1->botocore<1.35.0,>=1.34.103->boto3<2.0.0,>=1.34.0->cohere<6,>=4->langchain[llms]) (1.16.0)\n",
      "Requirement already satisfied: python-dotenv in c:\\users\\cglyn\\appdata\\local\\programs\\python\\python311\\lib\\site-packages (1.0.1)\n",
      "Note: you may need to restart the kernel to use updated packages.\n"
     ]
    },
    {
     "name": "stderr",
     "output_type": "stream",
     "text": [
      "DEPRECATION: Loading egg at c:\\users\\cglyn\\appdata\\local\\programs\\python\\python311\\lib\\site-packages\\requests-2.31.0-py3.11.egg is deprecated. pip 24.3 will enforce this behaviour change. A possible replacement is to use pip for package installation.. Discussion can be found at https://github.com/pypa/pip/issues/12330\n",
      "DEPRECATION: Loading egg at c:\\users\\cglyn\\appdata\\local\\programs\\python\\python311\\lib\\site-packages\\websockets-11.0-py3.11.egg is deprecated. pip 24.3 will enforce this behaviour change. A possible replacement is to use pip for package installation.. Discussion can be found at https://github.com/pypa/pip/issues/12330\n",
      "DEPRECATION: torchsde 0.2.5 has a non-standard dependency specifier numpy>=1.19.*; python_version >= \"3.7\". pip 24.1 will enforce this behaviour change. A possible replacement is to upgrade to a newer version of torchsde or contact the author to suggest that they release a version with a conforming dependency specifiers. Discussion can be found at https://github.com/pypa/pip/issues/12063\n"
     ]
    }
   ],
   "source": [
    "%pip install langchain[llms]\n",
    "%pip install python-dotenv"
   ]
  },
  {
   "cell_type": "markdown",
   "id": "8babb007-8d92-4eb8-9964-dc0d23e7f236",
   "metadata": {
    "tags": []
   },
   "source": [
    "## Load environment variables\n",
    "\n",
    "Change the path if necessary (read `README.md` first and follow the instructions to setup the `.env` file):"
   ]
  },
  {
   "cell_type": "code",
   "execution_count": 2,
   "id": "68173a51-4762-42f3-9049-277fe79ab62a",
   "metadata": {},
   "outputs": [],
   "source": [
    "# import os\n",
    "# os.chdir(\"/home/jovyan/work\")"
   ]
  },
  {
   "cell_type": "code",
   "execution_count": 3,
   "id": "9ba55308-dc1a-4cf7-ad0f-e27330c951ed",
   "metadata": {},
   "outputs": [],
   "source": [
    "%load_ext dotenv\n",
    "%dotenv"
   ]
  },
  {
   "cell_type": "markdown",
   "id": "b803eac1-cc83-4703-8c06-15fcc32b9aa4",
   "metadata": {},
   "source": [
    "## Setup agent"
   ]
  },
  {
   "cell_type": "code",
   "execution_count": 4,
   "id": "f4d5326f-b7a1-41da-b837-0556bfa6daf5",
   "metadata": {},
   "outputs": [
    {
     "name": "stderr",
     "output_type": "stream",
     "text": [
      "c:\\Users\\cglyn\\AppData\\Local\\Programs\\Python\\Python311\\Lib\\site-packages\\requests\\__init__.py:109: RequestsDependencyWarning: urllib3 (2.2.1) or chardet (None)/charset_normalizer (3.3.2) doesn't match a supported version!\n",
      "  warnings.warn(\n"
     ]
    }
   ],
   "source": [
    "from langchain import OpenAI, ConversationChain"
   ]
  },
  {
   "cell_type": "code",
   "execution_count": 5,
   "id": "89d2b3cf-6f73-4172-a8f3-351f3b0bcada",
   "metadata": {},
   "outputs": [
    {
     "name": "stderr",
     "output_type": "stream",
     "text": [
      "c:\\Users\\cglyn\\AppData\\Local\\Programs\\Python\\Python311\\Lib\\site-packages\\langchain_core\\_api\\deprecation.py:119: LangChainDeprecationWarning: The class `OpenAI` was deprecated in LangChain 0.0.10 and will be removed in 0.3.0. An updated version of the class exists in the langchain-openai package and should be used instead. To use it run `pip install -U langchain-openai` and import as `from langchain_openai import OpenAI`.\n",
      "  warn_deprecated(\n"
     ]
    }
   ],
   "source": [
    "llm = OpenAI(temperature=0)"
   ]
  },
  {
   "cell_type": "code",
   "execution_count": 6,
   "id": "9938b3c1-032b-48d4-921c-8d5660b1577e",
   "metadata": {},
   "outputs": [],
   "source": [
    "conversation = ConversationChain(llm=llm, verbose=True)"
   ]
  },
  {
   "cell_type": "markdown",
   "id": "f24a0d80-2ea7-45e7-851f-bb27119619b0",
   "metadata": {},
   "source": [
    "## Tests"
   ]
  },
  {
   "cell_type": "code",
   "execution_count": 7,
   "id": "3b834b2a-1bd2-4813-8c61-64c82cd45c3a",
   "metadata": {},
   "outputs": [
    {
     "name": "stdout",
     "output_type": "stream",
     "text": [
      "\n",
      "\n",
      "\u001b[1m> Entering new ConversationChain chain...\u001b[0m\n",
      "Prompt after formatting:\n",
      "\u001b[32;1m\u001b[1;3mThe following is a friendly conversation between a human and an AI. The AI is talkative and provides lots of specific details from its context. If the AI does not know the answer to a question, it truthfully says it does not know.\n",
      "\n",
      "Current conversation:\n",
      "\n",
      "Human: Hi! I'm going to say some letters, and I want you to just confirm you noted it, ok?\n",
      "AI:\u001b[0m\n",
      "\n",
      "\u001b[1m> Finished chain.\u001b[0m\n",
      " Sure, I am always ready to listen and learn. Please go ahead and say the letters.\n"
     ]
    }
   ],
   "source": [
    "print(conversation.predict(input=\"Hi! I'm going to say some letters, and I want you to just confirm you noted it, ok?\"))"
   ]
  },
  {
   "cell_type": "code",
   "execution_count": 8,
   "id": "1a65ee11-14fe-4eaf-8ee3-402b19648086",
   "metadata": {},
   "outputs": [
    {
     "name": "stdout",
     "output_type": "stream",
     "text": [
      "\n",
      "\n",
      "\u001b[1m> Entering new ConversationChain chain...\u001b[0m\n",
      "Prompt after formatting:\n",
      "\u001b[32;1m\u001b[1;3mThe following is a friendly conversation between a human and an AI. The AI is talkative and provides lots of specific details from its context. If the AI does not know the answer to a question, it truthfully says it does not know.\n",
      "\n",
      "Current conversation:\n",
      "Human: Hi! I'm going to say some letters, and I want you to just confirm you noted it, ok?\n",
      "AI:  Sure, I am always ready to listen and learn. Please go ahead and say the letters.\n",
      "Human: Ok, let's see... A and P.\n",
      "AI:\u001b[0m\n",
      "\n",
      "\u001b[1m> Finished chain.\u001b[0m\n",
      " I have noted the letters A and P. Did you know that the letter A is the first letter of the alphabet and is also used as a musical note? And the letter P is the 16th letter of the alphabet and is often used as an abbreviation for words like \"page\" or \"part.\"\n"
     ]
    }
   ],
   "source": [
    "print(conversation.predict(input=\"Ok, let's see... A and P.\"))"
   ]
  },
  {
   "cell_type": "code",
   "execution_count": 9,
   "id": "761af789-7c12-412d-bbae-c5686e67d58c",
   "metadata": {},
   "outputs": [
    {
     "name": "stdout",
     "output_type": "stream",
     "text": [
      "\n",
      "\n",
      "\u001b[1m> Entering new ConversationChain chain...\u001b[0m\n",
      "Prompt after formatting:\n",
      "\u001b[32;1m\u001b[1;3mThe following is a friendly conversation between a human and an AI. The AI is talkative and provides lots of specific details from its context. If the AI does not know the answer to a question, it truthfully says it does not know.\n",
      "\n",
      "Current conversation:\n",
      "Human: Hi! I'm going to say some letters, and I want you to just confirm you noted it, ok?\n",
      "AI:  Sure, I am always ready to listen and learn. Please go ahead and say the letters.\n",
      "Human: Ok, let's see... A and P.\n",
      "AI:  I have noted the letters A and P. Did you know that the letter A is the first letter of the alphabet and is also used as a musical note? And the letter P is the 16th letter of the alphabet and is often used as an abbreviation for words like \"page\" or \"part.\"\n",
      "Human: Hmm,... L, E,... And that's all, you got it?\n",
      "AI:\u001b[0m\n",
      "\n",
      "\u001b[1m> Finished chain.\u001b[0m\n",
      " Yes, I have noted the letters L and E as well. Did you know that the letter L is the 12th letter of the alphabet and is often used as an abbreviation for words like \"liter\" or \"length\"? And the letter E is the fifth letter of the alphabet and is the most commonly used letter in the English language.\n"
     ]
    }
   ],
   "source": [
    "print(conversation.predict(input=\"Hmm,... L, E,... And that's all, you got it?\"))"
   ]
  },
  {
   "cell_type": "code",
   "execution_count": 10,
   "id": "10945961-333c-4116-99c8-75a393d27efc",
   "metadata": {},
   "outputs": [
    {
     "name": "stdout",
     "output_type": "stream",
     "text": [
      "\n",
      "\n",
      "\u001b[1m> Entering new ConversationChain chain...\u001b[0m\n",
      "Prompt after formatting:\n",
      "\u001b[32;1m\u001b[1;3mThe following is a friendly conversation between a human and an AI. The AI is talkative and provides lots of specific details from its context. If the AI does not know the answer to a question, it truthfully says it does not know.\n",
      "\n",
      "Current conversation:\n",
      "Human: Hi! I'm going to say some letters, and I want you to just confirm you noted it, ok?\n",
      "AI:  Sure, I am always ready to listen and learn. Please go ahead and say the letters.\n",
      "Human: Ok, let's see... A and P.\n",
      "AI:  I have noted the letters A and P. Did you know that the letter A is the first letter of the alphabet and is also used as a musical note? And the letter P is the 16th letter of the alphabet and is often used as an abbreviation for words like \"page\" or \"part.\"\n",
      "Human: Hmm,... L, E,... And that's all, you got it?\n",
      "AI:  Yes, I have noted the letters L and E as well. Did you know that the letter L is the 12th letter of the alphabet and is often used as an abbreviation for words like \"liter\" or \"length\"? And the letter E is the fifth letter of the alphabet and is the most commonly used letter in the English language.\n",
      "Human: Sure, give me the longer word you can using all those letters (you can repeat letters, but you need to use all letters in the word).\n",
      "AI:\u001b[0m\n",
      "\n",
      "\u001b[1m> Finished chain.\u001b[0m\n",
      " The longest word I can make using the letters A, P, L, and E is \"appeal,\" which means to make a serious or urgent request.\n"
     ]
    }
   ],
   "source": [
    "print(conversation.predict(input=\"Sure, give me the longer word you can using all those letters (you can repeat letters, but you need to use all letters in the word).\"))"
   ]
  },
  {
   "cell_type": "code",
   "execution_count": null,
   "id": "0c32b0af-57ed-417d-8b65-18c5b14552fa",
   "metadata": {},
   "outputs": [],
   "source": []
  }
 ],
 "metadata": {
  "kernelspec": {
   "display_name": "Python 3 (ipykernel)",
   "language": "python",
   "name": "python3"
  },
  "language_info": {
   "codemirror_mode": {
    "name": "ipython",
    "version": 3
   },
   "file_extension": ".py",
   "mimetype": "text/x-python",
   "name": "python",
   "nbconvert_exporter": "python",
   "pygments_lexer": "ipython3",
   "version": "3.11.5"
  }
 },
 "nbformat": 4,
 "nbformat_minor": 5
}
