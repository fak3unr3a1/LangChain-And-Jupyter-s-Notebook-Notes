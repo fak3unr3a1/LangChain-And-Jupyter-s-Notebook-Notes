{
 "cells": [
  {
   "cell_type": "markdown",
   "id": "b385fdc6-cecc-4564-ab12-85f494a00781",
   "metadata": {},
   "source": [
    "# LangChain - QA with code"
   ]
  },
  {
   "cell_type": "markdown",
   "id": "e1335d52-d456-4ae3-9058-c0c135b1acee",
   "metadata": {
    "tags": []
   },
   "source": [
    "## Install dependencies"
   ]
  },
  {
   "cell_type": "code",
   "execution_count": 1,
   "id": "24b0f6cb-2820-4f7e-8081-4de2809a1807",
   "metadata": {
    "tags": []
   },
   "outputs": [
    {
     "name": "stdout",
     "output_type": "stream",
     "text": [
      "Requirement already satisfied: langchain>=0.0.218 in c:\\users\\cglyn\\appdata\\local\\programs\\python\\python311\\lib\\site-packages (from langchain[llms]>=0.0.218) (0.1.20)\n",
      "Requirement already satisfied: PyYAML>=5.3 in c:\\users\\cglyn\\appdata\\local\\programs\\python\\python311\\lib\\site-packages (from langchain>=0.0.218->langchain[llms]>=0.0.218) (6.0.1)\n",
      "Requirement already satisfied: SQLAlchemy<3,>=1.4 in c:\\users\\cglyn\\appdata\\local\\programs\\python\\python311\\lib\\site-packages (from langchain>=0.0.218->langchain[llms]>=0.0.218) (2.0.30)\n",
      "Requirement already satisfied: aiohttp<4.0.0,>=3.8.3 in c:\\users\\cglyn\\appdata\\local\\programs\\python\\python311\\lib\\site-packages (from langchain>=0.0.218->langchain[llms]>=0.0.218) (3.9.1)\n",
      "Requirement already satisfied: dataclasses-json<0.7,>=0.5.7 in c:\\users\\cglyn\\appdata\\local\\programs\\python\\python311\\lib\\site-packages (from langchain>=0.0.218->langchain[llms]>=0.0.218) (0.6.6)\n",
      "Requirement already satisfied: langchain-community<0.1,>=0.0.38 in c:\\users\\cglyn\\appdata\\local\\programs\\python\\python311\\lib\\site-packages (from langchain>=0.0.218->langchain[llms]>=0.0.218) (0.0.38)\n",
      "Requirement already satisfied: langchain-core<0.2.0,>=0.1.52 in c:\\users\\cglyn\\appdata\\local\\programs\\python\\python311\\lib\\site-packages (from langchain>=0.0.218->langchain[llms]>=0.0.218) (0.1.52)\n",
      "Requirement already satisfied: langchain-text-splitters<0.1,>=0.0.1 in c:\\users\\cglyn\\appdata\\local\\programs\\python\\python311\\lib\\site-packages (from langchain>=0.0.218->langchain[llms]>=0.0.218) (0.0.1)\n",
      "Requirement already satisfied: langsmith<0.2.0,>=0.1.17 in c:\\users\\cglyn\\appdata\\local\\programs\\python\\python311\\lib\\site-packages (from langchain>=0.0.218->langchain[llms]>=0.0.218) (0.1.56)\n",
      "Requirement already satisfied: numpy<2,>=1 in c:\\users\\cglyn\\appdata\\local\\programs\\python\\python311\\lib\\site-packages (from langchain>=0.0.218->langchain[llms]>=0.0.218) (1.26.4)\n",
      "Requirement already satisfied: pydantic<3,>=1 in c:\\users\\cglyn\\appdata\\local\\programs\\python\\python311\\lib\\site-packages (from langchain>=0.0.218->langchain[llms]>=0.0.218) (2.5.2)\n",
      "Requirement already satisfied: requests<3,>=2 in c:\\users\\cglyn\\appdata\\local\\programs\\python\\python311\\lib\\site-packages\\requests-2.31.0-py3.11.egg (from langchain>=0.0.218->langchain[llms]>=0.0.218) (2.31.0)\n",
      "Requirement already satisfied: tenacity<9.0.0,>=8.1.0 in c:\\users\\cglyn\\appdata\\local\\programs\\python\\python311\\lib\\site-packages (from langchain>=0.0.218->langchain[llms]>=0.0.218) (8.3.0)\n",
      "Requirement already satisfied: clarifai>=9.1.0 in c:\\users\\cglyn\\appdata\\local\\programs\\python\\python311\\lib\\site-packages (from langchain[llms]>=0.0.218) (10.3.3)\n",
      "Requirement already satisfied: cohere<6,>=4 in c:\\users\\cglyn\\appdata\\local\\programs\\python\\python311\\lib\\site-packages (from langchain[llms]>=0.0.218) (5.4.0)\n",
      "Requirement already satisfied: huggingface_hub<1,>=0 in c:\\users\\cglyn\\appdata\\local\\programs\\python\\python311\\lib\\site-packages (from langchain[llms]>=0.0.218) (0.19.4)\n",
      "Requirement already satisfied: manifest-ml<0.0.2,>=0.0.1 in c:\\users\\cglyn\\appdata\\local\\programs\\python\\python311\\lib\\site-packages (from langchain[llms]>=0.0.218) (0.0.1)\n",
      "Requirement already satisfied: nlpcloud<2,>=1 in c:\\users\\cglyn\\appdata\\local\\programs\\python\\python311\\lib\\site-packages (from langchain[llms]>=0.0.218) (1.1.46)\n",
      "Requirement already satisfied: openai<2 in c:\\users\\cglyn\\appdata\\local\\programs\\python\\python311\\lib\\site-packages (from langchain[llms]>=0.0.218) (1.28.1)\n",
      "Requirement already satisfied: openlm<0.0.6,>=0.0.5 in c:\\users\\cglyn\\appdata\\local\\programs\\python\\python311\\lib\\site-packages (from langchain[llms]>=0.0.218) (0.0.5)\n",
      "Requirement already satisfied: torch<3,>=1 in c:\\users\\cglyn\\appdata\\local\\programs\\python\\python311\\lib\\site-packages (from langchain[llms]>=0.0.218) (2.1.1)\n",
      "Requirement already satisfied: transformers<5,>=4 in c:\\users\\cglyn\\appdata\\local\\programs\\python\\python311\\lib\\site-packages (from langchain[llms]>=0.0.218) (4.40.2)\n",
      "Requirement already satisfied: attrs>=17.3.0 in c:\\users\\cglyn\\appdata\\local\\programs\\python\\python311\\lib\\site-packages (from aiohttp<4.0.0,>=3.8.3->langchain>=0.0.218->langchain[llms]>=0.0.218) (23.1.0)\n",
      "Requirement already satisfied: multidict<7.0,>=4.5 in c:\\users\\cglyn\\appdata\\local\\programs\\python\\python311\\lib\\site-packages (from aiohttp<4.0.0,>=3.8.3->langchain>=0.0.218->langchain[llms]>=0.0.218) (6.0.4)\n",
      "Requirement already satisfied: yarl<2.0,>=1.0 in c:\\users\\cglyn\\appdata\\local\\programs\\python\\python311\\lib\\site-packages (from aiohttp<4.0.0,>=3.8.3->langchain>=0.0.218->langchain[llms]>=0.0.218) (1.9.4)\n",
      "Requirement already satisfied: frozenlist>=1.1.1 in c:\\users\\cglyn\\appdata\\local\\programs\\python\\python311\\lib\\site-packages (from aiohttp<4.0.0,>=3.8.3->langchain>=0.0.218->langchain[llms]>=0.0.218) (1.4.0)\n",
      "Requirement already satisfied: aiosignal>=1.1.2 in c:\\users\\cglyn\\appdata\\local\\programs\\python\\python311\\lib\\site-packages (from aiohttp<4.0.0,>=3.8.3->langchain>=0.0.218->langchain[llms]>=0.0.218) (1.3.1)\n",
      "Requirement already satisfied: clarifai-grpc~=10.3.4 in c:\\users\\cglyn\\appdata\\local\\programs\\python\\python311\\lib\\site-packages (from clarifai>=9.1.0->langchain[llms]>=0.0.218) (10.3.4)\n",
      "Requirement already satisfied: tqdm>=4.65.0 in c:\\users\\cglyn\\appdata\\local\\programs\\python\\python311\\lib\\site-packages (from clarifai>=9.1.0->langchain[llms]>=0.0.218) (4.65.2)\n",
      "Requirement already satisfied: tritonclient>=2.34.0 in c:\\users\\cglyn\\appdata\\local\\programs\\python\\python311\\lib\\site-packages (from clarifai>=9.1.0->langchain[llms]>=0.0.218) (2.45.0)\n",
      "Requirement already satisfied: rich>=13.4.2 in c:\\users\\cglyn\\appdata\\local\\programs\\python\\python311\\lib\\site-packages (from clarifai>=9.1.0->langchain[llms]>=0.0.218) (13.4.2)\n",
      "Requirement already satisfied: schema==0.7.5 in c:\\users\\cglyn\\appdata\\local\\programs\\python\\python311\\lib\\site-packages (from clarifai>=9.1.0->langchain[llms]>=0.0.218) (0.7.5)\n",
      "Requirement already satisfied: Pillow>=9.5.0 in c:\\users\\cglyn\\appdata\\local\\programs\\python\\python311\\lib\\site-packages (from clarifai>=9.1.0->langchain[llms]>=0.0.218) (10.2.0)\n",
      "Requirement already satisfied: inquirerpy==0.3.4 in c:\\users\\cglyn\\appdata\\local\\programs\\python\\python311\\lib\\site-packages (from clarifai>=9.1.0->langchain[llms]>=0.0.218) (0.3.4)\n",
      "Requirement already satisfied: tabulate>=0.9.0 in c:\\users\\cglyn\\appdata\\local\\programs\\python\\python311\\lib\\site-packages (from clarifai>=9.1.0->langchain[llms]>=0.0.218) (0.9.0)\n",
      "Requirement already satisfied: pfzy<0.4.0,>=0.3.1 in c:\\users\\cglyn\\appdata\\local\\programs\\python\\python311\\lib\\site-packages (from inquirerpy==0.3.4->clarifai>=9.1.0->langchain[llms]>=0.0.218) (0.3.4)\n",
      "Requirement already satisfied: prompt-toolkit<4.0.0,>=3.0.1 in c:\\users\\cglyn\\appdata\\roaming\\python\\python311\\site-packages (from inquirerpy==0.3.4->clarifai>=9.1.0->langchain[llms]>=0.0.218) (3.0.41)\n",
      "Requirement already satisfied: contextlib2>=0.5.5 in c:\\users\\cglyn\\appdata\\local\\programs\\python\\python311\\lib\\site-packages (from schema==0.7.5->clarifai>=9.1.0->langchain[llms]>=0.0.218) (21.6.0)\n",
      "Requirement already satisfied: boto3<2.0.0,>=1.34.0 in c:\\users\\cglyn\\appdata\\local\\programs\\python\\python311\\lib\\site-packages (from cohere<6,>=4->langchain[llms]>=0.0.218) (1.34.103)\n",
      "Requirement already satisfied: fastavro<2.0.0,>=1.9.4 in c:\\users\\cglyn\\appdata\\local\\programs\\python\\python311\\lib\\site-packages (from cohere<6,>=4->langchain[llms]>=0.0.218) (1.9.4)\n",
      "Requirement already satisfied: httpx>=0.21.2 in c:\\users\\cglyn\\appdata\\local\\programs\\python\\python311\\lib\\site-packages (from cohere<6,>=4->langchain[llms]>=0.0.218) (0.27.0)\n",
      "Requirement already satisfied: httpx-sse<0.5.0,>=0.4.0 in c:\\users\\cglyn\\appdata\\local\\programs\\python\\python311\\lib\\site-packages (from cohere<6,>=4->langchain[llms]>=0.0.218) (0.4.0)\n",
      "Requirement already satisfied: tokenizers<0.20,>=0.19 in c:\\users\\cglyn\\appdata\\local\\programs\\python\\python311\\lib\\site-packages (from cohere<6,>=4->langchain[llms]>=0.0.218) (0.19.1)\n",
      "Requirement already satisfied: types-requests<3.0.0,>=2.0.0 in c:\\users\\cglyn\\appdata\\local\\programs\\python\\python311\\lib\\site-packages (from cohere<6,>=4->langchain[llms]>=0.0.218) (2.31.0.20240406)\n",
      "Requirement already satisfied: typing_extensions>=4.0.0 in c:\\users\\cglyn\\appdata\\local\\programs\\python\\python311\\lib\\site-packages (from cohere<6,>=4->langchain[llms]>=0.0.218) (4.9.0)\n",
      "Requirement already satisfied: marshmallow<4.0.0,>=3.18.0 in c:\\users\\cglyn\\appdata\\local\\programs\\python\\python311\\lib\\site-packages (from dataclasses-json<0.7,>=0.5.7->langchain>=0.0.218->langchain[llms]>=0.0.218) (3.21.2)\n",
      "Requirement already satisfied: typing-inspect<1,>=0.4.0 in c:\\users\\cglyn\\appdata\\local\\programs\\python\\python311\\lib\\site-packages (from dataclasses-json<0.7,>=0.5.7->langchain>=0.0.218->langchain[llms]>=0.0.218) (0.9.0)\n",
      "Requirement already satisfied: filelock in c:\\users\\cglyn\\appdata\\local\\programs\\python\\python311\\lib\\site-packages (from huggingface_hub<1,>=0->langchain[llms]>=0.0.218) (3.13.1)\n",
      "Requirement already satisfied: fsspec>=2023.5.0 in c:\\users\\cglyn\\appdata\\local\\programs\\python\\python311\\lib\\site-packages (from huggingface_hub<1,>=0->langchain[llms]>=0.0.218) (2023.12.1)\n",
      "Requirement already satisfied: packaging>=20.9 in c:\\users\\cglyn\\appdata\\local\\programs\\python\\python311\\lib\\site-packages (from huggingface_hub<1,>=0->langchain[llms]>=0.0.218) (23.2)\n",
      "Requirement already satisfied: jsonpatch<2.0,>=1.33 in c:\\users\\cglyn\\appdata\\local\\programs\\python\\python311\\lib\\site-packages (from langchain-core<0.2.0,>=0.1.52->langchain>=0.0.218->langchain[llms]>=0.0.218) (1.33)\n",
      "Requirement already satisfied: orjson<4.0.0,>=3.9.14 in c:\\users\\cglyn\\appdata\\local\\programs\\python\\python311\\lib\\site-packages (from langsmith<0.2.0,>=0.1.17->langchain>=0.0.218->langchain[llms]>=0.0.218) (3.10.1)\n",
      "Requirement already satisfied: dill>=0.3.5 in c:\\users\\cglyn\\appdata\\local\\programs\\python\\python311\\lib\\site-packages (from manifest-ml<0.0.2,>=0.0.1->langchain[llms]>=0.0.218) (0.3.8)\n",
      "Requirement already satisfied: redis>=4.3.1 in c:\\users\\cglyn\\appdata\\local\\programs\\python\\python311\\lib\\site-packages (from manifest-ml<0.0.2,>=0.0.1->langchain[llms]>=0.0.218) (5.0.4)\n",
      "Requirement already satisfied: sqlitedict>=2.0.0 in c:\\users\\cglyn\\appdata\\local\\programs\\python\\python311\\lib\\site-packages (from manifest-ml<0.0.2,>=0.0.1->langchain[llms]>=0.0.218) (2.1.0)\n",
      "Requirement already satisfied: anyio<5,>=3.5.0 in c:\\users\\cglyn\\appdata\\local\\programs\\python\\python311\\lib\\site-packages (from openai<2->langchain[llms]>=0.0.218) (3.7.1)\n",
      "Requirement already satisfied: distro<2,>=1.7.0 in c:\\users\\cglyn\\appdata\\local\\programs\\python\\python311\\lib\\site-packages (from openai<2->langchain[llms]>=0.0.218) (1.9.0)\n",
      "Requirement already satisfied: sniffio in c:\\users\\cglyn\\appdata\\local\\programs\\python\\python311\\lib\\site-packages (from openai<2->langchain[llms]>=0.0.218) (1.3.0)\n",
      "Requirement already satisfied: annotated-types>=0.4.0 in c:\\users\\cglyn\\appdata\\local\\programs\\python\\python311\\lib\\site-packages (from pydantic<3,>=1->langchain>=0.0.218->langchain[llms]>=0.0.218) (0.6.0)\n",
      "Requirement already satisfied: pydantic-core==2.14.5 in c:\\users\\cglyn\\appdata\\local\\programs\\python\\python311\\lib\\site-packages (from pydantic<3,>=1->langchain>=0.0.218->langchain[llms]>=0.0.218) (2.14.5)\n",
      "Requirement already satisfied: certifi>=2017.4.17 in c:\\users\\cglyn\\appdata\\local\\programs\\python\\python311\\lib\\site-packages (from requests<3,>=2->langchain>=0.0.218->langchain[llms]>=0.0.218) (2024.2.2)\n",
      "Requirement already satisfied: charset-normalizer<4,>=2 in c:\\users\\cglyn\\appdata\\local\\programs\\python\\python311\\lib\\site-packages (from requests<3,>=2->langchain>=0.0.218->langchain[llms]>=0.0.218) (3.3.2)\n",
      "Requirement already satisfied: idna<4,>=2.5 in c:\\users\\cglyn\\appdata\\local\\programs\\python\\python311\\lib\\site-packages (from requests<3,>=2->langchain>=0.0.218->langchain[llms]>=0.0.218) (3.6)\n",
      "Requirement already satisfied: urllib3<3,>=1.21.1 in c:\\users\\cglyn\\appdata\\local\\programs\\python\\python311\\lib\\site-packages (from requests<3,>=2->langchain>=0.0.218->langchain[llms]>=0.0.218) (2.2.1)\n",
      "Requirement already satisfied: greenlet!=0.4.17 in c:\\users\\cglyn\\appdata\\local\\programs\\python\\python311\\lib\\site-packages (from SQLAlchemy<3,>=1.4->langchain>=0.0.218->langchain[llms]>=0.0.218) (3.0.3)\n",
      "Requirement already satisfied: sympy in c:\\users\\cglyn\\appdata\\local\\programs\\python\\python311\\lib\\site-packages (from torch<3,>=1->langchain[llms]>=0.0.218) (1.12)\n",
      "Requirement already satisfied: networkx in c:\\users\\cglyn\\appdata\\local\\programs\\python\\python311\\lib\\site-packages (from torch<3,>=1->langchain[llms]>=0.0.218) (3.2.1)\n",
      "Requirement already satisfied: jinja2 in c:\\users\\cglyn\\appdata\\local\\programs\\python\\python311\\lib\\site-packages (from torch<3,>=1->langchain[llms]>=0.0.218) (3.1.2)\n",
      "Requirement already satisfied: regex!=2019.12.17 in c:\\users\\cglyn\\appdata\\local\\programs\\python\\python311\\lib\\site-packages (from transformers<5,>=4->langchain[llms]>=0.0.218) (2023.10.3)\n",
      "Requirement already satisfied: safetensors>=0.4.1 in c:\\users\\cglyn\\appdata\\local\\programs\\python\\python311\\lib\\site-packages (from transformers<5,>=4->langchain[llms]>=0.0.218) (0.4.3)\n",
      "Requirement already satisfied: botocore<1.35.0,>=1.34.103 in c:\\users\\cglyn\\appdata\\local\\programs\\python\\python311\\lib\\site-packages (from boto3<2.0.0,>=1.34.0->cohere<6,>=4->langchain[llms]>=0.0.218) (1.34.103)\n",
      "Requirement already satisfied: jmespath<2.0.0,>=0.7.1 in c:\\users\\cglyn\\appdata\\local\\programs\\python\\python311\\lib\\site-packages (from boto3<2.0.0,>=1.34.0->cohere<6,>=4->langchain[llms]>=0.0.218) (0.10.0)\n",
      "Requirement already satisfied: s3transfer<0.11.0,>=0.10.0 in c:\\users\\cglyn\\appdata\\local\\programs\\python\\python311\\lib\\site-packages (from boto3<2.0.0,>=1.34.0->cohere<6,>=4->langchain[llms]>=0.0.218) (0.10.1)\n",
      "Requirement already satisfied: grpcio>=1.44.0 in c:\\users\\cglyn\\appdata\\local\\programs\\python\\python311\\lib\\site-packages (from clarifai-grpc~=10.3.4->clarifai>=9.1.0->langchain[llms]>=0.0.218) (1.62.0)\n",
      "Requirement already satisfied: protobuf>=3.20.3 in c:\\users\\cglyn\\appdata\\local\\programs\\python\\python311\\lib\\site-packages (from clarifai-grpc~=10.3.4->clarifai>=9.1.0->langchain[llms]>=0.0.218) (4.25.1)\n",
      "Requirement already satisfied: googleapis-common-protos>=1.53.0 in c:\\users\\cglyn\\appdata\\local\\programs\\python\\python311\\lib\\site-packages (from clarifai-grpc~=10.3.4->clarifai>=9.1.0->langchain[llms]>=0.0.218) (1.62.0)\n",
      "Requirement already satisfied: httpcore==1.* in c:\\users\\cglyn\\appdata\\local\\programs\\python\\python311\\lib\\site-packages (from httpx>=0.21.2->cohere<6,>=4->langchain[llms]>=0.0.218) (1.0.5)\n",
      "Requirement already satisfied: h11<0.15,>=0.13 in c:\\users\\cglyn\\appdata\\local\\programs\\python\\python311\\lib\\site-packages (from httpcore==1.*->httpx>=0.21.2->cohere<6,>=4->langchain[llms]>=0.0.218) (0.14.0)\n",
      "Requirement already satisfied: jsonpointer>=1.9 in c:\\users\\cglyn\\appdata\\local\\programs\\python\\python311\\lib\\site-packages (from jsonpatch<2.0,>=1.33->langchain-core<0.2.0,>=0.1.52->langchain>=0.0.218->langchain[llms]>=0.0.218) (2.4)\n",
      "Requirement already satisfied: markdown-it-py>=2.2.0 in c:\\users\\cglyn\\appdata\\local\\programs\\python\\python311\\lib\\site-packages (from rich>=13.4.2->clarifai>=9.1.0->langchain[llms]>=0.0.218) (3.0.0)\n",
      "Requirement already satisfied: pygments<3.0.0,>=2.13.0 in c:\\users\\cglyn\\appdata\\local\\programs\\python\\python311\\lib\\site-packages (from rich>=13.4.2->clarifai>=9.1.0->langchain[llms]>=0.0.218) (2.17.2)\n",
      "Requirement already satisfied: colorama in c:\\users\\cglyn\\appdata\\local\\programs\\python\\python311\\lib\\site-packages (from tqdm>=4.65.0->clarifai>=9.1.0->langchain[llms]>=0.0.218) (0.4.6)\n",
      "Requirement already satisfied: python-rapidjson>=0.9.1 in c:\\users\\cglyn\\appdata\\local\\programs\\python\\python311\\lib\\site-packages (from tritonclient>=2.34.0->clarifai>=9.1.0->langchain[llms]>=0.0.218) (1.16)\n",
      "Requirement already satisfied: mypy-extensions>=0.3.0 in c:\\users\\cglyn\\appdata\\local\\programs\\python\\python311\\lib\\site-packages (from typing-inspect<1,>=0.4.0->dataclasses-json<0.7,>=0.5.7->langchain>=0.0.218->langchain[llms]>=0.0.218) (1.0.0)\n",
      "Requirement already satisfied: MarkupSafe>=2.0 in c:\\users\\cglyn\\appdata\\local\\programs\\python\\python311\\lib\\site-packages (from jinja2->torch<3,>=1->langchain[llms]>=0.0.218) (2.1.3)\n",
      "Requirement already satisfied: mpmath>=0.19 in c:\\users\\cglyn\\appdata\\local\\programs\\python\\python311\\lib\\site-packages (from sympy->torch<3,>=1->langchain[llms]>=0.0.218) (1.3.0)\n",
      "Requirement already satisfied: python-dateutil<3.0.0,>=2.1 in c:\\users\\cglyn\\appdata\\local\\programs\\python\\python311\\lib\\site-packages (from botocore<1.35.0,>=1.34.103->boto3<2.0.0,>=1.34.0->cohere<6,>=4->langchain[llms]>=0.0.218) (2.8.2)\n",
      "Requirement already satisfied: mdurl~=0.1 in c:\\users\\cglyn\\appdata\\local\\programs\\python\\python311\\lib\\site-packages (from markdown-it-py>=2.2.0->rich>=13.4.2->clarifai>=9.1.0->langchain[llms]>=0.0.218) (0.1.2)\n",
      "Requirement already satisfied: wcwidth in c:\\users\\cglyn\\appdata\\local\\programs\\python\\python311\\lib\\site-packages (from prompt-toolkit<4.0.0,>=3.0.1->inquirerpy==0.3.4->clarifai>=9.1.0->langchain[llms]>=0.0.218) (0.2.12)\n",
      "Requirement already satisfied: six>=1.5 in c:\\users\\cglyn\\appdata\\local\\programs\\python\\python311\\lib\\site-packages (from python-dateutil<3.0.0,>=2.1->botocore<1.35.0,>=1.34.103->boto3<2.0.0,>=1.34.0->cohere<6,>=4->langchain[llms]>=0.0.218) (1.16.0)\n",
      "Note: you may need to restart the kernel to use updated packages.\n"
     ]
    },
    {
     "name": "stderr",
     "output_type": "stream",
     "text": [
      "DEPRECATION: Loading egg at c:\\users\\cglyn\\appdata\\local\\programs\\python\\python311\\lib\\site-packages\\requests-2.31.0-py3.11.egg is deprecated. pip 24.3 will enforce this behaviour change. A possible replacement is to use pip for package installation.. Discussion can be found at https://github.com/pypa/pip/issues/12330\n",
      "DEPRECATION: Loading egg at c:\\users\\cglyn\\appdata\\local\\programs\\python\\python311\\lib\\site-packages\\websockets-11.0-py3.11.egg is deprecated. pip 24.3 will enforce this behaviour change. A possible replacement is to use pip for package installation.. Discussion can be found at https://github.com/pypa/pip/issues/12330\n",
      "DEPRECATION: torchsde 0.2.5 has a non-standard dependency specifier numpy>=1.19.*; python_version >= \"3.7\". pip 24.1 will enforce this behaviour change. A possible replacement is to upgrade to a newer version of torchsde or contact the author to suggest that they release a version with a conforming dependency specifiers. Discussion can be found at https://github.com/pypa/pip/issues/12063\n"
     ]
    },
    {
     "name": "stdout",
     "output_type": "stream",
     "text": [
      "Requirement already satisfied: chromadb in c:\\users\\cglyn\\appdata\\local\\programs\\python\\python311\\lib\\site-packages (0.4.24)Note: you may need to restart the kernel to use updated packages.\n",
      "\n",
      "Requirement already satisfied: build>=1.0.3 in c:\\users\\cglyn\\appdata\\local\\programs\\python\\python311\\lib\\site-packages (from chromadb) (1.2.1)\n",
      "Requirement already satisfied: requests>=2.28 in c:\\users\\cglyn\\appdata\\local\\programs\\python\\python311\\lib\\site-packages\\requests-2.31.0-py3.11.egg (from chromadb) (2.31.0)\n",
      "Requirement already satisfied: pydantic>=1.9 in c:\\users\\cglyn\\appdata\\local\\programs\\python\\python311\\lib\\site-packages (from chromadb) (2.5.2)\n",
      "Requirement already satisfied: chroma-hnswlib==0.7.3 in c:\\users\\cglyn\\appdata\\local\\programs\\python\\python311\\lib\\site-packages (from chromadb) (0.7.3)\n",
      "Requirement already satisfied: fastapi>=0.95.2 in c:\\users\\cglyn\\appdata\\local\\programs\\python\\python311\\lib\\site-packages (from chromadb) (0.104.1)\n",
      "Requirement already satisfied: uvicorn>=0.18.3 in c:\\users\\cglyn\\appdata\\local\\programs\\python\\python311\\lib\\site-packages (from uvicorn[standard]>=0.18.3->chromadb) (0.23.2)\n",
      "Requirement already satisfied: numpy>=1.22.5 in c:\\users\\cglyn\\appdata\\local\\programs\\python\\python311\\lib\\site-packages (from chromadb) (1.26.4)\n",
      "Requirement already satisfied: posthog>=2.4.0 in c:\\users\\cglyn\\appdata\\local\\programs\\python\\python311\\lib\\site-packages (from chromadb) (3.5.0)\n",
      "Requirement already satisfied: typing-extensions>=4.5.0 in c:\\users\\cglyn\\appdata\\local\\programs\\python\\python311\\lib\\site-packages (from chromadb) (4.9.0)\n",
      "Requirement already satisfied: pulsar-client>=3.1.0 in c:\\users\\cglyn\\appdata\\local\\programs\\python\\python311\\lib\\site-packages (from chromadb) (3.5.0)\n",
      "Requirement already satisfied: onnxruntime>=1.14.1 in c:\\users\\cglyn\\appdata\\local\\programs\\python\\python311\\lib\\site-packages (from chromadb) (1.17.3)\n",
      "Requirement already satisfied: opentelemetry-api>=1.2.0 in c:\\users\\cglyn\\appdata\\local\\programs\\python\\python311\\lib\\site-packages (from chromadb) (1.24.0)\n",
      "Requirement already satisfied: opentelemetry-exporter-otlp-proto-grpc>=1.2.0 in c:\\users\\cglyn\\appdata\\local\\programs\\python\\python311\\lib\\site-packages (from chromadb) (1.24.0)\n",
      "Requirement already satisfied: opentelemetry-instrumentation-fastapi>=0.41b0 in c:\\users\\cglyn\\appdata\\local\\programs\\python\\python311\\lib\\site-packages (from chromadb) (0.45b0)\n",
      "Requirement already satisfied: opentelemetry-sdk>=1.2.0 in c:\\users\\cglyn\\appdata\\local\\programs\\python\\python311\\lib\\site-packages (from chromadb) (1.24.0)\n",
      "Requirement already satisfied: tokenizers>=0.13.2 in c:\\users\\cglyn\\appdata\\local\\programs\\python\\python311\\lib\\site-packages (from chromadb) (0.19.1)\n",
      "Requirement already satisfied: pypika>=0.48.9 in c:\\users\\cglyn\\appdata\\local\\programs\\python\\python311\\lib\\site-packages (from chromadb) (0.48.9)\n",
      "Requirement already satisfied: tqdm>=4.65.0 in c:\\users\\cglyn\\appdata\\local\\programs\\python\\python311\\lib\\site-packages (from chromadb) (4.65.2)\n",
      "Requirement already satisfied: overrides>=7.3.1 in c:\\users\\cglyn\\appdata\\local\\programs\\python\\python311\\lib\\site-packages (from chromadb) (7.7.0)\n",
      "Requirement already satisfied: importlib-resources in c:\\users\\cglyn\\appdata\\local\\programs\\python\\python311\\lib\\site-packages (from chromadb) (6.1.1)\n",
      "Requirement already satisfied: grpcio>=1.58.0 in c:\\users\\cglyn\\appdata\\local\\programs\\python\\python311\\lib\\site-packages (from chromadb) (1.62.0)\n",
      "Requirement already satisfied: bcrypt>=4.0.1 in c:\\users\\cglyn\\appdata\\local\\programs\\python\\python311\\lib\\site-packages (from chromadb) (4.1.3)\n",
      "Requirement already satisfied: typer>=0.9.0 in c:\\users\\cglyn\\appdata\\local\\programs\\python\\python311\\lib\\site-packages (from chromadb) (0.9.0)\n",
      "Requirement already satisfied: kubernetes>=28.1.0 in c:\\users\\cglyn\\appdata\\local\\programs\\python\\python311\\lib\\site-packages (from chromadb) (29.0.0)\n",
      "Requirement already satisfied: tenacity>=8.2.3 in c:\\users\\cglyn\\appdata\\local\\programs\\python\\python311\\lib\\site-packages (from chromadb) (8.3.0)\n",
      "Requirement already satisfied: PyYAML>=6.0.0 in c:\\users\\cglyn\\appdata\\local\\programs\\python\\python311\\lib\\site-packages (from chromadb) (6.0.1)\n",
      "Requirement already satisfied: mmh3>=4.0.1 in c:\\users\\cglyn\\appdata\\local\\programs\\python\\python311\\lib\\site-packages (from chromadb) (4.1.0)\n",
      "Requirement already satisfied: orjson>=3.9.12 in c:\\users\\cglyn\\appdata\\local\\programs\\python\\python311\\lib\\site-packages (from chromadb) (3.10.1)\n",
      "Requirement already satisfied: packaging>=19.1 in c:\\users\\cglyn\\appdata\\local\\programs\\python\\python311\\lib\\site-packages (from build>=1.0.3->chromadb) (23.2)\n",
      "Requirement already satisfied: pyproject_hooks in c:\\users\\cglyn\\appdata\\local\\programs\\python\\python311\\lib\\site-packages (from build>=1.0.3->chromadb) (1.1.0)\n",
      "Requirement already satisfied: colorama in c:\\users\\cglyn\\appdata\\local\\programs\\python\\python311\\lib\\site-packages (from build>=1.0.3->chromadb) (0.4.6)\n",
      "Requirement already satisfied: anyio<4.0.0,>=3.7.1 in c:\\users\\cglyn\\appdata\\local\\programs\\python\\python311\\lib\\site-packages (from fastapi>=0.95.2->chromadb) (3.7.1)\n",
      "Requirement already satisfied: starlette<0.28.0,>=0.27.0 in c:\\users\\cglyn\\appdata\\local\\programs\\python\\python311\\lib\\site-packages (from fastapi>=0.95.2->chromadb) (0.27.0)\n",
      "Requirement already satisfied: certifi>=14.05.14 in c:\\users\\cglyn\\appdata\\local\\programs\\python\\python311\\lib\\site-packages (from kubernetes>=28.1.0->chromadb) (2024.2.2)\n",
      "Requirement already satisfied: six>=1.9.0 in c:\\users\\cglyn\\appdata\\local\\programs\\python\\python311\\lib\\site-packages (from kubernetes>=28.1.0->chromadb) (1.16.0)\n",
      "Requirement already satisfied: python-dateutil>=2.5.3 in c:\\users\\cglyn\\appdata\\local\\programs\\python\\python311\\lib\\site-packages (from kubernetes>=28.1.0->chromadb) (2.8.2)\n",
      "Requirement already satisfied: google-auth>=1.0.1 in c:\\users\\cglyn\\appdata\\local\\programs\\python\\python311\\lib\\site-packages (from kubernetes>=28.1.0->chromadb) (2.26.2)\n",
      "Requirement already satisfied: websocket-client!=0.40.0,!=0.41.*,!=0.42.*,>=0.32.0 in c:\\users\\cglyn\\appdata\\local\\programs\\python\\python311\\lib\\site-packages (from kubernetes>=28.1.0->chromadb) (1.8.0)\n",
      "Requirement already satisfied: requests-oauthlib in c:\\users\\cglyn\\appdata\\local\\programs\\python\\python311\\lib\\site-packages (from kubernetes>=28.1.0->chromadb) (2.0.0)\n",
      "Requirement already satisfied: oauthlib>=3.2.2 in c:\\users\\cglyn\\appdata\\local\\programs\\python\\python311\\lib\\site-packages (from kubernetes>=28.1.0->chromadb) (3.2.2)\n",
      "Requirement already satisfied: urllib3>=1.24.2 in c:\\users\\cglyn\\appdata\\local\\programs\\python\\python311\\lib\\site-packages (from kubernetes>=28.1.0->chromadb) (2.2.1)\n",
      "Requirement already satisfied: coloredlogs in c:\\users\\cglyn\\appdata\\local\\programs\\python\\python311\\lib\\site-packages (from onnxruntime>=1.14.1->chromadb) (15.0.1)\n",
      "Requirement already satisfied: flatbuffers in c:\\users\\cglyn\\appdata\\local\\programs\\python\\python311\\lib\\site-packages (from onnxruntime>=1.14.1->chromadb) (24.3.25)\n",
      "Requirement already satisfied: protobuf in c:\\users\\cglyn\\appdata\\local\\programs\\python\\python311\\lib\\site-packages (from onnxruntime>=1.14.1->chromadb) (4.25.1)\n",
      "Requirement already satisfied: sympy in c:\\users\\cglyn\\appdata\\local\\programs\\python\\python311\\lib\\site-packages (from onnxruntime>=1.14.1->chromadb) (1.12)\n",
      "Requirement already satisfied: deprecated>=1.2.6 in c:\\users\\cglyn\\appdata\\local\\programs\\python\\python311\\lib\\site-packages (from opentelemetry-api>=1.2.0->chromadb) (1.2.14)\n",
      "Requirement already satisfied: importlib-metadata<=7.0,>=6.0 in c:\\users\\cglyn\\appdata\\local\\programs\\python\\python311\\lib\\site-packages (from opentelemetry-api>=1.2.0->chromadb) (7.0.0)\n",
      "Requirement already satisfied: googleapis-common-protos~=1.52 in c:\\users\\cglyn\\appdata\\local\\programs\\python\\python311\\lib\\site-packages (from opentelemetry-exporter-otlp-proto-grpc>=1.2.0->chromadb) (1.62.0)\n",
      "Requirement already satisfied: opentelemetry-exporter-otlp-proto-common==1.24.0 in c:\\users\\cglyn\\appdata\\local\\programs\\python\\python311\\lib\\site-packages (from opentelemetry-exporter-otlp-proto-grpc>=1.2.0->chromadb) (1.24.0)\n",
      "Requirement already satisfied: opentelemetry-proto==1.24.0 in c:\\users\\cglyn\\appdata\\local\\programs\\python\\python311\\lib\\site-packages (from opentelemetry-exporter-otlp-proto-grpc>=1.2.0->chromadb) (1.24.0)\n",
      "Requirement already satisfied: opentelemetry-instrumentation-asgi==0.45b0 in c:\\users\\cglyn\\appdata\\local\\programs\\python\\python311\\lib\\site-packages (from opentelemetry-instrumentation-fastapi>=0.41b0->chromadb) (0.45b0)\n",
      "Requirement already satisfied: opentelemetry-instrumentation==0.45b0 in c:\\users\\cglyn\\appdata\\local\\programs\\python\\python311\\lib\\site-packages (from opentelemetry-instrumentation-fastapi>=0.41b0->chromadb) (0.45b0)\n",
      "Requirement already satisfied: opentelemetry-semantic-conventions==0.45b0 in c:\\users\\cglyn\\appdata\\local\\programs\\python\\python311\\lib\\site-packages (from opentelemetry-instrumentation-fastapi>=0.41b0->chromadb) (0.45b0)\n",
      "Requirement already satisfied: opentelemetry-util-http==0.45b0 in c:\\users\\cglyn\\appdata\\local\\programs\\python\\python311\\lib\\site-packages (from opentelemetry-instrumentation-fastapi>=0.41b0->chromadb) (0.45b0)\n",
      "Requirement already satisfied: setuptools>=16.0 in c:\\users\\cglyn\\appdata\\local\\programs\\python\\python311\\lib\\site-packages (from opentelemetry-instrumentation==0.45b0->opentelemetry-instrumentation-fastapi>=0.41b0->chromadb) (60.2.0)\n",
      "Requirement already satisfied: wrapt<2.0.0,>=1.0.0 in c:\\users\\cglyn\\appdata\\local\\programs\\python\\python311\\lib\\site-packages (from opentelemetry-instrumentation==0.45b0->opentelemetry-instrumentation-fastapi>=0.41b0->chromadb) (1.16.0)\n",
      "Requirement already satisfied: asgiref~=3.0 in c:\\users\\cglyn\\appdata\\local\\programs\\python\\python311\\lib\\site-packages (from opentelemetry-instrumentation-asgi==0.45b0->opentelemetry-instrumentation-fastapi>=0.41b0->chromadb) (3.7.2)\n",
      "Requirement already satisfied: monotonic>=1.5 in c:\\users\\cglyn\\appdata\\local\\programs\\python\\python311\\lib\\site-packages (from posthog>=2.4.0->chromadb) (1.6)\n",
      "Requirement already satisfied: backoff>=1.10.0 in c:\\users\\cglyn\\appdata\\local\\programs\\python\\python311\\lib\\site-packages (from posthog>=2.4.0->chromadb) (2.2.1)\n",
      "Requirement already satisfied: annotated-types>=0.4.0 in c:\\users\\cglyn\\appdata\\local\\programs\\python\\python311\\lib\\site-packages (from pydantic>=1.9->chromadb) (0.6.0)\n",
      "Requirement already satisfied: pydantic-core==2.14.5 in c:\\users\\cglyn\\appdata\\local\\programs\\python\\python311\\lib\\site-packages (from pydantic>=1.9->chromadb) (2.14.5)\n",
      "Requirement already satisfied: charset-normalizer<4,>=2 in c:\\users\\cglyn\\appdata\\local\\programs\\python\\python311\\lib\\site-packages (from requests>=2.28->chromadb) (3.3.2)\n",
      "Requirement already satisfied: idna<4,>=2.5 in c:\\users\\cglyn\\appdata\\local\\programs\\python\\python311\\lib\\site-packages (from requests>=2.28->chromadb) (3.6)\n",
      "Requirement already satisfied: huggingface-hub<1.0,>=0.16.4 in c:\\users\\cglyn\\appdata\\local\\programs\\python\\python311\\lib\\site-packages (from tokenizers>=0.13.2->chromadb) (0.19.4)\n",
      "Requirement already satisfied: click<9.0.0,>=7.1.1 in c:\\users\\cglyn\\appdata\\local\\programs\\python\\python311\\lib\\site-packages (from typer>=0.9.0->chromadb) (8.1.7)\n",
      "Requirement already satisfied: h11>=0.8 in c:\\users\\cglyn\\appdata\\local\\programs\\python\\python311\\lib\\site-packages (from uvicorn>=0.18.3->uvicorn[standard]>=0.18.3->chromadb) (0.14.0)\n",
      "Requirement already satisfied: httptools>=0.5.0 in c:\\users\\cglyn\\appdata\\local\\programs\\python\\python311\\lib\\site-packages (from uvicorn[standard]>=0.18.3->chromadb) (0.6.1)\n",
      "Requirement already satisfied: python-dotenv>=0.13 in c:\\users\\cglyn\\appdata\\local\\programs\\python\\python311\\lib\\site-packages (from uvicorn[standard]>=0.18.3->chromadb) (1.0.1)\n",
      "Requirement already satisfied: watchfiles>=0.13 in c:\\users\\cglyn\\appdata\\local\\programs\\python\\python311\\lib\\site-packages (from uvicorn[standard]>=0.18.3->chromadb) (0.21.0)\n",
      "Requirement already satisfied: websockets>=10.4 in c:\\users\\cglyn\\appdata\\local\\programs\\python\\python311\\lib\\site-packages\\websockets-11.0-py3.11.egg (from uvicorn[standard]>=0.18.3->chromadb) (11.0)\n",
      "Requirement already satisfied: sniffio>=1.1 in c:\\users\\cglyn\\appdata\\local\\programs\\python\\python311\\lib\\site-packages (from anyio<4.0.0,>=3.7.1->fastapi>=0.95.2->chromadb) (1.3.0)\n",
      "Requirement already satisfied: cachetools<6.0,>=2.0.0 in c:\\users\\cglyn\\appdata\\local\\programs\\python\\python311\\lib\\site-packages (from google-auth>=1.0.1->kubernetes>=28.1.0->chromadb) (5.3.2)\n",
      "Requirement already satisfied: pyasn1-modules>=0.2.1 in c:\\users\\cglyn\\appdata\\local\\programs\\python\\python311\\lib\\site-packages (from google-auth>=1.0.1->kubernetes>=28.1.0->chromadb) (0.3.0)\n",
      "Requirement already satisfied: rsa<5,>=3.1.4 in c:\\users\\cglyn\\appdata\\local\\programs\\python\\python311\\lib\\site-packages (from google-auth>=1.0.1->kubernetes>=28.1.0->chromadb) (4.9)\n",
      "Requirement already satisfied: filelock in c:\\users\\cglyn\\appdata\\local\\programs\\python\\python311\\lib\\site-packages (from huggingface-hub<1.0,>=0.16.4->tokenizers>=0.13.2->chromadb) (3.13.1)\n",
      "Requirement already satisfied: fsspec>=2023.5.0 in c:\\users\\cglyn\\appdata\\local\\programs\\python\\python311\\lib\\site-packages (from huggingface-hub<1.0,>=0.16.4->tokenizers>=0.13.2->chromadb) (2023.12.1)\n",
      "Requirement already satisfied: zipp>=0.5 in c:\\users\\cglyn\\appdata\\local\\programs\\python\\python311\\lib\\site-packages (from importlib-metadata<=7.0,>=6.0->opentelemetry-api>=1.2.0->chromadb) (3.17.0)\n",
      "Requirement already satisfied: humanfriendly>=9.1 in c:\\users\\cglyn\\appdata\\local\\programs\\python\\python311\\lib\\site-packages (from coloredlogs->onnxruntime>=1.14.1->chromadb) (10.0)\n",
      "Requirement already satisfied: mpmath>=0.19 in c:\\users\\cglyn\\appdata\\local\\programs\\python\\python311\\lib\\site-packages (from sympy->onnxruntime>=1.14.1->chromadb) (1.3.0)\n",
      "Requirement already satisfied: pyreadline3 in c:\\users\\cglyn\\appdata\\local\\programs\\python\\python311\\lib\\site-packages (from humanfriendly>=9.1->coloredlogs->onnxruntime>=1.14.1->chromadb) (3.4.1)\n",
      "Requirement already satisfied: pyasn1<0.6.0,>=0.4.6 in c:\\users\\cglyn\\appdata\\local\\programs\\python\\python311\\lib\\site-packages (from pyasn1-modules>=0.2.1->google-auth>=1.0.1->kubernetes>=28.1.0->chromadb) (0.5.1)\n"
     ]
    },
    {
     "name": "stderr",
     "output_type": "stream",
     "text": [
      "DEPRECATION: Loading egg at c:\\users\\cglyn\\appdata\\local\\programs\\python\\python311\\lib\\site-packages\\requests-2.31.0-py3.11.egg is deprecated. pip 24.3 will enforce this behaviour change. A possible replacement is to use pip for package installation.. Discussion can be found at https://github.com/pypa/pip/issues/12330\n",
      "DEPRECATION: Loading egg at c:\\users\\cglyn\\appdata\\local\\programs\\python\\python311\\lib\\site-packages\\websockets-11.0-py3.11.egg is deprecated. pip 24.3 will enforce this behaviour change. A possible replacement is to use pip for package installation.. Discussion can be found at https://github.com/pypa/pip/issues/12330\n",
      "DEPRECATION: torchsde 0.2.5 has a non-standard dependency specifier numpy>=1.19.*; python_version >= \"3.7\". pip 24.1 will enforce this behaviour change. A possible replacement is to upgrade to a newer version of torchsde or contact the author to suggest that they release a version with a conforming dependency specifiers. Discussion can be found at https://github.com/pypa/pip/issues/12063\n"
     ]
    },
    {
     "name": "stdout",
     "output_type": "stream",
     "text": [
      "Requirement already satisfied: sentence_transformers in c:\\users\\cglyn\\appdata\\local\\programs\\python\\python311\\lib\\site-packages (2.7.0)\n",
      "Requirement already satisfied: transformers<5.0.0,>=4.34.0 in c:\\users\\cglyn\\appdata\\local\\programs\\python\\python311\\lib\\site-packages (from sentence_transformers) (4.40.2)\n",
      "Requirement already satisfied: tqdm in c:\\users\\cglyn\\appdata\\local\\programs\\python\\python311\\lib\\site-packages (from sentence_transformers) (4.65.2)\n",
      "Requirement already satisfied: torch>=1.11.0 in c:\\users\\cglyn\\appdata\\local\\programs\\python\\python311\\lib\\site-packages (from sentence_transformers) (2.1.1)\n",
      "Requirement already satisfied: numpy in c:\\users\\cglyn\\appdata\\local\\programs\\python\\python311\\lib\\site-packages (from sentence_transformers) (1.26.4)\n",
      "Requirement already satisfied: scikit-learn in c:\\users\\cglyn\\appdata\\local\\programs\\python\\python311\\lib\\site-packages (from sentence_transformers) (1.4.1.post1)\n",
      "Requirement already satisfied: scipy in c:\\users\\cglyn\\appdata\\local\\programs\\python\\python311\\lib\\site-packages (from sentence_transformers) (1.12.0)\n",
      "Requirement already satisfied: huggingface-hub>=0.15.1 in c:\\users\\cglyn\\appdata\\local\\programs\\python\\python311\\lib\\site-packages (from sentence_transformers) (0.19.4)\n",
      "Requirement already satisfied: Pillow in c:\\users\\cglyn\\appdata\\local\\programs\\python\\python311\\lib\\site-packages (from sentence_transformers) (10.2.0)\n",
      "Requirement already satisfied: filelock in c:\\users\\cglyn\\appdata\\local\\programs\\python\\python311\\lib\\site-packages (from huggingface-hub>=0.15.1->sentence_transformers) (3.13.1)\n",
      "Requirement already satisfied: fsspec>=2023.5.0 in c:\\users\\cglyn\\appdata\\local\\programs\\python\\python311\\lib\\site-packages (from huggingface-hub>=0.15.1->sentence_transformers) (2023.12.1)\n",
      "Requirement already satisfied: requests in c:\\users\\cglyn\\appdata\\local\\programs\\python\\python311\\lib\\site-packages\\requests-2.31.0-py3.11.egg (from huggingface-hub>=0.15.1->sentence_transformers) (2.31.0)\n",
      "Requirement already satisfied: pyyaml>=5.1 in c:\\users\\cglyn\\appdata\\local\\programs\\python\\python311\\lib\\site-packages (from huggingface-hub>=0.15.1->sentence_transformers) (6.0.1)\n",
      "Requirement already satisfied: typing-extensions>=3.7.4.3 in c:\\users\\cglyn\\appdata\\local\\programs\\python\\python311\\lib\\site-packages (from huggingface-hub>=0.15.1->sentence_transformers) (4.9.0)\n",
      "Requirement already satisfied: packaging>=20.9 in c:\\users\\cglyn\\appdata\\local\\programs\\python\\python311\\lib\\site-packages (from huggingface-hub>=0.15.1->sentence_transformers) (23.2)\n",
      "Requirement already satisfied: sympy in c:\\users\\cglyn\\appdata\\local\\programs\\python\\python311\\lib\\site-packages (from torch>=1.11.0->sentence_transformers) (1.12)\n",
      "Requirement already satisfied: networkx in c:\\users\\cglyn\\appdata\\local\\programs\\python\\python311\\lib\\site-packages (from torch>=1.11.0->sentence_transformers) (3.2.1)\n",
      "Requirement already satisfied: jinja2 in c:\\users\\cglyn\\appdata\\local\\programs\\python\\python311\\lib\\site-packages (from torch>=1.11.0->sentence_transformers) (3.1.2)\n",
      "Requirement already satisfied: colorama in c:\\users\\cglyn\\appdata\\local\\programs\\python\\python311\\lib\\site-packages (from tqdm->sentence_transformers) (0.4.6)\n",
      "Requirement already satisfied: regex!=2019.12.17 in c:\\users\\cglyn\\appdata\\local\\programs\\python\\python311\\lib\\site-packages (from transformers<5.0.0,>=4.34.0->sentence_transformers) (2023.10.3)\n",
      "Requirement already satisfied: tokenizers<0.20,>=0.19 in c:\\users\\cglyn\\appdata\\local\\programs\\python\\python311\\lib\\site-packages (from transformers<5.0.0,>=4.34.0->sentence_transformers) (0.19.1)\n",
      "Requirement already satisfied: safetensors>=0.4.1 in c:\\users\\cglyn\\appdata\\local\\programs\\python\\python311\\lib\\site-packages (from transformers<5.0.0,>=4.34.0->sentence_transformers) (0.4.3)\n",
      "Requirement already satisfied: joblib>=1.2.0 in c:\\users\\cglyn\\appdata\\local\\programs\\python\\python311\\lib\\site-packages (from scikit-learn->sentence_transformers) (1.3.2)\n",
      "Requirement already satisfied: threadpoolctl>=2.0.0 in c:\\users\\cglyn\\appdata\\local\\programs\\python\\python311\\lib\\site-packages (from scikit-learn->sentence_transformers) (3.3.0)\n",
      "Requirement already satisfied: MarkupSafe>=2.0 in c:\\users\\cglyn\\appdata\\local\\programs\\python\\python311\\lib\\site-packages (from jinja2->torch>=1.11.0->sentence_transformers) (2.1.3)\n",
      "Requirement already satisfied: certifi>=2017.4.17 in c:\\users\\cglyn\\appdata\\local\\programs\\python\\python311\\lib\\site-packages (from requests->huggingface-hub>=0.15.1->sentence_transformers) (2024.2.2)\n",
      "Requirement already satisfied: charset-normalizer<4,>=2 in c:\\users\\cglyn\\appdata\\local\\programs\\python\\python311\\lib\\site-packages (from requests->huggingface-hub>=0.15.1->sentence_transformers) (3.3.2)\n",
      "Requirement already satisfied: idna<4,>=2.5 in c:\\users\\cglyn\\appdata\\local\\programs\\python\\python311\\lib\\site-packages (from requests->huggingface-hub>=0.15.1->sentence_transformers) (3.6)\n",
      "Requirement already satisfied: urllib3<3,>=1.21.1 in c:\\users\\cglyn\\appdata\\local\\programs\\python\\python311\\lib\\site-packages (from requests->huggingface-hub>=0.15.1->sentence_transformers) (2.2.1)\n",
      "Requirement already satisfied: mpmath>=0.19 in c:\\users\\cglyn\\appdata\\local\\programs\\python\\python311\\lib\\site-packages (from sympy->torch>=1.11.0->sentence_transformers) (1.3.0)\n",
      "Note: you may need to restart the kernel to use updated packages.\n"
     ]
    },
    {
     "name": "stderr",
     "output_type": "stream",
     "text": [
      "DEPRECATION: Loading egg at c:\\users\\cglyn\\appdata\\local\\programs\\python\\python311\\lib\\site-packages\\requests-2.31.0-py3.11.egg is deprecated. pip 24.3 will enforce this behaviour change. A possible replacement is to use pip for package installation.. Discussion can be found at https://github.com/pypa/pip/issues/12330\n",
      "DEPRECATION: Loading egg at c:\\users\\cglyn\\appdata\\local\\programs\\python\\python311\\lib\\site-packages\\websockets-11.0-py3.11.egg is deprecated. pip 24.3 will enforce this behaviour change. A possible replacement is to use pip for package installation.. Discussion can be found at https://github.com/pypa/pip/issues/12330\n",
      "DEPRECATION: torchsde 0.2.5 has a non-standard dependency specifier numpy>=1.19.*; python_version >= \"3.7\". pip 24.1 will enforce this behaviour change. A possible replacement is to upgrade to a newer version of torchsde or contact the author to suggest that they release a version with a conforming dependency specifiers. Discussion can be found at https://github.com/pypa/pip/issues/12063\n"
     ]
    },
    {
     "name": "stdout",
     "output_type": "stream",
     "text": [
      "Requirement already satisfied: tiktoken in c:\\users\\cglyn\\appdata\\local\\programs\\python\\python311\\lib\\site-packages (0.6.0)\n",
      "Requirement already satisfied: regex>=2022.1.18 in c:\\users\\cglyn\\appdata\\local\\programs\\python\\python311\\lib\\site-packages (from tiktoken) (2023.10.3)\n",
      "Requirement already satisfied: requests>=2.26.0 in c:\\users\\cglyn\\appdata\\local\\programs\\python\\python311\\lib\\site-packages\\requests-2.31.0-py3.11.egg (from tiktoken) (2.31.0)\n",
      "Requirement already satisfied: certifi>=2017.4.17 in c:\\users\\cglyn\\appdata\\local\\programs\\python\\python311\\lib\\site-packages (from requests>=2.26.0->tiktoken) (2024.2.2)\n",
      "Requirement already satisfied: charset-normalizer<4,>=2 in c:\\users\\cglyn\\appdata\\local\\programs\\python\\python311\\lib\\site-packages (from requests>=2.26.0->tiktoken) (3.3.2)\n",
      "Requirement already satisfied: idna<4,>=2.5 in c:\\users\\cglyn\\appdata\\local\\programs\\python\\python311\\lib\\site-packages (from requests>=2.26.0->tiktoken) (3.6)\n",
      "Requirement already satisfied: urllib3<3,>=1.21.1 in c:\\users\\cglyn\\appdata\\local\\programs\\python\\python311\\lib\\site-packages (from requests>=2.26.0->tiktoken) (2.2.1)\n",
      "Note: you may need to restart the kernel to use updated packages.\n"
     ]
    },
    {
     "name": "stderr",
     "output_type": "stream",
     "text": [
      "DEPRECATION: Loading egg at c:\\users\\cglyn\\appdata\\local\\programs\\python\\python311\\lib\\site-packages\\requests-2.31.0-py3.11.egg is deprecated. pip 24.3 will enforce this behaviour change. A possible replacement is to use pip for package installation.. Discussion can be found at https://github.com/pypa/pip/issues/12330\n",
      "DEPRECATION: Loading egg at c:\\users\\cglyn\\appdata\\local\\programs\\python\\python311\\lib\\site-packages\\websockets-11.0-py3.11.egg is deprecated. pip 24.3 will enforce this behaviour change. A possible replacement is to use pip for package installation.. Discussion can be found at https://github.com/pypa/pip/issues/12330\n",
      "DEPRECATION: torchsde 0.2.5 has a non-standard dependency specifier numpy>=1.19.*; python_version >= \"3.7\". pip 24.1 will enforce this behaviour change. A possible replacement is to upgrade to a newer version of torchsde or contact the author to suggest that they release a version with a conforming dependency specifiers. Discussion can be found at https://github.com/pypa/pip/issues/12063\n"
     ]
    },
    {
     "name": "stdout",
     "output_type": "stream",
     "text": [
      "Requirement already satisfied: GitPython in c:\\users\\cglyn\\appdata\\local\\programs\\python\\python311\\lib\\site-packages (3.1.43)Note: you may need to restart the kernel to use updated packages.\n",
      "\n",
      "Requirement already satisfied: gitdb<5,>=4.0.1 in c:\\users\\cglyn\\appdata\\local\\programs\\python\\python311\\lib\\site-packages (from GitPython) (4.0.11)\n",
      "Requirement already satisfied: smmap<6,>=3.0.1 in c:\\users\\cglyn\\appdata\\local\\programs\\python\\python311\\lib\\site-packages (from gitdb<5,>=4.0.1->GitPython) (5.0.1)\n"
     ]
    },
    {
     "name": "stderr",
     "output_type": "stream",
     "text": [
      "DEPRECATION: Loading egg at c:\\users\\cglyn\\appdata\\local\\programs\\python\\python311\\lib\\site-packages\\requests-2.31.0-py3.11.egg is deprecated. pip 24.3 will enforce this behaviour change. A possible replacement is to use pip for package installation.. Discussion can be found at https://github.com/pypa/pip/issues/12330\n",
      "DEPRECATION: Loading egg at c:\\users\\cglyn\\appdata\\local\\programs\\python\\python311\\lib\\site-packages\\websockets-11.0-py3.11.egg is deprecated. pip 24.3 will enforce this behaviour change. A possible replacement is to use pip for package installation.. Discussion can be found at https://github.com/pypa/pip/issues/12330\n",
      "DEPRECATION: torchsde 0.2.5 has a non-standard dependency specifier numpy>=1.19.*; python_version >= \"3.7\". pip 24.1 will enforce this behaviour change. A possible replacement is to upgrade to a newer version of torchsde or contact the author to suggest that they release a version with a conforming dependency specifiers. Discussion can be found at https://github.com/pypa/pip/issues/12063\n"
     ]
    },
    {
     "name": "stdout",
     "output_type": "stream",
     "text": [
      "Requirement already satisfied: python-dotenv in c:\\users\\cglyn\\appdata\\local\\programs\\python\\python311\\lib\\site-packages (1.0.1)Note: you may need to restart the kernel to use updated packages.\n",
      "\n"
     ]
    },
    {
     "name": "stderr",
     "output_type": "stream",
     "text": [
      "DEPRECATION: Loading egg at c:\\users\\cglyn\\appdata\\local\\programs\\python\\python311\\lib\\site-packages\\requests-2.31.0-py3.11.egg is deprecated. pip 24.3 will enforce this behaviour change. A possible replacement is to use pip for package installation.. Discussion can be found at https://github.com/pypa/pip/issues/12330\n",
      "DEPRECATION: Loading egg at c:\\users\\cglyn\\appdata\\local\\programs\\python\\python311\\lib\\site-packages\\websockets-11.0-py3.11.egg is deprecated. pip 24.3 will enforce this behaviour change. A possible replacement is to use pip for package installation.. Discussion can be found at https://github.com/pypa/pip/issues/12330\n",
      "DEPRECATION: torchsde 0.2.5 has a non-standard dependency specifier numpy>=1.19.*; python_version >= \"3.7\". pip 24.1 will enforce this behaviour change. A possible replacement is to upgrade to a newer version of torchsde or contact the author to suggest that they release a version with a conforming dependency specifiers. Discussion can be found at https://github.com/pypa/pip/issues/12063\n"
     ]
    }
   ],
   "source": [
    "%pip install \"langchain[llms]>=0.0.218\"\n",
    "%pip install chromadb\n",
    "%pip install sentence_transformers\n",
    "%pip install tiktoken\n",
    "%pip install GitPython\n",
    "%pip install python-dotenv"
   ]
  },
  {
   "cell_type": "markdown",
   "id": "8babb007-8d92-4eb8-9964-dc0d23e7f236",
   "metadata": {
    "tags": []
   },
   "source": [
    "## Load environment variables\n",
    "\n",
    "Change the path if necessary (read `README.md` first and follow the instructions to setup the `.env` file):"
   ]
  },
  {
   "cell_type": "code",
   "execution_count": 2,
   "id": "68173a51-4762-42f3-9049-277fe79ab62a",
   "metadata": {},
   "outputs": [],
   "source": [
    "# import os\n",
    "# os.chdir(\"/home/jovyan/work/\")"
   ]
  },
  {
   "cell_type": "code",
   "execution_count": 3,
   "id": "9ba55308-dc1a-4cf7-ad0f-e27330c951ed",
   "metadata": {},
   "outputs": [],
   "source": [
    "%load_ext dotenv\n",
    "%dotenv"
   ]
  },
  {
   "cell_type": "markdown",
   "id": "91a7880e-d3fc-4485-a875-9133006a2c33",
   "metadata": {},
   "source": [
    "## Load a repository"
   ]
  },
  {
   "cell_type": "code",
   "execution_count": 4,
   "id": "f70dd2e8-6dea-49b8-b4f9-26c7d92027fa",
   "metadata": {},
   "outputs": [
    {
     "name": "stderr",
     "output_type": "stream",
     "text": [
      "c:\\Users\\cglyn\\AppData\\Local\\Programs\\Python\\Python311\\Lib\\site-packages\\requests\\__init__.py:109: RequestsDependencyWarning: urllib3 (2.2.1) or chardet (None)/charset_normalizer (3.3.2) doesn't match a supported version!\n",
      "  warnings.warn(\n"
     ]
    }
   ],
   "source": [
    "from langchain.document_loaders.generic import GenericLoader\n",
    "from langchain.document_loaders.parsers import LanguageParser\n",
    "from langchain.text_splitter import Language\n",
    "from git import Repo"
   ]
  },
  {
   "cell_type": "code",
   "execution_count": 9,
   "id": "6e974cb7-fd8a-4baa-b32b-28e0bcc120e3",
   "metadata": {},
   "outputs": [
    {
     "ename": "GitCommandError",
     "evalue": "Cmd('git') failed due to: exit code(128)\n  cmdline: git clone -v -- https://github.com/langchain-ai/langchain /tmp/test_repo4\n  stderr: 'Cloning into '/tmp/test_repo4'...\nPOST git-upload-pack (185 bytes)\nPOST git-upload-pack (gzip 49377 to 24568 bytes)\nerror: RPC failed; curl 92 HTTP/2 stream 5 was not closed cleanly: CANCEL (err 8)\nerror: 7828 bytes of body are still expected\nfetch-pack: unexpected disconnect while reading sideband packet\nfatal: early EOF\nfatal: fetch-pack: invalid index-pack output\n'",
     "output_type": "error",
     "traceback": [
      "\u001b[1;31m---------------------------------------------------------------------------\u001b[0m",
      "\u001b[1;31mGitCommandError\u001b[0m                           Traceback (most recent call last)",
      "Cell \u001b[1;32mIn[9], line 1\u001b[0m\n\u001b[1;32m----> 1\u001b[0m repo \u001b[38;5;241m=\u001b[39m \u001b[43mRepo\u001b[49m\u001b[38;5;241;43m.\u001b[39;49m\u001b[43mclone_from\u001b[49m\u001b[43m(\u001b[49m\n\u001b[0;32m      2\u001b[0m \u001b[43m    \u001b[49m\u001b[38;5;124;43m\"\u001b[39;49m\u001b[38;5;124;43mhttps://github.com/langchain-ai/langchain\u001b[39;49m\u001b[38;5;124;43m\"\u001b[39;49m\u001b[43m,\u001b[49m\u001b[43m \u001b[49m\u001b[43mto_path\u001b[49m\u001b[38;5;241;43m=\u001b[39;49m\u001b[38;5;124;43m\"\u001b[39;49m\u001b[38;5;124;43m/tmp/test_repo4\u001b[39;49m\u001b[38;5;124;43m\"\u001b[39;49m\n\u001b[0;32m      3\u001b[0m \u001b[43m)\u001b[49m\n",
      "File \u001b[1;32mc:\\Users\\cglyn\\AppData\\Local\\Programs\\Python\\Python311\\Lib\\site-packages\\git\\repo\\base.py:1525\u001b[0m, in \u001b[0;36mRepo.clone_from\u001b[1;34m(cls, url, to_path, progress, env, multi_options, allow_unsafe_protocols, allow_unsafe_options, **kwargs)\u001b[0m\n\u001b[0;32m   1523\u001b[0m \u001b[38;5;28;01mif\u001b[39;00m env \u001b[38;5;129;01mis\u001b[39;00m \u001b[38;5;129;01mnot\u001b[39;00m \u001b[38;5;28;01mNone\u001b[39;00m:\n\u001b[0;32m   1524\u001b[0m     git\u001b[38;5;241m.\u001b[39mupdate_environment(\u001b[38;5;241m*\u001b[39m\u001b[38;5;241m*\u001b[39menv)\n\u001b[1;32m-> 1525\u001b[0m \u001b[38;5;28;01mreturn\u001b[39;00m \u001b[38;5;28;43mcls\u001b[39;49m\u001b[38;5;241;43m.\u001b[39;49m\u001b[43m_clone\u001b[49m\u001b[43m(\u001b[49m\n\u001b[0;32m   1526\u001b[0m \u001b[43m    \u001b[49m\u001b[43mgit\u001b[49m\u001b[43m,\u001b[49m\n\u001b[0;32m   1527\u001b[0m \u001b[43m    \u001b[49m\u001b[43murl\u001b[49m\u001b[43m,\u001b[49m\n\u001b[0;32m   1528\u001b[0m \u001b[43m    \u001b[49m\u001b[43mto_path\u001b[49m\u001b[43m,\u001b[49m\n\u001b[0;32m   1529\u001b[0m \u001b[43m    \u001b[49m\u001b[43mGitCmdObjectDB\u001b[49m\u001b[43m,\u001b[49m\n\u001b[0;32m   1530\u001b[0m \u001b[43m    \u001b[49m\u001b[43mprogress\u001b[49m\u001b[43m,\u001b[49m\n\u001b[0;32m   1531\u001b[0m \u001b[43m    \u001b[49m\u001b[43mmulti_options\u001b[49m\u001b[43m,\u001b[49m\n\u001b[0;32m   1532\u001b[0m \u001b[43m    \u001b[49m\u001b[43mallow_unsafe_protocols\u001b[49m\u001b[38;5;241;43m=\u001b[39;49m\u001b[43mallow_unsafe_protocols\u001b[49m\u001b[43m,\u001b[49m\n\u001b[0;32m   1533\u001b[0m \u001b[43m    \u001b[49m\u001b[43mallow_unsafe_options\u001b[49m\u001b[38;5;241;43m=\u001b[39;49m\u001b[43mallow_unsafe_options\u001b[49m\u001b[43m,\u001b[49m\n\u001b[0;32m   1534\u001b[0m \u001b[43m    \u001b[49m\u001b[38;5;241;43m*\u001b[39;49m\u001b[38;5;241;43m*\u001b[39;49m\u001b[43mkwargs\u001b[49m\u001b[43m,\u001b[49m\n\u001b[0;32m   1535\u001b[0m \u001b[43m\u001b[49m\u001b[43m)\u001b[49m\n",
      "File \u001b[1;32mc:\\Users\\cglyn\\AppData\\Local\\Programs\\Python\\Python311\\Lib\\site-packages\\git\\repo\\base.py:1396\u001b[0m, in \u001b[0;36mRepo._clone\u001b[1;34m(cls, git, url, path, odb_default_type, progress, multi_options, allow_unsafe_protocols, allow_unsafe_options, **kwargs)\u001b[0m\n\u001b[0;32m   1393\u001b[0m     cmdline \u001b[38;5;241m=\u001b[39m remove_password_if_present(cmdline)\n\u001b[0;32m   1395\u001b[0m     _logger\u001b[38;5;241m.\u001b[39mdebug(\u001b[38;5;124m\"\u001b[39m\u001b[38;5;124mCmd(\u001b[39m\u001b[38;5;132;01m%s\u001b[39;00m\u001b[38;5;124m)\u001b[39m\u001b[38;5;124m'\u001b[39m\u001b[38;5;124ms unused stdout: \u001b[39m\u001b[38;5;132;01m%s\u001b[39;00m\u001b[38;5;124m\"\u001b[39m, cmdline, stdout)\n\u001b[1;32m-> 1396\u001b[0m     \u001b[43mfinalize_process\u001b[49m\u001b[43m(\u001b[49m\u001b[43mproc\u001b[49m\u001b[43m,\u001b[49m\u001b[43m \u001b[49m\u001b[43mstderr\u001b[49m\u001b[38;5;241;43m=\u001b[39;49m\u001b[43mstderr\u001b[49m\u001b[43m)\u001b[49m\n\u001b[0;32m   1398\u001b[0m \u001b[38;5;66;03m# Our git command could have a different working dir than our actual\u001b[39;00m\n\u001b[0;32m   1399\u001b[0m \u001b[38;5;66;03m# environment, hence we prepend its working dir if required.\u001b[39;00m\n\u001b[0;32m   1400\u001b[0m \u001b[38;5;28;01mif\u001b[39;00m \u001b[38;5;129;01mnot\u001b[39;00m osp\u001b[38;5;241m.\u001b[39misabs(path):\n",
      "File \u001b[1;32mc:\\Users\\cglyn\\AppData\\Local\\Programs\\Python\\Python311\\Lib\\site-packages\\git\\util.py:504\u001b[0m, in \u001b[0;36mfinalize_process\u001b[1;34m(proc, **kwargs)\u001b[0m\n\u001b[0;32m    501\u001b[0m \u001b[38;5;250m\u001b[39m\u001b[38;5;124;03m\"\"\"Wait for the process (clone, fetch, pull or push) and handle its errors\u001b[39;00m\n\u001b[0;32m    502\u001b[0m \u001b[38;5;124;03maccordingly.\"\"\"\u001b[39;00m\n\u001b[0;32m    503\u001b[0m \u001b[38;5;66;03m# TODO: No close proc-streams??\u001b[39;00m\n\u001b[1;32m--> 504\u001b[0m \u001b[43mproc\u001b[49m\u001b[38;5;241;43m.\u001b[39;49m\u001b[43mwait\u001b[49m\u001b[43m(\u001b[49m\u001b[38;5;241;43m*\u001b[39;49m\u001b[38;5;241;43m*\u001b[39;49m\u001b[43mkwargs\u001b[49m\u001b[43m)\u001b[49m\n",
      "File \u001b[1;32mc:\\Users\\cglyn\\AppData\\Local\\Programs\\Python\\Python311\\Lib\\site-packages\\git\\cmd.py:834\u001b[0m, in \u001b[0;36mGit.AutoInterrupt.wait\u001b[1;34m(self, stderr)\u001b[0m\n\u001b[0;32m    832\u001b[0m     errstr \u001b[38;5;241m=\u001b[39m read_all_from_possibly_closed_stream(p_stderr)\n\u001b[0;32m    833\u001b[0m     _logger\u001b[38;5;241m.\u001b[39mdebug(\u001b[38;5;124m\"\u001b[39m\u001b[38;5;124mAutoInterrupt wait stderr: \u001b[39m\u001b[38;5;132;01m%r\u001b[39;00m\u001b[38;5;124m\"\u001b[39m \u001b[38;5;241m%\u001b[39m (errstr,))\n\u001b[1;32m--> 834\u001b[0m     \u001b[38;5;28;01mraise\u001b[39;00m GitCommandError(remove_password_if_present(\u001b[38;5;28mself\u001b[39m\u001b[38;5;241m.\u001b[39margs), status, errstr)\n\u001b[0;32m    835\u001b[0m \u001b[38;5;28;01mreturn\u001b[39;00m status\n",
      "\u001b[1;31mGitCommandError\u001b[0m: Cmd('git') failed due to: exit code(128)\n  cmdline: git clone -v -- https://github.com/langchain-ai/langchain /tmp/test_repo4\n  stderr: 'Cloning into '/tmp/test_repo4'...\nPOST git-upload-pack (185 bytes)\nPOST git-upload-pack (gzip 49377 to 24568 bytes)\nerror: RPC failed; curl 92 HTTP/2 stream 5 was not closed cleanly: CANCEL (err 8)\nerror: 7828 bytes of body are still expected\nfetch-pack: unexpected disconnect while reading sideband packet\nfatal: early EOF\nfatal: fetch-pack: invalid index-pack output\n'"
     ]
    }
   ],
   "source": [
    "repo = Repo.clone_from(\n",
    "    \"https://github.com/langchain-ai/langchain\", to_path=\"/tmp/test_repo4\"\n",
    ")"
   ]
  },
  {
   "cell_type": "code",
   "execution_count": 10,
   "id": "be7a38d8-b8cc-4836-8c4f-8c0e76416b74",
   "metadata": {},
   "outputs": [
    {
     "data": {
      "text/plain": [
       "0"
      ]
     },
     "execution_count": 10,
     "metadata": {},
     "output_type": "execute_result"
    }
   ],
   "source": [
    "loader = GenericLoader.from_filesystem(\n",
    "    \"/tmp/test_repo/langchain\",\n",
    "    glob=\"**/*\",\n",
    "    suffixes=[\".py\"],\n",
    "    parser=LanguageParser(language=Language.PYTHON, parser_threshold=500)\n",
    ")\n",
    "documents = loader.load()\n",
    "len(documents)"
   ]
  },
  {
   "cell_type": "markdown",
   "id": "74ff4cea-d908-4139-959f-05c5c142d1f5",
   "metadata": {},
   "source": [
    "## Index"
   ]
  },
  {
   "cell_type": "code",
   "execution_count": 11,
   "id": "6c94dc6e-720f-4cf7-ac36-4fb6f8df68a4",
   "metadata": {},
   "outputs": [],
   "source": [
    "from langchain.embeddings.openai import OpenAIEmbeddings\n",
    "from langchain.text_splitter import RecursiveCharacterTextSplitter\n",
    "from langchain.vectorstores import Chroma"
   ]
  },
  {
   "cell_type": "code",
   "execution_count": 12,
   "id": "58c7ea61-3443-40d8-9d1d-412264e223a2",
   "metadata": {},
   "outputs": [
    {
     "data": {
      "text/plain": [
       "0"
      ]
     },
     "execution_count": 12,
     "metadata": {},
     "output_type": "execute_result"
    }
   ],
   "source": [
    "python_splitter = RecursiveCharacterTextSplitter.from_language(language=Language.PYTHON, chunk_size=2000, chunk_overlap=200)\n",
    "texts = python_splitter.split_documents(documents)\n",
    "len(texts)"
   ]
  },
  {
   "cell_type": "code",
   "execution_count": 24,
   "id": "ccd8600c-4493-4257-af44-d962272f50fa",
   "metadata": {},
   "outputs": [
    {
     "ename": "ModuleNotFoundError",
     "evalue": "No module named 'langchain_community.documents'",
     "output_type": "error",
     "traceback": [
      "\u001b[1;31m---------------------------------------------------------------------------\u001b[0m",
      "\u001b[1;31mModuleNotFoundError\u001b[0m                       Traceback (most recent call last)",
      "Cell \u001b[1;32mIn[24], line 2\u001b[0m\n\u001b[0;32m      1\u001b[0m \u001b[38;5;28;01mfrom\u001b[39;00m \u001b[38;5;21;01mlangchain_community\u001b[39;00m\u001b[38;5;21;01m.\u001b[39;00m\u001b[38;5;21;01mvectorstores\u001b[39;00m \u001b[38;5;28;01mimport\u001b[39;00m Chroma\n\u001b[1;32m----> 2\u001b[0m \u001b[38;5;28;01mfrom\u001b[39;00m \u001b[38;5;21;01mlangchain_community\u001b[39;00m\u001b[38;5;21;01m.\u001b[39;00m\u001b[38;5;21;01mdocuments\u001b[39;00m \u001b[38;5;28;01mimport\u001b[39;00m Document\n\u001b[0;32m      4\u001b[0m \u001b[38;5;66;03m# Assuming you have a list of unique IDs for your documents\u001b[39;00m\n\u001b[0;32m      5\u001b[0m document_ids \u001b[38;5;241m=\u001b[39m [\u001b[38;5;124m\"\u001b[39m\u001b[38;5;124mdoc1\u001b[39m\u001b[38;5;124m\"\u001b[39m, \u001b[38;5;124m\"\u001b[39m\u001b[38;5;124mdoc2\u001b[39m\u001b[38;5;124m\"\u001b[39m, \u001b[38;5;124m\"\u001b[39m\u001b[38;5;124mdoc3\u001b[39m\u001b[38;5;124m\"\u001b[39m]\n",
      "\u001b[1;31mModuleNotFoundError\u001b[0m: No module named 'langchain_community.documents'"
     ]
    }
   ],
   "source": [
    "embeddings = OpenAIEmbeddings(disallowed_special=())\n",
    "\n",
    "db = Chroma.from_documents(texts, embeddings)"
   ]
  },
  {
   "cell_type": "code",
   "execution_count": 19,
   "id": "122d5f4b-6e95-4e9f-b2ed-566328e2eb28",
   "metadata": {},
   "outputs": [
    {
     "ename": "NameError",
     "evalue": "name 'db' is not defined",
     "output_type": "error",
     "traceback": [
      "\u001b[1;31m---------------------------------------------------------------------------\u001b[0m",
      "\u001b[1;31mNameError\u001b[0m                                 Traceback (most recent call last)",
      "Cell \u001b[1;32mIn[19], line 1\u001b[0m\n\u001b[1;32m----> 1\u001b[0m retriever \u001b[38;5;241m=\u001b[39m \u001b[43mdb\u001b[49m\u001b[38;5;241m.\u001b[39mas_retriever(\n\u001b[0;32m      2\u001b[0m     search_type\u001b[38;5;241m=\u001b[39m\u001b[38;5;124m\"\u001b[39m\u001b[38;5;124mmmr\u001b[39m\u001b[38;5;124m\"\u001b[39m,  \u001b[38;5;66;03m# You can also experiment with \"similarity\"\u001b[39;00m\n\u001b[0;32m      3\u001b[0m     search_kwargs\u001b[38;5;241m=\u001b[39m{\u001b[38;5;124m\"\u001b[39m\u001b[38;5;124mk\u001b[39m\u001b[38;5;124m\"\u001b[39m: \u001b[38;5;241m8\u001b[39m},\n\u001b[0;32m      4\u001b[0m )\n",
      "\u001b[1;31mNameError\u001b[0m: name 'db' is not defined"
     ]
    }
   ],
   "source": [
    "retriever = db.as_retriever(\n",
    "    search_type=\"mmr\",  # You can also experiment with \"similarity\"\n",
    "    search_kwargs={\"k\": 8},\n",
    ")"
   ]
  },
  {
   "cell_type": "markdown",
   "id": "b803eac1-cc83-4703-8c06-15fcc32b9aa4",
   "metadata": {},
   "source": [
    "## Setup agent"
   ]
  },
  {
   "cell_type": "code",
   "execution_count": 14,
   "id": "f4d5326f-b7a1-41da-b837-0556bfa6daf5",
   "metadata": {},
   "outputs": [],
   "source": [
    "from langchain.chat_models import ChatOpenAI\n",
    "from langchain.chains import ConversationalRetrievalChain"
   ]
  },
  {
   "cell_type": "code",
   "execution_count": 15,
   "id": "89d2b3cf-6f73-4172-a8f3-351f3b0bcada",
   "metadata": {},
   "outputs": [
    {
     "name": "stderr",
     "output_type": "stream",
     "text": [
      "c:\\Users\\cglyn\\AppData\\Local\\Programs\\Python\\Python311\\Lib\\site-packages\\langchain_core\\_api\\deprecation.py:119: LangChainDeprecationWarning: The class `ChatOpenAI` was deprecated in LangChain 0.0.10 and will be removed in 0.3.0. An updated version of the class exists in the langchain-openai package and should be used instead. To use it run `pip install -U langchain-openai` and import as `from langchain_openai import ChatOpenAI`.\n",
      "  warn_deprecated(\n"
     ]
    }
   ],
   "source": [
    "llm = ChatOpenAI(temperature=0)"
   ]
  },
  {
   "cell_type": "code",
   "execution_count": 16,
   "id": "9938b3c1-032b-48d4-921c-8d5660b1577e",
   "metadata": {},
   "outputs": [
    {
     "ename": "NameError",
     "evalue": "name 'retriever' is not defined",
     "output_type": "error",
     "traceback": [
      "\u001b[1;31m---------------------------------------------------------------------------\u001b[0m",
      "\u001b[1;31mNameError\u001b[0m                                 Traceback (most recent call last)",
      "Cell \u001b[1;32mIn[16], line 1\u001b[0m\n\u001b[1;32m----> 1\u001b[0m qa \u001b[38;5;241m=\u001b[39m ConversationalRetrievalChain\u001b[38;5;241m.\u001b[39mfrom_llm(llm, retriever\u001b[38;5;241m=\u001b[39m\u001b[43mretriever\u001b[49m)\n",
      "\u001b[1;31mNameError\u001b[0m: name 'retriever' is not defined"
     ]
    }
   ],
   "source": [
    "qa = ConversationalRetrievalChain.from_llm(llm, retriever=retriever)"
   ]
  },
  {
   "cell_type": "markdown",
   "id": "f24a0d80-2ea7-45e7-851f-bb27119619b0",
   "metadata": {},
   "source": [
    "## Tests"
   ]
  },
  {
   "cell_type": "code",
   "execution_count": 17,
   "id": "e3a80766-29c9-4b9f-a699-aaf4e34a69ef",
   "metadata": {},
   "outputs": [],
   "source": [
    "chat_history = []"
   ]
  },
  {
   "cell_type": "code",
   "execution_count": 18,
   "id": "a3eed123-6a83-4804-a240-1ce0191a4be3",
   "metadata": {},
   "outputs": [
    {
     "ename": "NameError",
     "evalue": "name 'qa' is not defined",
     "output_type": "error",
     "traceback": [
      "\u001b[1;31m---------------------------------------------------------------------------\u001b[0m",
      "\u001b[1;31mNameError\u001b[0m                                 Traceback (most recent call last)",
      "Cell \u001b[1;32mIn[18], line 2\u001b[0m\n\u001b[0;32m      1\u001b[0m question \u001b[38;5;241m=\u001b[39m \u001b[38;5;124m\"\u001b[39m\u001b[38;5;124mHow can I load a source code as documents, for a QA over code, spliting the code in classes and functions?\u001b[39m\u001b[38;5;124m\"\u001b[39m\n\u001b[1;32m----> 2\u001b[0m result \u001b[38;5;241m=\u001b[39m \u001b[43mqa\u001b[49m({\u001b[38;5;124m\"\u001b[39m\u001b[38;5;124mquestion\u001b[39m\u001b[38;5;124m\"\u001b[39m: question, \u001b[38;5;124m\"\u001b[39m\u001b[38;5;124mchat_history\u001b[39m\u001b[38;5;124m\"\u001b[39m: chat_history})\n\u001b[0;32m      3\u001b[0m chat_history\u001b[38;5;241m.\u001b[39mappend((question, result[\u001b[38;5;124m\"\u001b[39m\u001b[38;5;124manswer\u001b[39m\u001b[38;5;124m\"\u001b[39m]))\n\u001b[0;32m      4\u001b[0m \u001b[38;5;28mprint\u001b[39m(result[\u001b[38;5;124m\"\u001b[39m\u001b[38;5;124manswer\u001b[39m\u001b[38;5;124m\"\u001b[39m])\n",
      "\u001b[1;31mNameError\u001b[0m: name 'qa' is not defined"
     ]
    }
   ],
   "source": [
    "question = \"How can I load a source code as documents, for a QA over code, spliting the code in classes and functions?\"\n",
    "result = qa({\"question\": question, \"chat_history\": chat_history})\n",
    "chat_history.append((question, result[\"answer\"]))\n",
    "print(result[\"answer\"])"
   ]
  },
  {
   "cell_type": "code",
   "execution_count": null,
   "id": "f2c18bcf-f4b0-469e-bc8b-c41b484d34f8",
   "metadata": {},
   "outputs": [],
   "source": []
  }
 ],
 "metadata": {
  "kernelspec": {
   "display_name": "Python 3 (ipykernel)",
   "language": "python",
   "name": "python3"
  },
  "language_info": {
   "codemirror_mode": {
    "name": "ipython",
    "version": 3
   },
   "file_extension": ".py",
   "mimetype": "text/x-python",
   "name": "python",
   "nbconvert_exporter": "python",
   "pygments_lexer": "ipython3",
   "version": "3.11.5"
  }
 },
 "nbformat": 4,
 "nbformat_minor": 5
}
