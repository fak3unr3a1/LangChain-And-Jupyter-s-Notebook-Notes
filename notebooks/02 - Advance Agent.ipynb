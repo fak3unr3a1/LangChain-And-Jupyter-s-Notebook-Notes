{
 "cells": [
  {
   "cell_type": "markdown",
   "id": "b385fdc6-cecc-4564-ab12-85f494a00781",
   "metadata": {},
   "source": [
    "# LangChain - Advance Agent"
   ]
  },
  {
   "cell_type": "markdown",
   "id": "e1335d52-d456-4ae3-9058-c0c135b1acee",
   "metadata": {
    "tags": []
   },
   "source": [
    "## Install dependencies"
   ]
  },
  {
   "cell_type": "code",
   "execution_count": null,
   "id": "24b0f6cb-2820-4f7e-8081-4de2809a1807",
   "metadata": {},
   "outputs": [],
   "source": [
    "%pip install langchain[llms]\n",
    "%pip install python-dotenv\n",
    "%pip install google-search-results\n"
   ]
  },
  {
   "cell_type": "markdown",
   "id": "8babb007-8d92-4eb8-9964-dc0d23e7f236",
   "metadata": {
    "tags": []
   },
   "source": [
    "## Load environment variables\n",
    "\n",
    "Change the path if necessary (read `README.md` first and follow the instructions to setup the `.env` file):"
   ]
  },
  {
   "cell_type": "code",
   "execution_count": null,
   "id": "68173a51-4762-42f3-9049-277fe79ab62a",
   "metadata": {},
   "outputs": [],
   "source": [
    "# import os\n",
    "# os.chdir(\"/home/jovyan/work\")"
   ]
  },
  {
   "cell_type": "code",
   "execution_count": null,
   "id": "9ba55308-dc1a-4cf7-ad0f-e27330c951ed",
   "metadata": {},
   "outputs": [],
   "source": [
    "%load_ext dotenv\n",
    "%dotenv"
   ]
  },
  {
   "cell_type": "markdown",
   "id": "b803eac1-cc83-4703-8c06-15fcc32b9aa4",
   "metadata": {},
   "source": [
    "## Setup agent"
   ]
  },
  {
   "cell_type": "code",
   "execution_count": null,
   "id": "f4d5326f-b7a1-41da-b837-0556bfa6daf5",
   "metadata": {},
   "outputs": [],
   "source": [
    "from langchain.agents import load_tools, initialize_agent\n",
    "from langchain.llms import OpenAI"
   ]
  },
  {
   "cell_type": "code",
   "execution_count": null,
   "id": "89d2b3cf-6f73-4172-a8f3-351f3b0bcada",
   "metadata": {},
   "outputs": [],
   "source": [
    "llm = OpenAI(temperature=0)"
   ]
  },
  {
   "cell_type": "code",
   "execution_count": null,
   "id": "778d37ea-905b-42b3-b169-96c085921439",
   "metadata": {},
   "outputs": [],
   "source": [
    "tools = load_tools([\"serpapi\", \"llm-math\"], llm=llm)"
   ]
  },
  {
   "cell_type": "code",
   "execution_count": null,
   "id": "9938b3c1-032b-48d4-921c-8d5660b1577e",
   "metadata": {},
   "outputs": [],
   "source": [
    "agent = initialize_agent(tools, llm, agent=\"zero-shot-react-description\", verbose=True)"
   ]
  },
  {
   "cell_type": "markdown",
   "id": "f24a0d80-2ea7-45e7-851f-bb27119619b0",
   "metadata": {},
   "source": [
    "## Tests"
   ]
  },
  {
   "cell_type": "code",
   "execution_count": 14,
   "id": "3b834b2a-1bd2-4813-8c61-64c82cd45c3a",
   "metadata": {},
   "outputs": [
    {
     "name": "stdout",
     "output_type": "stream",
     "text": [
      "\n",
      "\n",
      "\u001b[1m> Entering new AgentExecutor chain...\u001b[0m\n",
      "\u001b[32;1m\u001b[1;3m I should use a search engine to find the current price of ethereum\n",
      "Action: Search\n",
      "Action Input: \"ethereum price\"\u001b[0m\n",
      "Observation: \u001b[36;1m\u001b[1;3m2,907.79\u001b[0m\n",
      "Thought:\u001b[32;1m\u001b[1;3m I should use a calculator to calculate 90 percent of the price\n",
      "Action: Calculator\n",
      "Action Input: 2,907.79 * 0.9\u001b[0m\n",
      "Observation: \u001b[33;1m\u001b[1;3mAnswer: 2617.011\u001b[0m\n",
      "Thought:\u001b[32;1m\u001b[1;3m I now know the final answer\n",
      "Final Answer: 90 percent of the current price of ethereum is $2,617.011.\u001b[0m\n",
      "\n",
      "\u001b[1m> Finished chain.\u001b[0m\n",
      "90 percent of the current price of ethereum is $2,617.011.\n"
     ]
    }
   ],
   "source": [
    "print(agent.run(\"Find the price of ethereum then tell me 90 percent of its value\"))\n"
   ]
  },
  {
   "cell_type": "code",
   "execution_count": null,
   "id": "1a65ee11-14fe-4eaf-8ee3-402b19648086",
   "metadata": {},
   "outputs": [],
   "source": []
  }
 ],
 "metadata": {
  "kernelspec": {
   "display_name": "Python 3 (ipykernel)",
   "language": "python",
   "name": "python3"
  },
  "language_info": {
   "codemirror_mode": {
    "name": "ipython",
    "version": 3
   },
   "file_extension": ".py",
   "mimetype": "text/x-python",
   "name": "python",
   "nbconvert_exporter": "python",
   "pygments_lexer": "ipython3",
   "version": "3.11.5"
  }
 },
 "nbformat": 4,
 "nbformat_minor": 5
}
