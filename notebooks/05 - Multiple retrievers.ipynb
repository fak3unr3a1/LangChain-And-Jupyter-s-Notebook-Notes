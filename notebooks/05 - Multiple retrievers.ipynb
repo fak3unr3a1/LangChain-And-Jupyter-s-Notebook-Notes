{
 "cells": [
  {
   "cell_type": "markdown",
   "id": "b385fdc6-cecc-4564-ab12-85f494a00781",
   "metadata": {},
   "source": [
    "# LangChain - Multiple retrievers"
   ]
  },
  {
   "cell_type": "markdown",
   "id": "e1335d52-d456-4ae3-9058-c0c135b1acee",
   "metadata": {
    "tags": []
   },
   "source": [
    "## Install dependencies"
   ]
  },
  {
   "cell_type": "code",
   "execution_count": 1,
   "id": "24b0f6cb-2820-4f7e-8081-4de2809a1807",
   "metadata": {
    "tags": []
   },
   "outputs": [
    {
     "name": "stdout",
     "output_type": "stream",
     "text": [
      "Requirement already satisfied: langchain in c:\\users\\cglyn\\appdata\\local\\programs\\python\\python311\\lib\\site-packages (0.1.20)\n",
      "Requirement already satisfied: PyYAML>=5.3 in c:\\users\\cglyn\\appdata\\local\\programs\\python\\python311\\lib\\site-packages (from langchain) (6.0.1)\n",
      "Requirement already satisfied: SQLAlchemy<3,>=1.4 in c:\\users\\cglyn\\appdata\\local\\programs\\python\\python311\\lib\\site-packages (from langchain) (2.0.30)\n",
      "Requirement already satisfied: aiohttp<4.0.0,>=3.8.3 in c:\\users\\cglyn\\appdata\\local\\programs\\python\\python311\\lib\\site-packages (from langchain) (3.9.1)\n",
      "Requirement already satisfied: dataclasses-json<0.7,>=0.5.7 in c:\\users\\cglyn\\appdata\\local\\programs\\python\\python311\\lib\\site-packages (from langchain) (0.6.6)\n",
      "Requirement already satisfied: langchain-community<0.1,>=0.0.38 in c:\\users\\cglyn\\appdata\\local\\programs\\python\\python311\\lib\\site-packages (from langchain) (0.0.38)\n",
      "Requirement already satisfied: langchain-core<0.2.0,>=0.1.52 in c:\\users\\cglyn\\appdata\\local\\programs\\python\\python311\\lib\\site-packages (from langchain) (0.1.52)\n",
      "Requirement already satisfied: langchain-text-splitters<0.1,>=0.0.1 in c:\\users\\cglyn\\appdata\\local\\programs\\python\\python311\\lib\\site-packages (from langchain) (0.0.1)\n",
      "Requirement already satisfied: langsmith<0.2.0,>=0.1.17 in c:\\users\\cglyn\\appdata\\local\\programs\\python\\python311\\lib\\site-packages (from langchain) (0.1.56)\n",
      "Requirement already satisfied: numpy<2,>=1 in c:\\users\\cglyn\\appdata\\local\\programs\\python\\python311\\lib\\site-packages (from langchain) (1.26.4)\n",
      "Requirement already satisfied: pydantic<3,>=1 in c:\\users\\cglyn\\appdata\\local\\programs\\python\\python311\\lib\\site-packages (from langchain) (2.5.2)\n",
      "Requirement already satisfied: requests<3,>=2 in c:\\users\\cglyn\\appdata\\local\\programs\\python\\python311\\lib\\site-packages\\requests-2.31.0-py3.11.egg (from langchain) (2.31.0)\n",
      "Requirement already satisfied: tenacity<9.0.0,>=8.1.0 in c:\\users\\cglyn\\appdata\\local\\programs\\python\\python311\\lib\\site-packages (from langchain) (8.3.0)\n",
      "Requirement already satisfied: attrs>=17.3.0 in c:\\users\\cglyn\\appdata\\local\\programs\\python\\python311\\lib\\site-packages (from aiohttp<4.0.0,>=3.8.3->langchain) (23.1.0)\n",
      "Requirement already satisfied: multidict<7.0,>=4.5 in c:\\users\\cglyn\\appdata\\local\\programs\\python\\python311\\lib\\site-packages (from aiohttp<4.0.0,>=3.8.3->langchain) (6.0.4)\n",
      "Requirement already satisfied: yarl<2.0,>=1.0 in c:\\users\\cglyn\\appdata\\local\\programs\\python\\python311\\lib\\site-packages (from aiohttp<4.0.0,>=3.8.3->langchain) (1.9.4)\n",
      "Requirement already satisfied: frozenlist>=1.1.1 in c:\\users\\cglyn\\appdata\\local\\programs\\python\\python311\\lib\\site-packages (from aiohttp<4.0.0,>=3.8.3->langchain) (1.4.0)\n",
      "Requirement already satisfied: aiosignal>=1.1.2 in c:\\users\\cglyn\\appdata\\local\\programs\\python\\python311\\lib\\site-packages (from aiohttp<4.0.0,>=3.8.3->langchain) (1.3.1)\n",
      "Requirement already satisfied: marshmallow<4.0.0,>=3.18.0 in c:\\users\\cglyn\\appdata\\local\\programs\\python\\python311\\lib\\site-packages (from dataclasses-json<0.7,>=0.5.7->langchain) (3.21.2)\n",
      "Requirement already satisfied: typing-inspect<1,>=0.4.0 in c:\\users\\cglyn\\appdata\\local\\programs\\python\\python311\\lib\\site-packages (from dataclasses-json<0.7,>=0.5.7->langchain) (0.9.0)\n",
      "Requirement already satisfied: jsonpatch<2.0,>=1.33 in c:\\users\\cglyn\\appdata\\local\\programs\\python\\python311\\lib\\site-packages (from langchain-core<0.2.0,>=0.1.52->langchain) (1.33)\n",
      "Requirement already satisfied: packaging<24.0,>=23.2 in c:\\users\\cglyn\\appdata\\local\\programs\\python\\python311\\lib\\site-packages (from langchain-core<0.2.0,>=0.1.52->langchain) (23.2)\n",
      "Requirement already satisfied: orjson<4.0.0,>=3.9.14 in c:\\users\\cglyn\\appdata\\local\\programs\\python\\python311\\lib\\site-packages (from langsmith<0.2.0,>=0.1.17->langchain) (3.10.1)\n",
      "Requirement already satisfied: annotated-types>=0.4.0 in c:\\users\\cglyn\\appdata\\local\\programs\\python\\python311\\lib\\site-packages (from pydantic<3,>=1->langchain) (0.6.0)\n",
      "Requirement already satisfied: pydantic-core==2.14.5 in c:\\users\\cglyn\\appdata\\local\\programs\\python\\python311\\lib\\site-packages (from pydantic<3,>=1->langchain) (2.14.5)\n",
      "Requirement already satisfied: typing-extensions>=4.6.1 in c:\\users\\cglyn\\appdata\\local\\programs\\python\\python311\\lib\\site-packages (from pydantic<3,>=1->langchain) (4.9.0)\n",
      "Requirement already satisfied: certifi>=2017.4.17 in c:\\users\\cglyn\\appdata\\local\\programs\\python\\python311\\lib\\site-packages (from requests<3,>=2->langchain) (2024.2.2)\n",
      "Requirement already satisfied: charset-normalizer<4,>=2 in c:\\users\\cglyn\\appdata\\local\\programs\\python\\python311\\lib\\site-packages (from requests<3,>=2->langchain) (3.3.2)\n",
      "Requirement already satisfied: idna<4,>=2.5 in c:\\users\\cglyn\\appdata\\local\\programs\\python\\python311\\lib\\site-packages (from requests<3,>=2->langchain) (3.6)\n",
      "Requirement already satisfied: urllib3<3,>=1.21.1 in c:\\users\\cglyn\\appdata\\local\\programs\\python\\python311\\lib\\site-packages (from requests<3,>=2->langchain) (2.2.1)\n",
      "Requirement already satisfied: greenlet!=0.4.17 in c:\\users\\cglyn\\appdata\\local\\programs\\python\\python311\\lib\\site-packages (from SQLAlchemy<3,>=1.4->langchain) (3.0.3)\n",
      "Requirement already satisfied: jsonpointer>=1.9 in c:\\users\\cglyn\\appdata\\local\\programs\\python\\python311\\lib\\site-packages (from jsonpatch<2.0,>=1.33->langchain-core<0.2.0,>=0.1.52->langchain) (2.4)\n",
      "Requirement already satisfied: mypy-extensions>=0.3.0 in c:\\users\\cglyn\\appdata\\local\\programs\\python\\python311\\lib\\site-packages (from typing-inspect<1,>=0.4.0->dataclasses-json<0.7,>=0.5.7->langchain) (1.0.0)\n",
      "Note: you may need to restart the kernel to use updated packages.\n"
     ]
    },
    {
     "name": "stderr",
     "output_type": "stream",
     "text": [
      "DEPRECATION: Loading egg at c:\\users\\cglyn\\appdata\\local\\programs\\python\\python311\\lib\\site-packages\\requests-2.31.0-py3.11.egg is deprecated. pip 24.3 will enforce this behaviour change. A possible replacement is to use pip for package installation.. Discussion can be found at https://github.com/pypa/pip/issues/12330\n",
      "DEPRECATION: Loading egg at c:\\users\\cglyn\\appdata\\local\\programs\\python\\python311\\lib\\site-packages\\websockets-11.0-py3.11.egg is deprecated. pip 24.3 will enforce this behaviour change. A possible replacement is to use pip for package installation.. Discussion can be found at https://github.com/pypa/pip/issues/12330\n",
      "DEPRECATION: torchsde 0.2.5 has a non-standard dependency specifier numpy>=1.19.*; python_version >= \"3.7\". pip 24.1 will enforce this behaviour change. A possible replacement is to upgrade to a newer version of torchsde or contact the author to suggest that they release a version with a conforming dependency specifiers. Discussion can be found at https://github.com/pypa/pip/issues/12063\n"
     ]
    },
    {
     "name": "stdout",
     "output_type": "stream",
     "text": [
      "Requirement already satisfied: openai in c:\\users\\cglyn\\appdata\\local\\programs\\python\\python311\\lib\\site-packages (1.28.1)\n",
      "Requirement already satisfied: anyio<5,>=3.5.0 in c:\\users\\cglyn\\appdata\\local\\programs\\python\\python311\\lib\\site-packages (from openai) (3.7.1)\n",
      "Requirement already satisfied: distro<2,>=1.7.0 in c:\\users\\cglyn\\appdata\\local\\programs\\python\\python311\\lib\\site-packages (from openai) (1.9.0)\n",
      "Requirement already satisfied: httpx<1,>=0.23.0 in c:\\users\\cglyn\\appdata\\local\\programs\\python\\python311\\lib\\site-packages (from openai) (0.27.0)\n",
      "Requirement already satisfied: pydantic<3,>=1.9.0 in c:\\users\\cglyn\\appdata\\local\\programs\\python\\python311\\lib\\site-packages (from openai) (2.5.2)\n",
      "Requirement already satisfied: sniffio in c:\\users\\cglyn\\appdata\\local\\programs\\python\\python311\\lib\\site-packages (from openai) (1.3.0)\n",
      "Requirement already satisfied: tqdm>4 in c:\\users\\cglyn\\appdata\\local\\programs\\python\\python311\\lib\\site-packages (from openai) (4.65.2)\n",
      "Requirement already satisfied: typing-extensions<5,>=4.7 in c:\\users\\cglyn\\appdata\\local\\programs\\python\\python311\\lib\\site-packages (from openai) (4.9.0)\n",
      "Requirement already satisfied: idna>=2.8 in c:\\users\\cglyn\\appdata\\local\\programs\\python\\python311\\lib\\site-packages (from anyio<5,>=3.5.0->openai) (3.6)\n",
      "Requirement already satisfied: certifi in c:\\users\\cglyn\\appdata\\local\\programs\\python\\python311\\lib\\site-packages (from httpx<1,>=0.23.0->openai) (2024.2.2)\n",
      "Requirement already satisfied: httpcore==1.* in c:\\users\\cglyn\\appdata\\local\\programs\\python\\python311\\lib\\site-packages (from httpx<1,>=0.23.0->openai) (1.0.5)\n",
      "Requirement already satisfied: h11<0.15,>=0.13 in c:\\users\\cglyn\\appdata\\local\\programs\\python\\python311\\lib\\site-packages (from httpcore==1.*->httpx<1,>=0.23.0->openai) (0.14.0)\n",
      "Requirement already satisfied: annotated-types>=0.4.0 in c:\\users\\cglyn\\appdata\\local\\programs\\python\\python311\\lib\\site-packages (from pydantic<3,>=1.9.0->openai) (0.6.0)\n",
      "Requirement already satisfied: pydantic-core==2.14.5 in c:\\users\\cglyn\\appdata\\local\\programs\\python\\python311\\lib\\site-packages (from pydantic<3,>=1.9.0->openai) (2.14.5)\n",
      "Requirement already satisfied: colorama in c:\\users\\cglyn\\appdata\\local\\programs\\python\\python311\\lib\\site-packages (from tqdm>4->openai) (0.4.6)\n",
      "Note: you may need to restart the kernel to use updated packages.\n"
     ]
    },
    {
     "name": "stderr",
     "output_type": "stream",
     "text": [
      "DEPRECATION: Loading egg at c:\\users\\cglyn\\appdata\\local\\programs\\python\\python311\\lib\\site-packages\\requests-2.31.0-py3.11.egg is deprecated. pip 24.3 will enforce this behaviour change. A possible replacement is to use pip for package installation.. Discussion can be found at https://github.com/pypa/pip/issues/12330\n",
      "DEPRECATION: Loading egg at c:\\users\\cglyn\\appdata\\local\\programs\\python\\python311\\lib\\site-packages\\websockets-11.0-py3.11.egg is deprecated. pip 24.3 will enforce this behaviour change. A possible replacement is to use pip for package installation.. Discussion can be found at https://github.com/pypa/pip/issues/12330\n",
      "DEPRECATION: torchsde 0.2.5 has a non-standard dependency specifier numpy>=1.19.*; python_version >= \"3.7\". pip 24.1 will enforce this behaviour change. A possible replacement is to upgrade to a newer version of torchsde or contact the author to suggest that they release a version with a conforming dependency specifiers. Discussion can be found at https://github.com/pypa/pip/issues/12063\n"
     ]
    },
    {
     "name": "stdout",
     "output_type": "stream",
     "text": [
      "Requirement already satisfied: chromadb in c:\\users\\cglyn\\appdata\\local\\programs\\python\\python311\\lib\\site-packages (0.4.24)\n",
      "Requirement already satisfied: build>=1.0.3 in c:\\users\\cglyn\\appdata\\local\\programs\\python\\python311\\lib\\site-packages (from chromadb) (1.2.1)\n",
      "Requirement already satisfied: requests>=2.28 in c:\\users\\cglyn\\appdata\\local\\programs\\python\\python311\\lib\\site-packages\\requests-2.31.0-py3.11.egg (from chromadb) (2.31.0)\n",
      "Requirement already satisfied: pydantic>=1.9 in c:\\users\\cglyn\\appdata\\local\\programs\\python\\python311\\lib\\site-packages (from chromadb) (2.5.2)\n",
      "Requirement already satisfied: chroma-hnswlib==0.7.3 in c:\\users\\cglyn\\appdata\\local\\programs\\python\\python311\\lib\\site-packages (from chromadb) (0.7.3)\n",
      "Requirement already satisfied: fastapi>=0.95.2 in c:\\users\\cglyn\\appdata\\local\\programs\\python\\python311\\lib\\site-packages (from chromadb) (0.104.1)\n",
      "Requirement already satisfied: uvicorn>=0.18.3 in c:\\users\\cglyn\\appdata\\local\\programs\\python\\python311\\lib\\site-packages (from uvicorn[standard]>=0.18.3->chromadb) (0.23.2)\n",
      "Requirement already satisfied: numpy>=1.22.5 in c:\\users\\cglyn\\appdata\\local\\programs\\python\\python311\\lib\\site-packages (from chromadb) (1.26.4)\n",
      "Requirement already satisfied: posthog>=2.4.0 in c:\\users\\cglyn\\appdata\\local\\programs\\python\\python311\\lib\\site-packages (from chromadb) (3.5.0)\n",
      "Requirement already satisfied: typing-extensions>=4.5.0 in c:\\users\\cglyn\\appdata\\local\\programs\\python\\python311\\lib\\site-packages (from chromadb) (4.9.0)\n",
      "Requirement already satisfied: pulsar-client>=3.1.0 in c:\\users\\cglyn\\appdata\\local\\programs\\python\\python311\\lib\\site-packages (from chromadb) (3.5.0)\n",
      "Requirement already satisfied: onnxruntime>=1.14.1 in c:\\users\\cglyn\\appdata\\local\\programs\\python\\python311\\lib\\site-packages (from chromadb) (1.17.3)\n",
      "Requirement already satisfied: opentelemetry-api>=1.2.0 in c:\\users\\cglyn\\appdata\\local\\programs\\python\\python311\\lib\\site-packages (from chromadb) (1.24.0)\n",
      "Requirement already satisfied: opentelemetry-exporter-otlp-proto-grpc>=1.2.0 in c:\\users\\cglyn\\appdata\\local\\programs\\python\\python311\\lib\\site-packages (from chromadb) (1.24.0)\n",
      "Requirement already satisfied: opentelemetry-instrumentation-fastapi>=0.41b0 in c:\\users\\cglyn\\appdata\\local\\programs\\python\\python311\\lib\\site-packages (from chromadb) (0.45b0)\n",
      "Requirement already satisfied: opentelemetry-sdk>=1.2.0 in c:\\users\\cglyn\\appdata\\local\\programs\\python\\python311\\lib\\site-packages (from chromadb) (1.24.0)\n",
      "Requirement already satisfied: tokenizers>=0.13.2 in c:\\users\\cglyn\\appdata\\local\\programs\\python\\python311\\lib\\site-packages (from chromadb) (0.19.1)\n",
      "Requirement already satisfied: pypika>=0.48.9 in c:\\users\\cglyn\\appdata\\local\\programs\\python\\python311\\lib\\site-packages (from chromadb) (0.48.9)\n",
      "Requirement already satisfied: tqdm>=4.65.0 in c:\\users\\cglyn\\appdata\\local\\programs\\python\\python311\\lib\\site-packages (from chromadb) (4.65.2)\n",
      "Requirement already satisfied: overrides>=7.3.1 in c:\\users\\cglyn\\appdata\\local\\programs\\python\\python311\\lib\\site-packages (from chromadb) (7.7.0)\n",
      "Requirement already satisfied: importlib-resources in c:\\users\\cglyn\\appdata\\local\\programs\\python\\python311\\lib\\site-packages (from chromadb) (6.1.1)\n",
      "Requirement already satisfied: grpcio>=1.58.0 in c:\\users\\cglyn\\appdata\\local\\programs\\python\\python311\\lib\\site-packages (from chromadb) (1.62.0)\n",
      "Requirement already satisfied: bcrypt>=4.0.1 in c:\\users\\cglyn\\appdata\\local\\programs\\python\\python311\\lib\\site-packages (from chromadb) (4.1.3)\n",
      "Requirement already satisfied: typer>=0.9.0 in c:\\users\\cglyn\\appdata\\local\\programs\\python\\python311\\lib\\site-packages (from chromadb) (0.9.0)\n",
      "Requirement already satisfied: kubernetes>=28.1.0 in c:\\users\\cglyn\\appdata\\local\\programs\\python\\python311\\lib\\site-packages (from chromadb) (29.0.0)\n",
      "Requirement already satisfied: tenacity>=8.2.3 in c:\\users\\cglyn\\appdata\\local\\programs\\python\\python311\\lib\\site-packages (from chromadb) (8.3.0)\n",
      "Requirement already satisfied: PyYAML>=6.0.0 in c:\\users\\cglyn\\appdata\\local\\programs\\python\\python311\\lib\\site-packages (from chromadb) (6.0.1)\n",
      "Requirement already satisfied: mmh3>=4.0.1 in c:\\users\\cglyn\\appdata\\local\\programs\\python\\python311\\lib\\site-packages (from chromadb) (4.1.0)\n",
      "Requirement already satisfied: orjson>=3.9.12 in c:\\users\\cglyn\\appdata\\local\\programs\\python\\python311\\lib\\site-packages (from chromadb) (3.10.1)\n",
      "Requirement already satisfied: packaging>=19.1 in c:\\users\\cglyn\\appdata\\local\\programs\\python\\python311\\lib\\site-packages (from build>=1.0.3->chromadb) (23.2)\n",
      "Requirement already satisfied: pyproject_hooks in c:\\users\\cglyn\\appdata\\local\\programs\\python\\python311\\lib\\site-packages (from build>=1.0.3->chromadb) (1.1.0)\n",
      "Requirement already satisfied: colorama in c:\\users\\cglyn\\appdata\\local\\programs\\python\\python311\\lib\\site-packages (from build>=1.0.3->chromadb) (0.4.6)\n",
      "Requirement already satisfied: anyio<4.0.0,>=3.7.1 in c:\\users\\cglyn\\appdata\\local\\programs\\python\\python311\\lib\\site-packages (from fastapi>=0.95.2->chromadb) (3.7.1)\n",
      "Requirement already satisfied: starlette<0.28.0,>=0.27.0 in c:\\users\\cglyn\\appdata\\local\\programs\\python\\python311\\lib\\site-packages (from fastapi>=0.95.2->chromadb) (0.27.0)\n",
      "Requirement already satisfied: certifi>=14.05.14 in c:\\users\\cglyn\\appdata\\local\\programs\\python\\python311\\lib\\site-packages (from kubernetes>=28.1.0->chromadb) (2024.2.2)\n",
      "Requirement already satisfied: six>=1.9.0 in c:\\users\\cglyn\\appdata\\local\\programs\\python\\python311\\lib\\site-packages (from kubernetes>=28.1.0->chromadb) (1.16.0)\n",
      "Requirement already satisfied: python-dateutil>=2.5.3 in c:\\users\\cglyn\\appdata\\local\\programs\\python\\python311\\lib\\site-packages (from kubernetes>=28.1.0->chromadb) (2.8.2)\n",
      "Requirement already satisfied: google-auth>=1.0.1 in c:\\users\\cglyn\\appdata\\local\\programs\\python\\python311\\lib\\site-packages (from kubernetes>=28.1.0->chromadb) (2.26.2)\n",
      "Requirement already satisfied: websocket-client!=0.40.0,!=0.41.*,!=0.42.*,>=0.32.0 in c:\\users\\cglyn\\appdata\\local\\programs\\python\\python311\\lib\\site-packages (from kubernetes>=28.1.0->chromadb) (1.8.0)\n",
      "Requirement already satisfied: requests-oauthlib in c:\\users\\cglyn\\appdata\\local\\programs\\python\\python311\\lib\\site-packages (from kubernetes>=28.1.0->chromadb) (2.0.0)\n",
      "Requirement already satisfied: oauthlib>=3.2.2 in c:\\users\\cglyn\\appdata\\local\\programs\\python\\python311\\lib\\site-packages (from kubernetes>=28.1.0->chromadb) (3.2.2)\n",
      "Requirement already satisfied: urllib3>=1.24.2 in c:\\users\\cglyn\\appdata\\local\\programs\\python\\python311\\lib\\site-packages (from kubernetes>=28.1.0->chromadb) (2.2.1)\n",
      "Requirement already satisfied: coloredlogs in c:\\users\\cglyn\\appdata\\local\\programs\\python\\python311\\lib\\site-packages (from onnxruntime>=1.14.1->chromadb) (15.0.1)\n",
      "Requirement already satisfied: flatbuffers in c:\\users\\cglyn\\appdata\\local\\programs\\python\\python311\\lib\\site-packages (from onnxruntime>=1.14.1->chromadb) (24.3.25)\n",
      "Requirement already satisfied: protobuf in c:\\users\\cglyn\\appdata\\local\\programs\\python\\python311\\lib\\site-packages (from onnxruntime>=1.14.1->chromadb) (4.25.1)\n",
      "Requirement already satisfied: sympy in c:\\users\\cglyn\\appdata\\local\\programs\\python\\python311\\lib\\site-packages (from onnxruntime>=1.14.1->chromadb) (1.12)\n",
      "Requirement already satisfied: deprecated>=1.2.6 in c:\\users\\cglyn\\appdata\\local\\programs\\python\\python311\\lib\\site-packages (from opentelemetry-api>=1.2.0->chromadb) (1.2.14)\n",
      "Requirement already satisfied: importlib-metadata<=7.0,>=6.0 in c:\\users\\cglyn\\appdata\\local\\programs\\python\\python311\\lib\\site-packages (from opentelemetry-api>=1.2.0->chromadb) (7.0.0)\n",
      "Requirement already satisfied: googleapis-common-protos~=1.52 in c:\\users\\cglyn\\appdata\\local\\programs\\python\\python311\\lib\\site-packages (from opentelemetry-exporter-otlp-proto-grpc>=1.2.0->chromadb) (1.62.0)\n",
      "Requirement already satisfied: opentelemetry-exporter-otlp-proto-common==1.24.0 in c:\\users\\cglyn\\appdata\\local\\programs\\python\\python311\\lib\\site-packages (from opentelemetry-exporter-otlp-proto-grpc>=1.2.0->chromadb) (1.24.0)\n",
      "Requirement already satisfied: opentelemetry-proto==1.24.0 in c:\\users\\cglyn\\appdata\\local\\programs\\python\\python311\\lib\\site-packages (from opentelemetry-exporter-otlp-proto-grpc>=1.2.0->chromadb) (1.24.0)\n",
      "Requirement already satisfied: opentelemetry-instrumentation-asgi==0.45b0 in c:\\users\\cglyn\\appdata\\local\\programs\\python\\python311\\lib\\site-packages (from opentelemetry-instrumentation-fastapi>=0.41b0->chromadb) (0.45b0)\n",
      "Requirement already satisfied: opentelemetry-instrumentation==0.45b0 in c:\\users\\cglyn\\appdata\\local\\programs\\python\\python311\\lib\\site-packages (from opentelemetry-instrumentation-fastapi>=0.41b0->chromadb) (0.45b0)\n",
      "Requirement already satisfied: opentelemetry-semantic-conventions==0.45b0 in c:\\users\\cglyn\\appdata\\local\\programs\\python\\python311\\lib\\site-packages (from opentelemetry-instrumentation-fastapi>=0.41b0->chromadb) (0.45b0)\n",
      "Requirement already satisfied: opentelemetry-util-http==0.45b0 in c:\\users\\cglyn\\appdata\\local\\programs\\python\\python311\\lib\\site-packages (from opentelemetry-instrumentation-fastapi>=0.41b0->chromadb) (0.45b0)\n",
      "Requirement already satisfied: setuptools>=16.0 in c:\\users\\cglyn\\appdata\\local\\programs\\python\\python311\\lib\\site-packages (from opentelemetry-instrumentation==0.45b0->opentelemetry-instrumentation-fastapi>=0.41b0->chromadb) (60.2.0)\n",
      "Requirement already satisfied: wrapt<2.0.0,>=1.0.0 in c:\\users\\cglyn\\appdata\\local\\programs\\python\\python311\\lib\\site-packages (from opentelemetry-instrumentation==0.45b0->opentelemetry-instrumentation-fastapi>=0.41b0->chromadb) (1.16.0)\n",
      "Requirement already satisfied: asgiref~=3.0 in c:\\users\\cglyn\\appdata\\local\\programs\\python\\python311\\lib\\site-packages (from opentelemetry-instrumentation-asgi==0.45b0->opentelemetry-instrumentation-fastapi>=0.41b0->chromadb) (3.7.2)\n",
      "Requirement already satisfied: monotonic>=1.5 in c:\\users\\cglyn\\appdata\\local\\programs\\python\\python311\\lib\\site-packages (from posthog>=2.4.0->chromadb) (1.6)\n",
      "Requirement already satisfied: backoff>=1.10.0 in c:\\users\\cglyn\\appdata\\local\\programs\\python\\python311\\lib\\site-packages (from posthog>=2.4.0->chromadb) (2.2.1)\n",
      "Requirement already satisfied: annotated-types>=0.4.0 in c:\\users\\cglyn\\appdata\\local\\programs\\python\\python311\\lib\\site-packages (from pydantic>=1.9->chromadb) (0.6.0)\n",
      "Requirement already satisfied: pydantic-core==2.14.5 in c:\\users\\cglyn\\appdata\\local\\programs\\python\\python311\\lib\\site-packages (from pydantic>=1.9->chromadb) (2.14.5)\n",
      "Requirement already satisfied: charset-normalizer<4,>=2 in c:\\users\\cglyn\\appdata\\local\\programs\\python\\python311\\lib\\site-packages (from requests>=2.28->chromadb) (3.3.2)\n",
      "Requirement already satisfied: idna<4,>=2.5 in c:\\users\\cglyn\\appdata\\local\\programs\\python\\python311\\lib\\site-packages (from requests>=2.28->chromadb) (3.6)\n",
      "Requirement already satisfied: huggingface-hub<1.0,>=0.16.4 in c:\\users\\cglyn\\appdata\\local\\programs\\python\\python311\\lib\\site-packages (from tokenizers>=0.13.2->chromadb) (0.19.4)\n",
      "Requirement already satisfied: click<9.0.0,>=7.1.1 in c:\\users\\cglyn\\appdata\\local\\programs\\python\\python311\\lib\\site-packages (from typer>=0.9.0->chromadb) (8.1.7)\n",
      "Requirement already satisfied: h11>=0.8 in c:\\users\\cglyn\\appdata\\local\\programs\\python\\python311\\lib\\site-packages (from uvicorn>=0.18.3->uvicorn[standard]>=0.18.3->chromadb) (0.14.0)\n",
      "Requirement already satisfied: httptools>=0.5.0 in c:\\users\\cglyn\\appdata\\local\\programs\\python\\python311\\lib\\site-packages (from uvicorn[standard]>=0.18.3->chromadb) (0.6.1)\n",
      "Requirement already satisfied: python-dotenv>=0.13 in c:\\users\\cglyn\\appdata\\local\\programs\\python\\python311\\lib\\site-packages (from uvicorn[standard]>=0.18.3->chromadb) (1.0.1)\n",
      "Requirement already satisfied: watchfiles>=0.13 in c:\\users\\cglyn\\appdata\\local\\programs\\python\\python311\\lib\\site-packages (from uvicorn[standard]>=0.18.3->chromadb) (0.21.0)\n",
      "Requirement already satisfied: websockets>=10.4 in c:\\users\\cglyn\\appdata\\local\\programs\\python\\python311\\lib\\site-packages\\websockets-11.0-py3.11.egg (from uvicorn[standard]>=0.18.3->chromadb) (11.0)\n",
      "Requirement already satisfied: sniffio>=1.1 in c:\\users\\cglyn\\appdata\\local\\programs\\python\\python311\\lib\\site-packages (from anyio<4.0.0,>=3.7.1->fastapi>=0.95.2->chromadb) (1.3.0)\n",
      "Requirement already satisfied: cachetools<6.0,>=2.0.0 in c:\\users\\cglyn\\appdata\\local\\programs\\python\\python311\\lib\\site-packages (from google-auth>=1.0.1->kubernetes>=28.1.0->chromadb) (5.3.2)\n",
      "Requirement already satisfied: pyasn1-modules>=0.2.1 in c:\\users\\cglyn\\appdata\\local\\programs\\python\\python311\\lib\\site-packages (from google-auth>=1.0.1->kubernetes>=28.1.0->chromadb) (0.3.0)\n",
      "Requirement already satisfied: rsa<5,>=3.1.4 in c:\\users\\cglyn\\appdata\\local\\programs\\python\\python311\\lib\\site-packages (from google-auth>=1.0.1->kubernetes>=28.1.0->chromadb) (4.9)\n",
      "Requirement already satisfied: filelock in c:\\users\\cglyn\\appdata\\local\\programs\\python\\python311\\lib\\site-packages (from huggingface-hub<1.0,>=0.16.4->tokenizers>=0.13.2->chromadb) (3.13.1)\n",
      "Requirement already satisfied: fsspec>=2023.5.0 in c:\\users\\cglyn\\appdata\\local\\programs\\python\\python311\\lib\\site-packages (from huggingface-hub<1.0,>=0.16.4->tokenizers>=0.13.2->chromadb) (2023.12.1)\n",
      "Requirement already satisfied: zipp>=0.5 in c:\\users\\cglyn\\appdata\\local\\programs\\python\\python311\\lib\\site-packages (from importlib-metadata<=7.0,>=6.0->opentelemetry-api>=1.2.0->chromadb) (3.17.0)\n",
      "Requirement already satisfied: humanfriendly>=9.1 in c:\\users\\cglyn\\appdata\\local\\programs\\python\\python311\\lib\\site-packages (from coloredlogs->onnxruntime>=1.14.1->chromadb) (10.0)\n",
      "Requirement already satisfied: mpmath>=0.19 in c:\\users\\cglyn\\appdata\\local\\programs\\python\\python311\\lib\\site-packages (from sympy->onnxruntime>=1.14.1->chromadb) (1.3.0)\n",
      "Requirement already satisfied: pyreadline3 in c:\\users\\cglyn\\appdata\\local\\programs\\python\\python311\\lib\\site-packages (from humanfriendly>=9.1->coloredlogs->onnxruntime>=1.14.1->chromadb) (3.4.1)\n",
      "Requirement already satisfied: pyasn1<0.6.0,>=0.4.6 in c:\\users\\cglyn\\appdata\\local\\programs\\python\\python311\\lib\\site-packages (from pyasn1-modules>=0.2.1->google-auth>=1.0.1->kubernetes>=28.1.0->chromadb) (0.5.1)\n",
      "Note: you may need to restart the kernel to use updated packages.\n"
     ]
    },
    {
     "name": "stderr",
     "output_type": "stream",
     "text": [
      "DEPRECATION: Loading egg at c:\\users\\cglyn\\appdata\\local\\programs\\python\\python311\\lib\\site-packages\\requests-2.31.0-py3.11.egg is deprecated. pip 24.3 will enforce this behaviour change. A possible replacement is to use pip for package installation.. Discussion can be found at https://github.com/pypa/pip/issues/12330\n",
      "DEPRECATION: Loading egg at c:\\users\\cglyn\\appdata\\local\\programs\\python\\python311\\lib\\site-packages\\websockets-11.0-py3.11.egg is deprecated. pip 24.3 will enforce this behaviour change. A possible replacement is to use pip for package installation.. Discussion can be found at https://github.com/pypa/pip/issues/12330\n",
      "DEPRECATION: torchsde 0.2.5 has a non-standard dependency specifier numpy>=1.19.*; python_version >= \"3.7\". pip 24.1 will enforce this behaviour change. A possible replacement is to upgrade to a newer version of torchsde or contact the author to suggest that they release a version with a conforming dependency specifiers. Discussion can be found at https://github.com/pypa/pip/issues/12063\n"
     ]
    },
    {
     "name": "stdout",
     "output_type": "stream",
     "text": [
      "Requirement already satisfied: tiktoken in c:\\users\\cglyn\\appdata\\local\\programs\\python\\python311\\lib\\site-packages (0.6.0)Note: you may need to restart the kernel to use updated packages.\n",
      "\n",
      "Requirement already satisfied: regex>=2022.1.18 in c:\\users\\cglyn\\appdata\\local\\programs\\python\\python311\\lib\\site-packages (from tiktoken) (2023.10.3)\n",
      "Requirement already satisfied: requests>=2.26.0 in c:\\users\\cglyn\\appdata\\local\\programs\\python\\python311\\lib\\site-packages\\requests-2.31.0-py3.11.egg (from tiktoken) (2.31.0)\n",
      "Requirement already satisfied: certifi>=2017.4.17 in c:\\users\\cglyn\\appdata\\local\\programs\\python\\python311\\lib\\site-packages (from requests>=2.26.0->tiktoken) (2024.2.2)\n",
      "Requirement already satisfied: charset-normalizer<4,>=2 in c:\\users\\cglyn\\appdata\\local\\programs\\python\\python311\\lib\\site-packages (from requests>=2.26.0->tiktoken) (3.3.2)\n",
      "Requirement already satisfied: idna<4,>=2.5 in c:\\users\\cglyn\\appdata\\local\\programs\\python\\python311\\lib\\site-packages (from requests>=2.26.0->tiktoken) (3.6)\n",
      "Requirement already satisfied: urllib3<3,>=1.21.1 in c:\\users\\cglyn\\appdata\\local\\programs\\python\\python311\\lib\\site-packages (from requests>=2.26.0->tiktoken) (2.2.1)\n"
     ]
    },
    {
     "name": "stderr",
     "output_type": "stream",
     "text": [
      "DEPRECATION: Loading egg at c:\\users\\cglyn\\appdata\\local\\programs\\python\\python311\\lib\\site-packages\\requests-2.31.0-py3.11.egg is deprecated. pip 24.3 will enforce this behaviour change. A possible replacement is to use pip for package installation.. Discussion can be found at https://github.com/pypa/pip/issues/12330\n",
      "DEPRECATION: Loading egg at c:\\users\\cglyn\\appdata\\local\\programs\\python\\python311\\lib\\site-packages\\websockets-11.0-py3.11.egg is deprecated. pip 24.3 will enforce this behaviour change. A possible replacement is to use pip for package installation.. Discussion can be found at https://github.com/pypa/pip/issues/12330\n",
      "DEPRECATION: torchsde 0.2.5 has a non-standard dependency specifier numpy>=1.19.*; python_version >= \"3.7\". pip 24.1 will enforce this behaviour change. A possible replacement is to upgrade to a newer version of torchsde or contact the author to suggest that they release a version with a conforming dependency specifiers. Discussion can be found at https://github.com/pypa/pip/issues/12063\n"
     ]
    },
    {
     "name": "stdout",
     "output_type": "stream",
     "text": [
      "Requirement already satisfied: python-dotenv in c:\\users\\cglyn\\appdata\\local\\programs\\python\\python311\\lib\\site-packages (1.0.1)\n",
      "Note: you may need to restart the kernel to use updated packages.\n"
     ]
    },
    {
     "name": "stderr",
     "output_type": "stream",
     "text": [
      "DEPRECATION: Loading egg at c:\\users\\cglyn\\appdata\\local\\programs\\python\\python311\\lib\\site-packages\\requests-2.31.0-py3.11.egg is deprecated. pip 24.3 will enforce this behaviour change. A possible replacement is to use pip for package installation.. Discussion can be found at https://github.com/pypa/pip/issues/12330\n",
      "DEPRECATION: Loading egg at c:\\users\\cglyn\\appdata\\local\\programs\\python\\python311\\lib\\site-packages\\websockets-11.0-py3.11.egg is deprecated. pip 24.3 will enforce this behaviour change. A possible replacement is to use pip for package installation.. Discussion can be found at https://github.com/pypa/pip/issues/12330\n",
      "DEPRECATION: torchsde 0.2.5 has a non-standard dependency specifier numpy>=1.19.*; python_version >= \"3.7\". pip 24.1 will enforce this behaviour change. A possible replacement is to upgrade to a newer version of torchsde or contact the author to suggest that they release a version with a conforming dependency specifiers. Discussion can be found at https://github.com/pypa/pip/issues/12063\n"
     ]
    }
   ],
   "source": [
    "%pip install langchain\n",
    "%pip install openai\n",
    "%pip install chromadb\n",
    "%pip install tiktoken\n",
    "%pip install python-dotenv"
   ]
  },
  {
   "cell_type": "markdown",
   "id": "8babb007-8d92-4eb8-9964-dc0d23e7f236",
   "metadata": {
    "tags": []
   },
   "source": [
    "## Load environment variables\n",
    "\n",
    "Change the path if necessary (read `README.md` first and follow the instructions to setup the `.env` file):"
   ]
  },
  {
   "cell_type": "code",
   "execution_count": null,
   "id": "68173a51-4762-42f3-9049-277fe79ab62a",
   "metadata": {},
   "outputs": [],
   "source": [
    "# import os\n",
    "# os.chdir(\"/home/jovyan/work/\")"
   ]
  },
  {
   "cell_type": "code",
   "execution_count": 2,
   "id": "9ba55308-dc1a-4cf7-ad0f-e27330c951ed",
   "metadata": {},
   "outputs": [],
   "source": [
    "%load_ext dotenv\n",
    "%dotenv"
   ]
  },
  {
   "cell_type": "markdown",
   "id": "e55d879a-1a81-42b3-a70b-a59e0d3730ca",
   "metadata": {},
   "source": [
    "Disable warnings:"
   ]
  },
  {
   "cell_type": "code",
   "execution_count": 3,
   "id": "fe0302ca-0b99-4155-9a6a-401fcaed127c",
   "metadata": {},
   "outputs": [],
   "source": [
    "import warnings\n",
    "warnings.filterwarnings('ignore')"
   ]
  },
  {
   "cell_type": "markdown",
   "id": "91a7880e-d3fc-4485-a875-9133006a2c33",
   "metadata": {},
   "source": [
    "## Load a repository"
   ]
  },
  {
   "cell_type": "code",
   "execution_count": 4,
   "id": "f70dd2e8-6dea-49b8-b4f9-26c7d92027fa",
   "metadata": {},
   "outputs": [],
   "source": [
    "from langchain.document_loaders.text import TextLoader\n",
    "from langchain.embeddings.openai import OpenAIEmbeddings\n",
    "from langchain.text_splitter import CharacterTextSplitter\n",
    "from langchain.vectorstores import Chroma\n",
    "import urllib.request"
   ]
  },
  {
   "cell_type": "code",
   "execution_count": 18,
   "id": "ccd8600c-4493-4257-af44-d962272f50fa",
   "metadata": {},
   "outputs": [],
   "source": [
    "embeddings = OpenAIEmbeddings(disallowed_special=())\n",
    "\n",
    "text_splitter = CharacterTextSplitter(\n",
    "    separator = \"\\n\\n\",\n",
    "    chunk_size = 10810,\n",
    "    chunk_overlap  = 200,\n",
    "    length_function = len,\n",
    ")"
   ]
  },
  {
   "cell_type": "code",
   "execution_count": 19,
   "id": "313cd5fc-eb4a-4223-b40e-5a831a0d07d6",
   "metadata": {},
   "outputs": [],
   "source": [
    "db = Chroma(embedding_function=embeddings)"
   ]
  },
  {
   "cell_type": "code",
   "execution_count": 20,
   "id": "6e974cb7-fd8a-4baa-b32b-28e0bcc120e3",
   "metadata": {},
   "outputs": [],
   "source": [
    "from langchain.vectorstores.base import VectorStoreRetriever\n",
    "\n",
    "\n",
    "def ingest_book(book_url: str, book_name: str, db: Chroma) -> VectorStoreRetriever:\n",
    "    file_path = f\"/tmp/{book_name}.txt\"\n",
    "    urllib.request.urlretrieve(book_url, file_path)\n",
    "\n",
    "    loader = TextLoader(file_path)\n",
    "    documents = loader.load()\n",
    "\n",
    "    texts = text_splitter.split_documents(documents)\n",
    "\n",
    "    chunks = [doc.page_content for doc in texts]\n",
    "    metadatas = [doc.metadata for doc in texts]\n",
    "    db.add_texts(texts=chunks, metadatas=metadatas)\n",
    "\n",
    "    return db.as_retriever(\n",
    "        search_type=\"similarity\",\n",
    "        search_kwargs={\n",
    "            \"k\": 6,\n",
    "            \"filter\": {\n",
    "                \"source\": file_path,\n",
    "            }\n",
    "        },\n",
    "    )"
   ]
  },
  {
   "cell_type": "code",
   "execution_count": 21,
   "id": "be7a38d8-b8cc-4836-8c4f-8c0e76416b74",
   "metadata": {},
   "outputs": [],
   "source": [
    "retriever1 = ingest_book(\"https://www.gutenberg.org/files/55317/55317-0.txt\", \"Meditations\", db)"
   ]
  },
  {
   "cell_type": "code",
   "execution_count": 38,
   "id": "f58e9abf-fb9a-4c03-bec6-5af1707c8280",
   "metadata": {},
   "outputs": [],
   "source": [
    "import requests\n",
    "\n",
    "def ingest_book(url, title, db):\n",
    "    response = requests.get(url)\n",
    "    if response.status_code == 200:\n",
    "        text = response.content.decode(\"utf-8\")\n",
    "        # Process the text further (e.g., store it in the database)\n",
    "    else:\n",
    "        print(\"Failed to retrieve the book from the URL\")\n",
    "\n",
    "# Example usage\n",
    "retriever2 = ingest_book(\"https://www.gutenberg.org/ebooks/12096.txt.utf-8\", \"Bushido\", db)\n"
   ]
  },
  {
   "cell_type": "markdown",
   "id": "4fdaa8d3-b399-449a-a963-2b86a87cd4d4",
   "metadata": {},
   "source": [
    "## Router"
   ]
  },
  {
   "cell_type": "code",
   "execution_count": 36,
   "id": "46595357-f907-4f23-a6e3-cd7d5b0c3573",
   "metadata": {},
   "outputs": [],
   "source": [
    "from langchain.chains.router import MultiRetrievalQAChain\n",
    "from langchain.chat_models import ChatOpenAI"
   ]
  },
  {
   "cell_type": "markdown",
   "id": "91eef783-16bd-4e11-a5bf-a25c439427c2",
   "metadata": {},
   "source": [
    "**Note:** change between models, or tweak splitter and retrievers parameters, if you have issues. It works well with GPT-4."
   ]
  },
  {
   "cell_type": "code",
   "execution_count": 37,
   "id": "26fd2130-dbc1-4d4b-bcac-4e32bb583fd4",
   "metadata": {},
   "outputs": [],
   "source": [
    "llm = ChatOpenAI(temperature=0)\n",
    "#llm = ChatOpenAI(model=\"gpt-3.5-turbo\", temperature=0)\n",
    "#llm = ChatOpenAI(model=\"gpt-4\", temperature=0)"
   ]
  },
  {
   "cell_type": "code",
   "execution_count": 39,
   "id": "399ab9d2-a3b4-4108-acad-6b8ec3f0ad4b",
   "metadata": {},
   "outputs": [],
   "source": [
    "retriever_infos = [\n",
    "    {\n",
    "        \"name\": \"meditations\",\n",
    "        \"description\": \"Good for answering questions about Meditations by Marcus Aurelius\",\n",
    "        \"retriever\": retriever1,\n",
    "    },\n",
    "    {\n",
    "        \"name\": \"bushido\",\n",
    "        \"description\": \"Good for answering questions about Bushido book\",\n",
    "        \"retriever\": retriever2,\n",
    "    },\n",
    "]"
   ]
  },
  {
   "cell_type": "code",
   "execution_count": 41,
   "id": "7b8a0998-432e-4e71-a919-4c8d35d70590",
   "metadata": {},
   "outputs": [
    {
     "ename": "ValidationError",
     "evalue": "1 validation error for RetrievalQA\nretriever\n  none is not an allowed value (type=type_error.none.not_allowed)",
     "output_type": "error",
     "traceback": [
      "\u001b[1;31m---------------------------------------------------------------------------\u001b[0m",
      "\u001b[1;31mValidationError\u001b[0m                           Traceback (most recent call last)",
      "Cell \u001b[1;32mIn[41], line 1\u001b[0m\n\u001b[1;32m----> 1\u001b[0m qa \u001b[38;5;241m=\u001b[39m \u001b[43mMultiRetrievalQAChain\u001b[49m\u001b[38;5;241;43m.\u001b[39;49m\u001b[43mfrom_retrievers\u001b[49m\u001b[43m(\u001b[49m\u001b[43mllm\u001b[49m\u001b[43m,\u001b[49m\u001b[43m \u001b[49m\u001b[43mretriever_infos\u001b[49m\u001b[43m)\u001b[49m\n",
      "File \u001b[1;32mc:\\Users\\cglyn\\AppData\\Local\\Programs\\Python\\Python311\\Lib\\site-packages\\langchain\\chains\\router\\multi_retrieval_qa.py:67\u001b[0m, in \u001b[0;36mMultiRetrievalQAChain.from_retrievers\u001b[1;34m(cls, llm, retriever_infos, default_retriever, default_prompt, default_chain, **kwargs)\u001b[0m\n\u001b[0;32m     65\u001b[0m prompt \u001b[38;5;241m=\u001b[39m r_info\u001b[38;5;241m.\u001b[39mget(\u001b[38;5;124m\"\u001b[39m\u001b[38;5;124mprompt\u001b[39m\u001b[38;5;124m\"\u001b[39m)\n\u001b[0;32m     66\u001b[0m retriever \u001b[38;5;241m=\u001b[39m r_info[\u001b[38;5;124m\"\u001b[39m\u001b[38;5;124mretriever\u001b[39m\u001b[38;5;124m\"\u001b[39m]\n\u001b[1;32m---> 67\u001b[0m chain \u001b[38;5;241m=\u001b[39m \u001b[43mRetrievalQA\u001b[49m\u001b[38;5;241;43m.\u001b[39;49m\u001b[43mfrom_llm\u001b[49m\u001b[43m(\u001b[49m\u001b[43mllm\u001b[49m\u001b[43m,\u001b[49m\u001b[43m \u001b[49m\u001b[43mprompt\u001b[49m\u001b[38;5;241;43m=\u001b[39;49m\u001b[43mprompt\u001b[49m\u001b[43m,\u001b[49m\u001b[43m \u001b[49m\u001b[43mretriever\u001b[49m\u001b[38;5;241;43m=\u001b[39;49m\u001b[43mretriever\u001b[49m\u001b[43m)\u001b[49m\n\u001b[0;32m     68\u001b[0m name \u001b[38;5;241m=\u001b[39m r_info[\u001b[38;5;124m\"\u001b[39m\u001b[38;5;124mname\u001b[39m\u001b[38;5;124m\"\u001b[39m]\n\u001b[0;32m     69\u001b[0m destination_chains[name] \u001b[38;5;241m=\u001b[39m chain\n",
      "File \u001b[1;32mc:\\Users\\cglyn\\AppData\\Local\\Programs\\Python\\Python311\\Lib\\site-packages\\langchain\\chains\\retrieval_qa\\base.py:90\u001b[0m, in \u001b[0;36mBaseRetrievalQA.from_llm\u001b[1;34m(cls, llm, prompt, callbacks, llm_chain_kwargs, **kwargs)\u001b[0m\n\u001b[0;32m     80\u001b[0m document_prompt \u001b[38;5;241m=\u001b[39m PromptTemplate(\n\u001b[0;32m     81\u001b[0m     input_variables\u001b[38;5;241m=\u001b[39m[\u001b[38;5;124m\"\u001b[39m\u001b[38;5;124mpage_content\u001b[39m\u001b[38;5;124m\"\u001b[39m], template\u001b[38;5;241m=\u001b[39m\u001b[38;5;124m\"\u001b[39m\u001b[38;5;124mContext:\u001b[39m\u001b[38;5;130;01m\\n\u001b[39;00m\u001b[38;5;132;01m{page_content}\u001b[39;00m\u001b[38;5;124m\"\u001b[39m\n\u001b[0;32m     82\u001b[0m )\n\u001b[0;32m     83\u001b[0m combine_documents_chain \u001b[38;5;241m=\u001b[39m StuffDocumentsChain(\n\u001b[0;32m     84\u001b[0m     llm_chain\u001b[38;5;241m=\u001b[39mllm_chain,\n\u001b[0;32m     85\u001b[0m     document_variable_name\u001b[38;5;241m=\u001b[39m\u001b[38;5;124m\"\u001b[39m\u001b[38;5;124mcontext\u001b[39m\u001b[38;5;124m\"\u001b[39m,\n\u001b[0;32m     86\u001b[0m     document_prompt\u001b[38;5;241m=\u001b[39mdocument_prompt,\n\u001b[0;32m     87\u001b[0m     callbacks\u001b[38;5;241m=\u001b[39mcallbacks,\n\u001b[0;32m     88\u001b[0m )\n\u001b[1;32m---> 90\u001b[0m \u001b[38;5;28;01mreturn\u001b[39;00m \u001b[38;5;28;43mcls\u001b[39;49m\u001b[43m(\u001b[49m\n\u001b[0;32m     91\u001b[0m \u001b[43m    \u001b[49m\u001b[43mcombine_documents_chain\u001b[49m\u001b[38;5;241;43m=\u001b[39;49m\u001b[43mcombine_documents_chain\u001b[49m\u001b[43m,\u001b[49m\n\u001b[0;32m     92\u001b[0m \u001b[43m    \u001b[49m\u001b[43mcallbacks\u001b[49m\u001b[38;5;241;43m=\u001b[39;49m\u001b[43mcallbacks\u001b[49m\u001b[43m,\u001b[49m\n\u001b[0;32m     93\u001b[0m \u001b[43m    \u001b[49m\u001b[38;5;241;43m*\u001b[39;49m\u001b[38;5;241;43m*\u001b[39;49m\u001b[43mkwargs\u001b[49m\u001b[43m,\u001b[49m\n\u001b[0;32m     94\u001b[0m \u001b[43m\u001b[49m\u001b[43m)\u001b[49m\n",
      "File \u001b[1;32mc:\\Users\\cglyn\\AppData\\Local\\Programs\\Python\\Python311\\Lib\\site-packages\\langchain_core\\_api\\deprecation.py:183\u001b[0m, in \u001b[0;36mdeprecated.<locals>.deprecate.<locals>.finalize.<locals>.warn_if_direct_instance\u001b[1;34m(self, *args, **kwargs)\u001b[0m\n\u001b[0;32m    181\u001b[0m     warned \u001b[38;5;241m=\u001b[39m \u001b[38;5;28;01mTrue\u001b[39;00m\n\u001b[0;32m    182\u001b[0m     emit_warning()\n\u001b[1;32m--> 183\u001b[0m \u001b[38;5;28;01mreturn\u001b[39;00m \u001b[43mwrapped\u001b[49m\u001b[43m(\u001b[49m\u001b[38;5;28;43mself\u001b[39;49m\u001b[43m,\u001b[49m\u001b[43m \u001b[49m\u001b[38;5;241;43m*\u001b[39;49m\u001b[43margs\u001b[49m\u001b[43m,\u001b[49m\u001b[43m \u001b[49m\u001b[38;5;241;43m*\u001b[39;49m\u001b[38;5;241;43m*\u001b[39;49m\u001b[43mkwargs\u001b[49m\u001b[43m)\u001b[49m\n",
      "File \u001b[1;32mc:\\Users\\cglyn\\AppData\\Local\\Programs\\Python\\Python311\\Lib\\site-packages\\pydantic\\v1\\main.py:341\u001b[0m, in \u001b[0;36mBaseModel.__init__\u001b[1;34m(__pydantic_self__, **data)\u001b[0m\n\u001b[0;32m    339\u001b[0m values, fields_set, validation_error \u001b[38;5;241m=\u001b[39m validate_model(__pydantic_self__\u001b[38;5;241m.\u001b[39m\u001b[38;5;18m__class__\u001b[39m, data)\n\u001b[0;32m    340\u001b[0m \u001b[38;5;28;01mif\u001b[39;00m validation_error:\n\u001b[1;32m--> 341\u001b[0m     \u001b[38;5;28;01mraise\u001b[39;00m validation_error\n\u001b[0;32m    342\u001b[0m \u001b[38;5;28;01mtry\u001b[39;00m:\n\u001b[0;32m    343\u001b[0m     object_setattr(__pydantic_self__, \u001b[38;5;124m'\u001b[39m\u001b[38;5;124m__dict__\u001b[39m\u001b[38;5;124m'\u001b[39m, values)\n",
      "\u001b[1;31mValidationError\u001b[0m: 1 validation error for RetrievalQA\nretriever\n  none is not an allowed value (type=type_error.none.not_allowed)"
     ]
    }
   ],
   "source": [
    "qa = MultiRetrievalQAChain.from_retrievers(llm, retriever_infos)"
   ]
  },
  {
   "cell_type": "markdown",
   "id": "f24a0d80-2ea7-45e7-851f-bb27119619b0",
   "metadata": {},
   "source": [
    "## Test router"
   ]
  },
  {
   "cell_type": "code",
   "execution_count": 42,
   "id": "a3eed123-6a83-4804-a240-1ce0191a4be3",
   "metadata": {},
   "outputs": [
    {
     "data": {
      "text/plain": [
       "{'input': 'How the Bushido approachs the concept of personal honor?',\n",
       " 'query': 'How does Bushido approach the concept of personal honor?',\n",
       " 'result': \"Bushido, the code of moral principles followed by the samurai in feudal Japan, places a significant emphasis on personal honor. The concept of personal honor in Bushido is closely tied to loyalty, courage, integrity, and self-discipline. Samurai were expected to act with honor in all aspects of their lives, to uphold their word, and to maintain their dignity even in the face of adversity. Dishonorable behavior was considered a grave offense, often leading to severe consequences. The idea of personal honor in Bushido is deeply rooted in the belief that one's actions reflect not only on oneself but also on one's family, ancestors, and descendants.\"}"
      ]
     },
     "execution_count": 42,
     "metadata": {},
     "output_type": "execute_result"
    }
   ],
   "source": [
    "qa(\"How the Bushido approachs the concept of personal honor?\")"
   ]
  },
  {
   "cell_type": "code",
   "execution_count": 43,
   "id": "69e84a82-8b44-4965-9052-8e235371d188",
   "metadata": {},
   "outputs": [
    {
     "data": {
      "text/plain": [
       "{'input': 'How Marcus Aurelio approachs the concept of personal honor?',\n",
       " 'query': 'How Marcus Aurelius approaches the concept of personal honor?',\n",
       " 'result': \"Marcus Aurelius approaches the concept of personal honor by emphasizing the importance of staying true to one's principles and duties, regardless of external circumstances. He believes that a person should focus on living a life in accordance with their nature and the principles of good and evil. He advises against seeking reputation among others and instead encourages individuals to act in a way that aligns with virtues like justice, temperance, courage, and freedom. Aurelius suggests that true honor comes from fulfilling one's responsibilities and living a life guided by moral principles, rather than seeking external validation or recognition.\"}"
      ]
     },
     "execution_count": 43,
     "metadata": {},
     "output_type": "execute_result"
    }
   ],
   "source": [
    "qa(\"How Marcus Aurelio approachs the concept of personal honor?\")"
   ]
  },
  {
   "cell_type": "markdown",
   "id": "17afcf6f-965b-4016-a484-1701a093424a",
   "metadata": {},
   "source": [
    "## Agent"
   ]
  },
  {
   "cell_type": "code",
   "execution_count": 29,
   "id": "7edbd91e-f030-4868-b517-943ac949b38e",
   "metadata": {},
   "outputs": [],
   "source": [
    "from langchain.agents import initialize_agent, Tool"
   ]
  },
  {
   "cell_type": "code",
   "execution_count": 30,
   "id": "fdeb6712-5e8b-47a8-aee1-f0942cc9e228",
   "metadata": {},
   "outputs": [],
   "source": [
    "tools = [\n",
    "    Tool(\n",
    "        name = \"Meditations\",\n",
    "        func=retriever1.get_relevant_documents,\n",
    "        description=\"Useful for answering questions about Meditations by Marcus Aurelius.\"\n",
    "    ),\n",
    "    # Tool(\n",
    "    #     name = \"Bushido\",\n",
    "    #     func=retriever1.get_relevant_documents,\n",
    "    #     description=\"Useful for answering questions about Bushido book.\"\n",
    "    # ),\n",
    "]"
   ]
  },
  {
   "cell_type": "code",
   "execution_count": 31,
   "id": "8f50b5f4-57c5-4262-a677-93467b508c82",
   "metadata": {},
   "outputs": [
    {
     "name": "stderr",
     "output_type": "stream",
     "text": [
      "c:\\Users\\cglyn\\AppData\\Local\\Programs\\Python\\Python311\\Lib\\site-packages\\langchain_core\\_api\\deprecation.py:119: LangChainDeprecationWarning: The function `initialize_agent` was deprecated in LangChain 0.1.0 and will be removed in 0.3.0. Use Use new agent constructor methods like create_react_agent, create_json_agent, create_structured_chat_agent, etc. instead.\n",
      "  warn_deprecated(\n"
     ]
    }
   ],
   "source": [
    "agent = initialize_agent(tools, llm, agent=\"zero-shot-react-description\", verbose=True)"
   ]
  },
  {
   "cell_type": "markdown",
   "id": "c090e80e-f598-463f-a4bd-840ed6204672",
   "metadata": {},
   "source": [
    "## Test agent"
   ]
  },
  {
   "cell_type": "code",
   "execution_count": 32,
   "id": "2bd2efa9-e826-4497-904c-6c2779b8c51f",
   "metadata": {},
   "outputs": [
    {
     "name": "stderr",
     "output_type": "stream",
     "text": [
      "c:\\Users\\cglyn\\AppData\\Local\\Programs\\Python\\Python311\\Lib\\site-packages\\langchain_core\\_api\\deprecation.py:119: LangChainDeprecationWarning: The method `Chain.run` was deprecated in langchain 0.1.0 and will be removed in 0.3.0. Use invoke instead.\n",
      "  warn_deprecated(\n"
     ]
    },
    {
     "name": "stdout",
     "output_type": "stream",
     "text": [
      "\n",
      "\n",
      "\u001b[1m> Entering new AgentExecutor chain...\u001b[0m\n",
      "\u001b[32;1m\u001b[1;3mIt would be helpful to consult Meditations by Marcus Aurelius to understand his perspective on suffering and adversity.\n",
      "Action: [Meditations]\n",
      "Action Input: Read Book 4 of Meditations\u001b[0m\n",
      "Observation: [Meditations] is not a valid tool, try one of [Meditations].\n",
      "Thought:\u001b[32;1m\u001b[1;3mI should try using the tool \"Meditations\" instead of [Meditations].\n",
      "Action: [Meditations]\n",
      "Action Input: Read Book 4 of Meditations\u001b[0m\n",
      "Observation: [Meditations] is not a valid tool, try one of [Meditations].\n",
      "Thought:\u001b[32;1m\u001b[1;3mI should use the tool \"Meditations\" to find the perspective of Marcus Aurelius on suffering and adversity.\n",
      "Action: [Meditations]\n",
      "Action Input: Read Book 4 of Meditations\u001b[0m\n",
      "Observation: [Meditations] is not a valid tool, try one of [Meditations].\n",
      "Thought:\u001b[32;1m\u001b[1;3mI should try using the tool \"Meditations\" to understand Marcus Aurelius' perspective on suffering and adversity.\n",
      "Action: [Meditations]\n",
      "Action Input: Read Book 4 of Meditations\u001b[0m\n",
      "Observation: [Meditations] is not a valid tool, try one of [Meditations].\n",
      "Thought:\u001b[32;1m\u001b[1;3mI should try using the tool \"Meditations\" to understand Marcus Aurelius' perspective on suffering and adversity.\n",
      "Action: [Meditations]\n",
      "Action Input: Read \"Meditations\" by Marcus Aurelius\u001b[0m\n",
      "Observation: [Meditations] is not a valid tool, try one of [Meditations].\n",
      "Thought:\u001b[32;1m\u001b[1;3mI should use the tool \"Meditations\" to understand Marcus Aurelius' perspective on suffering and adversity.\n",
      "Action: [Meditations]\n",
      "Action Input: Read \"Meditations\" by Marcus Aurelius\u001b[0m\n",
      "Observation: [Meditations] is not a valid tool, try one of [Meditations].\n",
      "Thought:\u001b[32;1m\u001b[1;3mI should try using the tool \"Meditations\" to understand Marcus Aurelius' perspective on suffering and adversity.\n",
      "Action: [Meditations]\n",
      "Action Input: Read \"Meditations\" by Marcus Aurelius\u001b[0m\n",
      "Observation: [Meditations] is not a valid tool, try one of [Meditations].\n",
      "Thought:\u001b[32;1m\u001b[1;3mI should try using the tool \"Meditations\" to understand Marcus Aurelius' perspective on suffering and adversity.\n",
      "Action: [Meditations]\n",
      "Action Input: Read \"Meditations\" by Marcus Aurelius\u001b[0m\n",
      "Observation: [Meditations] is not a valid tool, try one of [Meditations].\n",
      "Thought:\u001b[32;1m\u001b[1;3mI should try using the tool \"Meditations\" to understand Marcus Aurelius' perspective on suffering and adversity.\n",
      "Action: [Meditations]\n",
      "Action Input: Read \"Meditations\" by Marcus Aurelius\u001b[0m\n",
      "Observation: [Meditations] is not a valid tool, try one of [Meditations].\n",
      "Thought:\u001b[32;1m\u001b[1;3mI should try using the tool \"Meditations\" to understand Marcus Aurelius' perspective on suffering and adversity.\n",
      "Action: [Meditations]\n",
      "Action Input: Read \"Meditations\" by Marcus Aurelius\u001b[0m\n",
      "Observation: [Meditations] is not a valid tool, try one of [Meditations].\n",
      "Thought:\u001b[32;1m\u001b[1;3mI should try using the tool \"Meditations\" to understand Marcus Aurelius' perspective on suffering and adversity.\n",
      "Action: [Meditations]\n",
      "Action Input: Read \"Meditations\" by Marcus Aurelius\u001b[0m\n",
      "Observation: [Meditations] is not a valid tool, try one of [Meditations].\n",
      "Thought:\u001b[32;1m\u001b[1;3mI should try using the tool \"Meditations\" to understand Marcus Aurelius' perspective on suffering and adversity.\n",
      "Action: [Meditations]\n",
      "Action Input: Read \"Meditations\" by Marcus Aurelius\u001b[0m\n",
      "Observation: [Meditations] is not a valid tool, try one of [Meditations].\n",
      "Thought:\u001b[32;1m\u001b[1;3mI should try using the tool \"Meditations\" to understand Marcus Aurelius' perspective on suffering and adversity.\n",
      "Action: [Meditations]\n",
      "Action Input: Read \"Meditations\" by Marcus Aurelius\u001b[0m\n",
      "Observation: [Meditations] is not a valid tool, try one of [Meditations].\n",
      "Thought:\u001b[32;1m\u001b[1;3mI should try using the tool \"Meditations\" to understand Marcus Aurelius' perspective on suffering and adversity.\n",
      "Action: [Meditations]\n",
      "Action Input: Read \"Meditations\" by Marcus Aurelius\u001b[0m\n",
      "Observation: [Meditations] is not a valid tool, try one of [Meditations].\n",
      "Thought:\u001b[32;1m\u001b[1;3mI should try using the tool \"Meditations\" to understand Marcus Aurelius' perspective on suffering and adversity.\n",
      "Action: [Meditations]\n",
      "Action Input: Read \"Meditations\" by Marcus Aurelius\u001b[0m\n",
      "Observation: [Meditations] is not a valid tool, try one of [Meditations].\n",
      "Thought:\u001b[32;1m\u001b[1;3m\u001b[0m\n",
      "\n",
      "\u001b[1m> Finished chain.\u001b[0m\n",
      "Agent stopped due to iteration limit or time limit.\n"
     ]
    }
   ],
   "source": [
    "print(agent.run(\"What is the perspective of Marcus Aurelius and Bushido on the nature of suffering and adversity, and how do they recommend dealing with these challenges?\"))"
   ]
  },
  {
   "cell_type": "code",
   "execution_count": null,
   "id": "ea9d8ee7-d545-4026-a39b-509fa6ceb5fe",
   "metadata": {},
   "outputs": [],
   "source": [
    "print(agent.run(\"How do Marcus Aurelius and the principles of Bushido approach the pursuit of inner peace and tranquility in the midst of external chaos and conflict?\"))"
   ]
  },
  {
   "cell_type": "code",
   "execution_count": 44,
   "id": "592ebc25-7bd2-4240-883c-3371fae30efa",
   "metadata": {},
   "outputs": [
    {
     "name": "stdout",
     "output_type": "stream",
     "text": [
      "\n",
      "\n",
      "\u001b[1m> Entering new AgentExecutor chain...\u001b[0m\n",
      "\u001b[32;1m\u001b[1;3mBoth Marcus Aurelius and the principles of Bushido emphasize the importance of constant self-improvement and lifelong learning through their teachings and practices.\n",
      "Action: Meditations\n",
      "Action Input: Marcus Aurelius' writings on self-improvement and learning\u001b[0m\n",
      "Observation: \u001b[36;1m\u001b[1;3m[Document(page_content=\"ï»¿The Project Gutenberg eBook of The Meditations of the Emperor Marcus Aurelius Antoninus, by Marcus Aurelius\\n\\nThis eBook is for the use of anyone anywhere in the United States and\\nmost other parts of the world at no cost and with almost no restrictions\\nwhatsoever. You may copy it, give it away or re-use it under the terms\\nof the Project Gutenberg License included with this eBook or online at\\nwww.gutenberg.org. If you are not located in the United States, you\\nwill have to check the laws of the country where you are located before\\nusing this eBook.\\n\\nTitle: The Meditations of the Emperor Marcus Aurelius Antoninus\\nA new rendering based on the Foulis translation of 1742\\n\\nAuthor: Marcus Aurelius\\n\\nTranslator: George Chrystal\\n\\nRelease Date: August 9, 2017 [eBook #55317]\\n[Most recently updated: June 27, 2021]\\n\\nLanguage: English\\n\\nCharacter set encoding: UTF-8\\n\\nProduced by: E.H.N.\\n\\n*** START OF THE PROJECT GUTENBERG EBOOK THE MEDITATIONS OF MARCUS AURELIUS ANTONINUS ***\\n\\n\\n                        THE MEDITATIONS OF THE\\n                            EMPEROR MARCUS\\n                          AURELIUS ANTONINUS\\n\\n                     A NEW RENDERING BASED ON THE\\n                      FOULIS TRANSLATION OF 1742\\n\\n                        BY GEORGE W. CHRYSTAL\\n            WARNER EXHIBITIONER OF BALLIOL COLLEGE, OXFORD\\n\\n                              EDINBURGH\\n                        OTTO SCHULZE & COMPANY\\n                       20 SOUTH FREDERIC STREET\\n                    LONDON: S. C. BROWN & COMPANY\\n                    47 GREAT RUSSELL STREET, W.C.\\n\\n                                 1902\\n\\n                           MARCUS AURELIUS\\n                              ANTONINUS\\n\\n                               BOOK I.\\n\\n1. I learned from my grandfather, Verus, to use good manners, and to\\nput restraint on anger. 2. In the famous memory of my father I had a\\npattern of modesty and manliness. 3. Of my mother I learned to be\\npious and generous; to keep myself not only from evil deeds, but even\\nfrom evil thoughts; and to live with a simplicity which is far from\\ncustomary among the rich. 4. I owe it to my great-grandfather that I\\ndid not attend public lectures and discussions, but had good and able\\nteachers at home; and I owe him also the knowledge that for things of\\nthis nature a man should count no expense too great.\\n\\n5. My tutor taught me not to favour either green or blue at the\\nchariot races, nor, in the contests of gladiators, to be a supporter\\neither of light or heavy armed. He taught me also to endure labour;\\nnot to need many things; to serve myself without troubling others; not\\nto intermeddle in the affairs of others, and not easily to listen to\\nslanders against them.\\n\\n6. Of Diognetus I had the lesson not to busy myself about vain things;\\nnot to credit the great professions of such as pretend to work\\nwonders, or of sorcerers about their charms, and their expelling of\\nDemons and the like; not to keep quails (for fighting or divination),\\nnor to run after such things; to suffer freedom of speech in others,\\nand to apply myself heartily to philosophy. Him also I must thank for\\nmy hearing first Bacchius, then Tandasis and Marcianus; that I wrote\\ndialogues in my youth, and took a liking to the philosopher's pallet\\nand skins, and to the other things which, by the Grecian discipline,\\nbelong to that profession.\\n\\n7. To Rusticus I owe my first apprehensions that my nature needed\\nreform and cure; and that I did not fall into the ambition of the\\ncommon Sophists, either by composing speculative writings or by\\ndeclaiming harangues of exhortation in public; further, that I never\\nstrove to be admired by ostentation of great patience in an ascetic\\nlife, or by display of activity and application; that I gave over the\\nstudy of rhetoric, poetry, and the graces of language; and that I did\\nnot pace my house in my senatorial robes, or practise any similar\\naffectation. I observed also the simplicity of style in his letters,\\nparticularly in that which he wrote to my mother from Sinuessa. I\\nlearned from him to be easily appeased, and to be readily reconciled\\nwith those who had displeased me or given cause of offence, so soon as\\nthey inclined to make their peace; to read with care; not to rest\\nsatisfied with a slight and superficial knowledge; nor quickly to\\nassent to great talkers. I have him to thank that I met with the\\ndiscourses of Epictetus, which he furnished me from his own library.\\n\\n8. From Apollonius I learned true liberty, and tenacity of purpose; to\\nregard nothing else, even in the smallest degree, but reason always;\\nand always to remain unaltered in the agonies of pain, in the losses\\nof children, or in long diseases. He afforded me a living example of\\nhow the same man can, upon occasion, be most yielding and most\\ninflexible. He was patient in exposition; and, as might well be seen,\\nesteemed his fine skill and ability in teaching others the principles\\nof philosophy as the least of his endowments. It was from him that I\\nlearned how to receive from friends what are thought favours without\\nseeming humbled by the giver or insensible to the gift.\\n\\n9. Sextus was my pattern of a benign temper, and his family the model\\nof a household governed by true paternal affection, and a steadfast\\npurpose of living according to nature. Here I could learn to be grave\\nwithout affectation, to observe sagaciously the several dispositions\\nand inclinations of my friends, to tolerate the ignorant and those who\\nfollow current opinions without examination. His conversation showed\\nhow a man may accommodate himself to all men and to all companies; for\\nthough companionship with him was sweeter and more pleasing than any\\nsort of flattery, yet he was at the same time highly respected and\\nreverenced. No man was ever more happy than he in comprehending,\\nfinding out, and arranging in exact order the great maxims necessary\\nfor the conduct of life. His example taught me to suppress even the\\nleast appearance of anger or any other passion; but still, with all\\nthis perfect tranquillity, to possess the tenderest and most\\naffectionate heart; to be apt to approve others yet without noise; to\\nhave much learning and little ostentation.\\n\\n10. I learned from Alexander the Grammarian to avoid censuring others,\\nto refrain from flouting them for a barbarism, solecism, or any false\\npronunciation. Rather was I dexterously to pronounce the words rightly\\nin my answer, confining approval or objection to the matter itself,\\nand avoiding discussion of the expression, or to use some other form\\nof courteous suggestion.\\n\\n11. Fronto made me sensible how much of envy, deceit and hypocrisy\\nsurrounds princes; and that generally those whom we account nobly born\\nhave somehow less natural affection.\\n\\n12. I learned from Alexander the Platonist not often nor without great\\nnecessity to say, or write to any man in a letter, that I am not at\\nleisure; nor thus, under pretext of urgent affairs, to make a practice\\nof excusing myself from the duties which, according to our various\\nties, we owe to those with whom we live.\\n\\n13. Of Catulus I learned not to condemn any friend's expostulation\\neven though it were unjust, but to try to recall him to his former\\ndisposition; to stint no praise in speaking of my masters, as is\\nrecounted of Domitius and Athenodorus; and to love my children with\\ntrue affection.\\n\\n14. Of Severus, my brother, I learned to love my kinsmen, to love\\ntruth, to love justice. Through him I came to know Thrasea, Helvidius,\\nCato, Dion, and Brutus. He gave me my first conception of a\\nCommonwealth founded upon equitable laws and administered with\\nequality of right; and of a Monarchy whose chief concern is the\\nfreedom of its subjects. Of him I learned likewise a constant and\\nharmonious devotion to Philosophy; to be ready to do good, to be\\ngenerous with all my heart. He taught me to be of good hope and\\ntrustful of the affection of my friends. I observed in him candour in\\ndeclaring what he condemned in the conduct of others; and so frank and\\nopen was his behaviour, that his friends might easily see without the\\ntrouble of conjecture what he liked or disliked.\\n\\n15. The counsels of Maximus taught me to command myself, to judge\\nclearly, to be of good courage in sickness and other misfortunes, to\\nbe moderate, gentle, yet serious in disposition, and to accomplish my\\nappointed task without repining. All men believed that he spoke as he\\nthought; and whatever he did, they knew it was done with good intent.\\nI never found him surprised or astonished at anything. He was never in\\na hurry, never shrank from his purpose, was never at a loss or\\ndejected. He was no facile smiler, but neither was he passionate or\\nsuspicious. He was ready to do good, to forgive, and to speak the\\ntruth, and gave the impression of unperverted rectitude rather than of\\na reformed character. No man could ever think himself despised by\\nMaximus, and no one ever ventured to think himself his superior. He\\nhad also a good gift of humour.\", metadata={'source': '/tmp/Meditations.txt'}), Document(page_content='1902\\n\\n                           MARCUS AURELIUS\\n                              ANTONINUS\\n\\n                               BOOK I.\\n\\n1. I learned from my grandfather, Verus, to use good manners, and to\\nput restraint on anger. 2. In the famous memory of my father I had a\\npattern of modesty and manliness. 3. Of my mother I learned to be\\npious and generous; to keep myself not only from evil deeds, but even\\nfrom evil thoughts; and to live with a simplicity which is far from\\ncustomary among the rich. 4. I owe it to my great-grandfather that I\\ndid not attend public lectures and discussions, but had good and able\\nteachers at home; and I owe him also the knowledge that for things of\\nthis nature a man should count no expense too great.', metadata={'source': '/tmp/Meditations.txt'}), Document(page_content='1902\\n\\n                           MARCUS AURELIUS\\n                              ANTONINUS\\n\\n                               BOOK I.\\n\\n1. I learned from my grandfather, Verus, to use good manners, and to\\nput restraint on anger. 2. In the famous memory of my father I had a\\npattern of modesty and manliness. 3. Of my mother I learned to be\\npious and generous; to keep myself not only from evil deeds, but even\\nfrom evil thoughts; and to live with a simplicity which is far from\\ncustomary among the rich. 4. I owe it to my great-grandfather that I\\ndid not attend public lectures and discussions, but had good and able\\nteachers at home; and I owe him also the knowledge that for things of\\nthis nature a man should count no expense too great.', metadata={'source': '/tmp/Meditations.txt'}), Document(page_content='7. To Rusticus I owe my first apprehensions that my nature needed\\nreform and cure; and that I did not fall into the ambition of the\\ncommon Sophists, either by composing speculative writings or by\\ndeclaiming harangues of exhortation in public; further, that I never\\nstrove to be admired by ostentation of great patience in an ascetic\\nlife, or by display of activity and application; that I gave over the\\nstudy of rhetoric, poetry, and the graces of language; and that I did\\nnot pace my house in my senatorial robes, or practise any similar\\naffectation. I observed also the simplicity of style in his letters,\\nparticularly in that which he wrote to my mother from Sinuessa. I\\nlearned from him to be easily appeased, and to be readily reconciled\\nwith those who had displeased me or given cause of offence, so soon as\\nthey inclined to make their peace; to read with care; not to rest\\nsatisfied with a slight and superficial knowledge; nor quickly to\\nassent to great talkers. I have him to thank that I met with the\\ndiscourses of Epictetus, which he furnished me from his own library.', metadata={'source': '/tmp/Meditations.txt'}), Document(page_content='7. To Rusticus I owe my first apprehensions that my nature needed\\nreform and cure; and that I did not fall into the ambition of the\\ncommon Sophists, either by composing speculative writings or by\\ndeclaiming harangues of exhortation in public; further, that I never\\nstrove to be admired by ostentation of great patience in an ascetic\\nlife, or by display of activity and application; that I gave over the\\nstudy of rhetoric, poetry, and the graces of language; and that I did\\nnot pace my house in my senatorial robes, or practise any similar\\naffectation. I observed also the simplicity of style in his letters,\\nparticularly in that which he wrote to my mother from Sinuessa. I\\nlearned from him to be easily appeased, and to be readily reconciled\\nwith those who had displeased me or given cause of offence, so soon as\\nthey inclined to make their peace; to read with care; not to rest\\nsatisfied with a slight and superficial knowledge; nor quickly to\\nassent to great talkers. I have him to thank that I met with the\\ndiscourses of Epictetus, which he furnished me from his own library.', metadata={'source': '/tmp/Meditations.txt'}), Document(page_content='ï»¿The Project Gutenberg eBook of The Meditations of the Emperor Marcus Aurelius Antoninus, by Marcus Aurelius\\n\\nThis eBook is for the use of anyone anywhere in the United States and\\nmost other parts of the world at no cost and with almost no restrictions\\nwhatsoever. You may copy it, give it away or re-use it under the terms\\nof the Project Gutenberg License included with this eBook or online at\\nwww.gutenberg.org. If you are not located in the United States, you\\nwill have to check the laws of the country where you are located before\\nusing this eBook.\\n\\nTitle: The Meditations of the Emperor Marcus Aurelius Antoninus\\nA new rendering based on the Foulis translation of 1742\\n\\nAuthor: Marcus Aurelius\\n\\nTranslator: George Chrystal\\n\\nRelease Date: August 9, 2017 [eBook #55317]\\n[Most recently updated: June 27, 2021]\\n\\nLanguage: English\\n\\nCharacter set encoding: UTF-8\\n\\nProduced by: E.H.N.\\n\\n*** START OF THE PROJECT GUTENBERG EBOOK THE MEDITATIONS OF MARCUS AURELIUS ANTONINUS ***', metadata={'source': '/tmp/Meditations.txt'})]\u001b[0m\n",
      "Thought:\u001b[32;1m\u001b[1;3mI have gathered information from Marcus Aurelius' writings on self-improvement and learning.\n",
      "Action: Meditations\n",
      "Action Input: Bushido principles on self-improvement and lifelong learning\u001b[0m\n",
      "Observation: \u001b[36;1m\u001b[1;3m[Document(page_content='68. It is in your power to live superior to all violence, and in the\\ngreatest calm of mind, were all men to rail against you as they\\npleased; and though wild beasts were to tear asunder the wretched\\nmembers of this fleshly mass which has grown with your growth. What is\\nto hinder the soul amid all this from preserving itself in all\\ntranquillity, in just judgments about surrounding things, and in ready\\nuse of whatever is cast in its way? Judgment may say to accident:--\\n\"Your real nature is this or that, though you appear otherwise in the\\neyes of men.\" Use may say to circumstance:--\"I was looking for\\nyou. To me all that is present is ever matter for rational and social\\nvirtue, in sum, for that art which is proper both to man and God. All\\nthat befalls is fit and familiar for the purposes of God or\\nman. Nothing is either new or intractable, but everything is well\\nknown and fit to work upon.\"\\n\\n69. It is the perfection of morals to spend each day as if it were the\\nlast of life, without excitement, without sloth, and without\\nhypocrisy.', metadata={'source': '/tmp/Meditations.txt'}), Document(page_content='Remember these nine precepts as gifts received from the Muses; and\\nbegin now to be human for the rest of your life. Beware equally of\\nbeing angry with men and of flattering them. Both are unsocial and\\nlead to mischief. In all anger recollect that wrath is not becoming to\\na man; but that meekness and gentleness, as they are more human, are\\nalso more manly. Strength and nerves and courage are the portion of\\nthe meek and gentle man; and not of the irascible and impatient. For\\nthe nearer a man attains to freedom from passion, the nearer he comes\\nto strength. A weak man in grief is like a weak man in anger. Both are\\nhurt, and both give way.\\n\\nIf you want a tenth gift, from the Leader of the Muses, take this:--\\nTo expect the wicked not to sin is madness. It is to expect an\\nimpossibility. But to allow them to injure others, and to forbid them\\nto injure you, is foolish and tyrannical.\\n\\n19. There are four states of the soul against which you must\\ncontinually and especially be upon your guard; and which, when\\ndetected, should be effaced, by remarking thus of each. \"This thought\\nis unnecessary. This tends to social dissolution. You could not say\\nthis from your heart; and to speak otherwise than from the heart you\\nmust regard as the most absurd conduct.\" And, fourthly, whatever\\ncauses self-reproach is an overpowering or subjection of the diviner\\npart within you to the less honourable and mortal part, the body, and\\nto its grosser tendencies.\\n\\n20. The serial and igneous parts of which you are compounded, although\\nthey naturally tend upwards, nevertheless obey the general law of the\\nUniverse, and are retained here in composition. The earthy and humid\\nparts of you, though they naturally tend downwards, are nevertheless\\nsupported and remain where they are, although not in their natural\\nsituation. Thus the elements, wheresoever placed by the superior\\npower, obey the whole; waiting till the signal shall sound again for\\ntheir dissolution. Is it not grievous that the intellectual part alone\\nshould be disobedient, and fret at its function? Yet is no violence\\ndone to it, nothing imposed contrary to its nature. Still it is\\nimpatient, and tends to opposition. For all its tendencies towards\\ninjustice, debauchery, wrath, sorrows, and fears are so many\\ndepartures from Nature. And, when the soul frets at any particular\\nevent, it is deserting its appointed station. It is formed for\\nholiness and piety toward God, no less than for justice. These last\\nare branches of social goodness even more venerable than the practice\\nof justice.\\n\\n21. He whose aim in life is not always one and the same cannot himself\\nbe one and the same through his whole life. But singleness of aim is\\nnot sufficient, unless you consider also what that aim ought to\\nbe. For, as there is not agreement of opinion regarding all those\\nthings which are reckoned good by the majority, but only as regards\\nsome of them such as are of public utility; so your aim should be\\nsocial and political. For he alone who directs all his personal aims\\nto such an end can reach a uniform course of conduct, and thus be ever\\nthe same man.\\n\\n22. Remember the country mouse and the town mouse; and how the latter\\nfeared and trembled.\\n\\n23. Socrates called the maxims of the vulgar hobgoblins, bogies to\\nfrighten children.\\n\\n24. The Spartans at their public shows set seats for strangers in the\\nshade, but sat themselves where they found room.\\n\\n25. Socrates made this excuse for not going to Perdiccas upon his\\ninvitation: \"Lest I should come to the worst of all ends, by receiving\\nfavours which I could not return.\"\\n\\n26. In the writings of the Ephesians there is a precept, frequently to\\ncall to remembrance some of those who cultivated virtue of old.\\n\\n27. The Pythagoreans recommended that we should look at the heavens in\\nthe morning, to put us in mind of beings that go on doing their proper\\nwork uniformly and continuously; and of their order, purity and naked\\nsimplicity; for there is no veil upon a star.\\n\\n28. Think of Socrates clad in a skin, when Xanthippe had taken his\\ncloak and gone out; and what he said to his friends, who were ashamed,\\nand would have left him when they saw him dressed in such an\\nextraordinary fashion.\\n\\n29. In writing and reading you must be led before you can lead. Much\\nmore is this so in life.\\n\\n30. Yourself a slave, your speech cannot be free.\\n\\n31. And my heart laughed within me.\\n\\n32. Virtue herself they blame with harshest words.\\n\\n33. To look for figs in winter is madness; and so it is to long for a\\nchild that may no longer be yours.\\n\\n34. Epictetus said that, when you kiss your child, you should whisper\\nwithin yourself: \"To-morrow perhaps he may die.\" \"Ill-omened words!\"\\nsay you. \"The words have no evil omen,\" says he, \"but simply indicate\\nan act of Nature. Is it of evil omen to say the corn is reaped?\"\\n\\n35. The green grape, the ripe cluster, the dried grape are all\\nchanges, not into nothing, but into that which is not at present.\\n\\n36. No man can rob you of your liberty of action; as has been said by\\nEpictetus.\\n\\n37. He tells us also that we must find out the true art of assenting;\\nand in treating of our impulses he says that we must be vigilant in\\nrestraining them, that they may act with proper reservation, with\\npublic spirit, with due sense of proportion; also that we should\\nrefrain utterly from sensual passion; and not be restive in matters\\nwhere we have no control.\\n\\n38. The contention is not about any chance matter, said he, but as to\\nwhether we are insane or sane.\\n\\n39. What do you desire? says Socrates. To have the souls of rational\\nbeings or of irrational? Rational. Rational of what kind, virtuous or\\nvicious? Virtuous. Why then do you not seek after such souls? Because\\nwe have them already. Why then do you fight and stand at variance?\\n\\n                      END OF THE ELEVENTH BOOK.\\n\\n                              BOOK XII.\\n\\n1. All that you desire to compass by devious means is yours already,\\nif you will but freely take it. That is to say, if you will leave\\nbehind you all that is past, commit the future to Providence, and\\nregulate the present in piety and justice. In piety that you may love\\nyour appointed lot; for Nature gave it to you and you to it. In\\njustice, that you may speak the truth with-out constraint or guile;\\nthat you may do what is lawful and proper; that you may not be\\nhindered by the wickedness of others, or by their opinion, or their\\ntalk, or by any sensation of this poor surrounding body, for the part\\nconcerned may look to that. If then, now that you are near your exit,\\nsetting behind you all other things, you will hold alone in reverence\\nyour ruling part, the spirit divine within you; if you will cease to\\ndread the end of life, but rather fear to miss the beginning of life\\naccording to Nature, you will be a man, worthy of the ordered Universe\\nthat produced you; you will cease to be a stranger in your own\\ncountry, gaping in wonder at every daily happening, caught up by this\\ntrifle or by that.\\n\\n2. God beholds all souls bare and stripped of these corporeal vessels,\\nhusk, and refuse. By his intelligence alone he touches that only which\\nhas been instilled by him and has emanated from himself. If you would\\nbut inure yourself to do the like, you would be eased of many a\\ntorment. For he who regards not the surrounding flesh will not waste\\nhis leisure in thinking about vesture, house, or fame, or other mere\\nexternal furniture or accoutrement.\\n\\n3. Three parts there are of which you are compact; body, soul,\\nintelligence. Of these the two first are yours in so far as they must\\nhave your care; the third only is properly your own. And if you will\\ncast away from yourself, that is from your mind, all that others do or\\nsay, all that you yourself have done or said, all your fears for the\\nfuture, all the uncontrollable accompaniments of the body that\\nenvelops you and of its congenital soul, and all that is whirled in\\nthe besieging vortex that races without, so that your intellectual\\npower, made pure, and set above the accidents of fate, may live its\\nown life in freedom, just, resigned, veracious; if, I repeat, you cast\\nout from your soul all comes of excessive attachment either to the\\npast or to the future, then you will become in the words of\\nEmpedocles,\\n\\n    A faultless sphere rejoiced in endless rest.\\n\\nYou will study to live the only life there is to live, to wit the\\npresent; and you will be able, till death shall come, to spend what\\nremains of life in noble tranquillity, at peace with the spirit\\nwithin.\\n\\n4. I have wondered often how it comes that, while every man loves\\nhimself beyond all others, yet he holds his own opinion of himself in\\nless esteem than the opinion of others. Yet, if a God or some wise\\nteacher came and ordered a man to conceive and design nothing which he\\nwould not utter the moment it occurred to him, he would not abide the\\nordeal for a single day. Thus we stand in greater awe of our\\nneighbours\\' opinion of us than we do of our own.\\n\\n5. How can it be that the Gods, who have ordered all things well for\\nman\\'s advantage, overlooked one thing only, to wit that some of the\\nbest of mankind, who have held the closest relations with things\\ndivine, and by pious works and holy ministry become intimate with the\\nDivinity, once dead, should arise no more, but be altogether\\nextinguished? If this be truly so, be well assured that, if it ought\\nto have been otherwise they would have made it otherwise. Had it been\\nright it would have been practicable; and had it been according to\\nNature, Nature would have effected it. From its not being so, if it\\nreally be not so, be persuaded that it ought not to have been. You see\\nthat, in debating this matter, you are pleading a point of justice\\nwith the Gods. Now we would not thus plead with the Gods were they not\\nperfectly good and just. And, if they are so, they have left nothing\\nunjustly and unreasonably neglected in their administration.\\n\\n6. Essay even tasks that you despair of executing. The left hand,\\nwhich in other things is of little value for want of use, yet holds\\nthe bridle more firmly than the right, for in this it has practice.\\n\\n7. Consider how death ought to find you, both as to body and as to\\nsoul. Think of the shortness of life, of the eternities before and\\nafter, and of the infirmity of all material things.\\n\\n8. Contemplate the fundamental causes stripped of disguises. Think\\nwhat pain is, what pleasure is, what death, and what fame. Consider\\nhow many are themselves the causes of all the disquiet that they\\nsuffer; how no man may be hindered by another; how all is matter of\\nopinion.\\n\\n9. In the use of principles we should be like the pugilist rather than\\nthe swordsman. For when the latter drops the sword which he uses he is\\nundone. But the former has his hand always by him and needs but to\\nwield it.', metadata={'source': '/tmp/Meditations.txt'}), Document(page_content='11. Acquire a method of perceiving how all things change into one\\nanother. Pursue this branch of Philosophy and continually exercise\\nyourself therein. There is nothing so proper as this for cultivating\\ngreatness of mind. He who does so has already put off the body; and,\\nhaving realized how soon he must depart from among men and leave all\\nearthly things behind him, he resigns himself entirely to justice in\\nall his own actions, and to the law of the Universe in everything else\\nwhich happens. As for what any one may say or think of him or do\\nagainst him, he gives it not a thought, but contents himself with\\nthese two things: to do justly what he has in hand, and to love the\\nlot appointed for him. Such a man has thrown off all hurry and bustle;\\nand has no other will but this, to keep the straight path according to\\nthe law, and to follow God whose path is ever straight.', metadata={'source': '/tmp/Meditations.txt'}), Document(page_content='11. Acquire a method of perceiving how all things change into one\\nanother. Pursue this branch of Philosophy and continually exercise\\nyourself therein. There is nothing so proper as this for cultivating\\ngreatness of mind. He who does so has already put off the body; and,\\nhaving realized how soon he must depart from among men and leave all\\nearthly things behind him, he resigns himself entirely to justice in\\nall his own actions, and to the law of the Universe in everything else\\nwhich happens. As for what any one may say or think of him or do\\nagainst him, he gives it not a thought, but contents himself with\\nthese two things: to do justly what he has in hand, and to love the\\nlot appointed for him. Such a man has thrown off all hurry and bustle;\\nand has no other will but this, to keep the straight path according to\\nthe law, and to follow God whose path is ever straight.', metadata={'source': '/tmp/Meditations.txt'}), Document(page_content='61. The art of Life is more like that of the wrestler than of the\\ndancer; for the wrestler must always be ready on his guard, and stand\\nfirm against the sudden, unforeseen efforts of his adversary.\\n\\n62. Consider constantly what manner of men they are whose approbation\\nyou desire, and what may be the character of their souls. Then you\\nwill neither accuse such as err unwillingly, nor need their\\ncommendation when you look into the springs of their opinions and\\ntheir desires.\\n\\n63. \"Every soul,\" says Plato, \"parts unwillingly with truth.\" You may\\nsay the same of justice, temperance, good-nature, and every virtue. It\\nis most necessary to keep this ever in mind; for, if you do, you will\\nbe more kindly towards all men.\\n\\n64. In all pain keep in mind that there is no baseness in it, that it\\ncannot harm the soul which guides you, nor destroy that soul as a\\nreasoning or as a social force. In most pain you may find help in the\\nsaying of Epicurus, that \"pain is neither unbearable nor everlasting,\\nif you bear in mind its narrow limits, and allow no additions from\\nyour imagination.\" Remember also that we are fretted, though we see it\\nnot, by many things which are of the same nature as pain, things such\\nas drowsiness, excessive heat, want of appetite. When any of these\\nthings annoy you, say to yourself that you are giving in to pain.\\n\\n65. Look to it that you feel not towards the most inhuman of mankind,\\nas they feel towards their fellows.\\n\\n66. Whence do we conclude that Telauges had not a brighter genius than\\nSocrates? \\'Tis not enough that Socrates died more gloriously or argued\\nmore acutely with the sophists; or that he kept watch more patiently\\nthrough a frosty night; or because, when ordered to arrest the\\ninnocent Salaminian, he judged it more noble to disobey; or because of\\nany stately airs and graces he assumed in public, in which we may very\\njustly refuse to believe. But, assuming all this true, when we\\nconsider Socrates, we must ask what manner of soul he had. Could he\\nfind contentment in acting with justice towards men, and with piety\\ntowards the Gods, neither vainly provoked by the vices of others, nor\\nservilely flattering them in their ignorance; counting nothing strange\\nthat the Ruler of the Universe appointed, not sinking under anything\\nas intolerable, and never yielding up his soul in surrender to the\\npassions of the flesh.\\n\\n67. Nature has not so blended the soul with the body that it cannot\\nfix its own bounds, and execute its own office by itself. It is very\\npossible to be a God among men, and yet be recognised by\\nnone. Remember that always, and this as well, that the happiness of\\nlife lies in very few things. And though you despair of becoming great\\nin Logic or in Science, you need not despair of becoming a free man,\\nfull of modesty and unselfishness, and of obedience unto God.\\n\\n68. It is in your power to live superior to all violence, and in the\\ngreatest calm of mind, were all men to rail against you as they\\npleased; and though wild beasts were to tear asunder the wretched\\nmembers of this fleshly mass which has grown with your growth. What is\\nto hinder the soul amid all this from preserving itself in all\\ntranquillity, in just judgments about surrounding things, and in ready\\nuse of whatever is cast in its way? Judgment may say to accident:--\\n\"Your real nature is this or that, though you appear otherwise in the\\neyes of men.\" Use may say to circumstance:--\"I was looking for\\nyou. To me all that is present is ever matter for rational and social\\nvirtue, in sum, for that art which is proper both to man and God. All\\nthat befalls is fit and familiar for the purposes of God or\\nman. Nothing is either new or intractable, but everything is well\\nknown and fit to work upon.\"\\n\\n69. It is the perfection of morals to spend each day as if it were the\\nlast of life, without excitement, without sloth, and without\\nhypocrisy.\\n\\n70. The Gods, who are immortal, are not vexed that in a long eternity\\nthey must ever bear with the wickedness and the multitude of\\nsinners. Nay, they even lavish on them all manner of loving care. But\\nyou, who are presently to cease from being, can, forsooth, endure no\\nmore, though you are one of the sinners yourself!\\n\\n71. It is ridiculous that you flee not from the vice that is in\\nyourself, as you have it in your power to do; but are still striving\\nto flee from the vice in others, which you can never do.\\n\\n72. Whatever the rational and social faculty finds fit neither for\\nrational nor for social ends, it justly ranks as inferior to itself.\\n\\n73. When you have done a kind action, another has benefited. Why do\\nyou, like the fools, require some third thing in addition--a\\nreputation for benevolence or a return for it.\\n\\n74. No man wearies of what brings him gain, and your gain lies in\\nacting according to nature. Be not weary, therefore, of gaining by the\\nact which gives others gain.\\n\\n75. Nature set about making an ordered universe; and now, either all\\nthat is follows a law of necessary consequence and connexion, or we\\nmust admit that there is least rationality in the things which are\\nmost excellent, and which appear to be most special objects for the\\nimpulses of the universal mind. Remembrance of this will give you\\ncalmness on many an occasion.\\n\\n                       END OF THE SEVENTH BOOK.\\n\\n                              BOOK VIII.\\n\\n1. For repressing vain glory, it serves to remember that it is no\\nlonger in your power to make your whole life, even from your youth\\nonwards, a life worthy of a philosopher. It is known to many, and you\\nyourself know also, how far you are from wisdom. Confusion is upon\\nyou, and it now can be no easy matter for you to gain the reputation\\nof a philosopher. The conditions of your life are against it. Now\\ntherefore, as you see how the matter truly lies, put from you all\\nthoughts of reputation among men; and let it suffice you to live so\\nlong as your nature wills, though that be but the scanty remnant of a\\nlife. Study, therefore, the will of your nature, and be solicitous\\nabout nothing else. You have made many efforts and wandered much, but\\nyou have nowhere found happiness; not in syllogisms, not in riches,\\nnot in fame or pleasure, not in anything. Where, then, is it? In\\nacting that part which human nature requires. How can you act that\\npart? By holding principles as the source of your desires and\\nactions. What principles? The principles of good and evil: That\\nnothing is good for a man which does not make him just, temperate,\\ncourageous, and free; and that nothing can be evil which tends not to\\nmake him the contrary of all these.\\n\\n2. Upon every action ask yourself, what is the effect of this for me?\\nShall I never repent of it? I shall presently be dead, and all these\\nthings gone. What more should I desire if my present action is\\nbecoming to an intelligent and a social being, subject to the same law\\nwith Gods?\\n\\n3. Alexander, Caesar, Pompey, what were they compared with Diogenes,\\nHeraclitus, Socrates? These knew the nature of things, their causes\\nand their matter, and the minds within them were at one. As to the\\nformer, how many things they schemed for, and to how many were they\\nenslaved!\\n\\n4. Men will go their ways none the less, though you burst in protest.\\n\\n5. Before all things, be not perturbed. Everything comes to pass as\\ndirected by universal Nature, and in a little time you will be\\ndeparted and gone, like Hadrianus and Augustus. Then, scan closely the\\nnature of what has befallen, remembering that it is your duty to be a\\ngood man. Do unflinchingly whatever man\\'s nature requires, and speak\\nas seems most just, yet in kindliness, modesty, and sincerity.\\n\\n6. It is Nature\\'s work to transfer what is now here into another\\nplace, to change things, to carry them hence, and set them\\nelsewhere. All is change, yet is there no need to fear innovation, for\\nall obey the laws of custom, and in equal measure all things are\\napportioned.\\n\\n7. For every nature it is sufficient that it goes on its way, and\\nprospers. The rational nature prospers while it assents to no false or\\nuncertain opinion, while it directs its impulses to unselfish ends\\nalone, while it aims its desires and aversions only at the things\\nwithin its power, and while it welcomes with contentment all that\\nuniversal Nature ordains. The nature of each of us is part of\\nuniversal Nature, as the leaf is part of the tree; the leaf, indeed,\\nis part of an insensible and unreasoning system which can be\\nobstructed in its workings; but human nature is part of that universal\\nsystem which cannot be impeded, and which is intelligent and\\njust. Hence is meted out, suitably to all, our proper portions of\\ntime, of matter, of active principle, of powers, and of events. Yet\\nlook not to find that each several thing corresponds exactly with any\\nother. Consider rather the whole nature and circumstances of the one,\\nand compare them with the whole of the other.\\n\\n8. You lack leisure for reading; but leisure to repress all insolence\\nyou do not lack. You have leisure to keep yourself superior to\\npleasure and pain and vain glory, to restrain all anger against the\\nungrateful, nay, even to lavish loving care upon them.\\n\\n9. Let no man any more hear you railing on the life of the court; nay,\\nrevile it not to your own hearing.\\n\\n10. Repentance is a self-reproving, because we have neglected\\nsomething useful. Whatever is good must be useful in some sort, and\\nworthy of the care of a good and honourable man. Now, such a man could\\nnever repent of neglecting some opportunity of pleasure. Pleasure,\\nthen, is neither useful nor good.\\n\\n11. Of each thing ask: What is this in itself and by its constitution?\\nWhat is its substance or matter? What is its cause? What is its\\nbusiness in the Universe? How long shall it endure?\\n\\n12. When you are reluctant to be roused from sleep, remember that it\\naccords with your constitution and with human nature to perform social\\nactions. Sleep is common to us with the brutes. Now, whatever accords\\nwith the nature of each species must be most proper, most fitting, and\\nmost delightful to it.\\n\\n13. Constantly, and, if possible, on every occasion, apply to your\\nimaginations the methods of Physics, Ethics, and Dialectic.\\n\\n14. Whomsoever you meet, say straightway to yourself:--What are this\\nman\\'s principles of good and evil? For if he holds this or that\\ndoctrine concerning pleasure and pain, and the causes thereof,\\nconcerning glory and infamy, death and life, it will seem to me\\nneither strange nor wondrous that this or that should be his\\nconduct. I shall bear in mind that he has no choice but to act so.', metadata={'source': '/tmp/Meditations.txt'}), Document(page_content='59. Look inward. Within is the fountain of Good. Dig constantly and it\\nwill ever well forth.\\n\\n60. Keep the body steady, without irregularity, whether in its motions\\nor in its postures. For, as the soul shews itself in the countenance\\nby a wise and graceful air, it should require the same expressive\\npower of the whole body. But all this must be practised without\\naffectation.\\n\\n61. The art of Life is more like that of the wrestler than of the\\ndancer; for the wrestler must always be ready on his guard, and stand\\nfirm against the sudden, unforeseen efforts of his adversary.\\n\\n62. Consider constantly what manner of men they are whose approbation\\nyou desire, and what may be the character of their souls. Then you\\nwill neither accuse such as err unwillingly, nor need their\\ncommendation when you look into the springs of their opinions and\\ntheir desires.', metadata={'source': '/tmp/Meditations.txt'})]\u001b[0m\n",
      "Thought:\u001b[32;1m\u001b[1;3mI have gathered information from both Marcus Aurelius' writings on self-improvement and learning and the Bushido principles on self-improvement and lifelong learning.\n",
      "Action: Meditations\n",
      "Action Input: Compare and analyze the similarities and differences between the two sets of principles\u001b[0m\n",
      "Observation: \u001b[36;1m\u001b[1;3m[Document(page_content='6. Essay even tasks that you despair of executing. The left hand,\\nwhich in other things is of little value for want of use, yet holds\\nthe bridle more firmly than the right, for in this it has practice.\\n\\n7. Consider how death ought to find you, both as to body and as to\\nsoul. Think of the shortness of life, of the eternities before and\\nafter, and of the infirmity of all material things.\\n\\n8. Contemplate the fundamental causes stripped of disguises. Think\\nwhat pain is, what pleasure is, what death, and what fame. Consider\\nhow many are themselves the causes of all the disquiet that they\\nsuffer; how no man may be hindered by another; how all is matter of\\nopinion.\\n\\n9. In the use of principles we should be like the pugilist rather than\\nthe swordsman. For when the latter drops the sword which he uses he is\\nundone. But the former has his hand always by him and needs but to\\nwield it.\\n\\n10. Consider well the nature of things, distinguishing between matter,\\ncause, and purpose.', metadata={'source': '/tmp/Meditations.txt'}), Document(page_content='6. Essay even tasks that you despair of executing. The left hand,\\nwhich in other things is of little value for want of use, yet holds\\nthe bridle more firmly than the right, for in this it has practice.\\n\\n7. Consider how death ought to find you, both as to body and as to\\nsoul. Think of the shortness of life, of the eternities before and\\nafter, and of the infirmity of all material things.\\n\\n8. Contemplate the fundamental causes stripped of disguises. Think\\nwhat pain is, what pleasure is, what death, and what fame. Consider\\nhow many are themselves the causes of all the disquiet that they\\nsuffer; how no man may be hindered by another; how all is matter of\\nopinion.\\n\\n9. In the use of principles we should be like the pugilist rather than\\nthe swordsman. For when the latter drops the sword which he uses he is\\nundone. But the former has his hand always by him and needs but to\\nwield it.\\n\\n10. Consider well the nature of things, distinguishing between matter,\\ncause, and purpose.', metadata={'source': '/tmp/Meditations.txt'}), Document(page_content=\"11. Of each thing ask: What is this in itself and by its constitution?\\nWhat is its substance or matter? What is its cause? What is its\\nbusiness in the Universe? How long shall it endure?\\n\\n12. When you are reluctant to be roused from sleep, remember that it\\naccords with your constitution and with human nature to perform social\\nactions. Sleep is common to us with the brutes. Now, whatever accords\\nwith the nature of each species must be most proper, most fitting, and\\nmost delightful to it.\\n\\n13. Constantly, and, if possible, on every occasion, apply to your\\nimaginations the methods of Physics, Ethics, and Dialectic.\\n\\n14. Whomsoever you meet, say straightway to yourself:--What are this\\nman's principles of good and evil? For if he holds this or that\\ndoctrine concerning pleasure and pain, and the causes thereof,\\nconcerning glory and infamy, death and life, it will seem to me\\nneither strange nor wondrous that this or that should be his\\nconduct. I shall bear in mind that he has no choice but to act so.\", metadata={'source': '/tmp/Meditations.txt'}), Document(page_content='11. To these maxims add this other. Accurately define or describe\\nevery thing that strikes your imagination, so that you may see and\\ndistinguish what it is in naked essence, and what it is in its\\nentirety; that you may tell yourself the proper name of the thing\\nitself, and the names of the parts of which it is compounded, and into\\nwhich it will be resolved. Nothing makes mind greater than the power\\nto enquire into all things that present themselves in life; and, while\\nyou examine them, to consider at the same time of what fashion is the\\nUniverse, and what is the function in it of these things, of what\\nimportance they are to the whole, of what to man who is a citizen of\\nthat highest city of which all other cities are but households.\\nConsider what is this thing that now makes an impression on you, of\\nwhat it is composed, and how long it is destined to endure. Consider\\nalso for what virtue it calls; whether it be gentleness, courage,\\ntruthfulness, fidelity, simplicity, independence, or any other. Say,\\ntherefore, of each event: \"This comes from God:\" or \"This comes from\\nthe conjunction and intertexture of the strands of fate, or from some\\nchance or hazard of that kind:\" or \"This comes from one of my own\\ntribe, from my kinsman, from my friend. He is, indeed, ignorant of\\nwhat accords with nature; but I am not, and will therefore use him\\nkindly and justly, according to the natural and social law. As to\\nthings indifferent, I strive to appraise them at their proper value.\"', metadata={'source': '/tmp/Meditations.txt'}), Document(page_content='11. To these maxims add this other. Accurately define or describe\\nevery thing that strikes your imagination, so that you may see and\\ndistinguish what it is in naked essence, and what it is in its\\nentirety; that you may tell yourself the proper name of the thing\\nitself, and the names of the parts of which it is compounded, and into\\nwhich it will be resolved. Nothing makes mind greater than the power\\nto enquire into all things that present themselves in life; and, while\\nyou examine them, to consider at the same time of what fashion is the\\nUniverse, and what is the function in it of these things, of what\\nimportance they are to the whole, of what to man who is a citizen of\\nthat highest city of which all other cities are but households.\\nConsider what is this thing that now makes an impression on you, of\\nwhat it is composed, and how long it is destined to endure. Consider\\nalso for what virtue it calls; whether it be gentleness, courage,\\ntruthfulness, fidelity, simplicity, independence, or any other. Say,\\ntherefore, of each event: \"This comes from God:\" or \"This comes from\\nthe conjunction and intertexture of the strands of fate, or from some\\nchance or hazard of that kind:\" or \"This comes from one of my own\\ntribe, from my kinsman, from my friend. He is, indeed, ignorant of\\nwhat accords with nature; but I am not, and will therefore use him\\nkindly and justly, according to the natural and social law. As to\\nthings indifferent, I strive to appraise them at their proper value.\"', metadata={'source': '/tmp/Meditations.txt'}), Document(page_content=\"13. Constantly, and, if possible, on every occasion, apply to your\\nimaginations the methods of Physics, Ethics, and Dialectic.\\n\\n14. Whomsoever you meet, say straightway to yourself:--What are this\\nman's principles of good and evil? For if he holds this or that\\ndoctrine concerning pleasure and pain, and the causes thereof,\\nconcerning glory and infamy, death and life, it will seem to me\\nneither strange nor wondrous that this or that should be his\\nconduct. I shall bear in mind that he has no choice but to act so.\\n\\n15. Remember that, as 'tis folly to be surprised that a fig-tree bears\\nfigs, so is it equal folly to be surprised that the Universe produces\\nthose things of which it was ever fruitful. It is folly in a physician\\nto be surprised that a man has fallen into a fever; or in a pilot that\\nthe wind has turned against him.\", metadata={'source': '/tmp/Meditations.txt'})]\u001b[0m\n",
      "Thought:\u001b[32;1m\u001b[1;3mI have analyzed the similarities and differences between the principles of self-improvement and lifelong learning in Marcus Aurelius' writings and the Bushido principles.\n",
      "Final Answer: Both Marcus Aurelius and Bushido emphasize the importance of self-improvement through principles such as understanding the nature of things, living in accordance with virtue, and being prepared for challenges. They both stress the importance of living a life in alignment with one's principles and values, regardless of external circumstances.\u001b[0m\n",
      "\n",
      "\u001b[1m> Finished chain.\u001b[0m\n",
      "Both Marcus Aurelius and Bushido emphasize the importance of self-improvement through principles such as understanding the nature of things, living in accordance with virtue, and being prepared for challenges. They both stress the importance of living a life in alignment with one's principles and values, regardless of external circumstances.\n"
     ]
    }
   ],
   "source": [
    "print(agent.run(\"In what ways do Marcus Aurelius and the principles of Bushido emphasize the importance of constant self-improvement and lifelong learning?\"))"
   ]
  },
  {
   "cell_type": "code",
   "execution_count": null,
   "id": "d50938a9-450e-494f-8030-37b780884c92",
   "metadata": {},
   "outputs": [],
   "source": [
    "print(agent.run(\"What are the differences between how Marcus Aurelius and the Bushido code address the role of emotions in decision-making and daily life?\"))"
   ]
  },
  {
   "cell_type": "code",
   "execution_count": null,
   "id": "bf2c3237-73c5-4dee-a2d2-5410c155f455",
   "metadata": {},
   "outputs": [],
   "source": []
  }
 ],
 "metadata": {
  "kernelspec": {
   "display_name": "Python 3 (ipykernel)",
   "language": "python",
   "name": "python3"
  },
  "language_info": {
   "codemirror_mode": {
    "name": "ipython",
    "version": 3
   },
   "file_extension": ".py",
   "mimetype": "text/x-python",
   "name": "python",
   "nbconvert_exporter": "python",
   "pygments_lexer": "ipython3",
   "version": "3.11.5"
  }
 },
 "nbformat": 4,
 "nbformat_minor": 5
}
