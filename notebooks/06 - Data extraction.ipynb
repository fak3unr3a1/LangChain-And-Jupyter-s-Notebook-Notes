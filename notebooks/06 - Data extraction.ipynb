{
 "cells": [
  {
   "cell_type": "markdown",
   "id": "b385fdc6-cecc-4564-ab12-85f494a00781",
   "metadata": {},
   "source": [
    "# LangChain - Multiple retrievers"
   ]
  },
  {
   "cell_type": "markdown",
   "id": "e1335d52-d456-4ae3-9058-c0c135b1acee",
   "metadata": {
    "tags": []
   },
   "source": [
    "## Install dependencies"
   ]
  },
  {
   "cell_type": "code",
   "execution_count": 1,
   "id": "24b0f6cb-2820-4f7e-8081-4de2809a1807",
   "metadata": {
    "tags": []
   },
   "outputs": [
    {
     "name": "stdout",
     "output_type": "stream",
     "text": [
      "Requirement already satisfied: langchain in c:\\users\\cglyn\\appdata\\local\\programs\\python\\python311\\lib\\site-packages (0.1.20)\n",
      "Requirement already satisfied: PyYAML>=5.3 in c:\\users\\cglyn\\appdata\\local\\programs\\python\\python311\\lib\\site-packages (from langchain) (6.0.1)\n",
      "Requirement already satisfied: SQLAlchemy<3,>=1.4 in c:\\users\\cglyn\\appdata\\local\\programs\\python\\python311\\lib\\site-packages (from langchain) (2.0.30)\n",
      "Requirement already satisfied: aiohttp<4.0.0,>=3.8.3 in c:\\users\\cglyn\\appdata\\local\\programs\\python\\python311\\lib\\site-packages (from langchain) (3.9.1)\n",
      "Requirement already satisfied: dataclasses-json<0.7,>=0.5.7 in c:\\users\\cglyn\\appdata\\local\\programs\\python\\python311\\lib\\site-packages (from langchain) (0.6.6)\n",
      "Requirement already satisfied: langchain-community<0.1,>=0.0.38 in c:\\users\\cglyn\\appdata\\local\\programs\\python\\python311\\lib\\site-packages (from langchain) (0.0.38)\n",
      "Requirement already satisfied: langchain-core<0.2.0,>=0.1.52 in c:\\users\\cglyn\\appdata\\local\\programs\\python\\python311\\lib\\site-packages (from langchain) (0.1.52)\n",
      "Requirement already satisfied: langchain-text-splitters<0.1,>=0.0.1 in c:\\users\\cglyn\\appdata\\local\\programs\\python\\python311\\lib\\site-packages (from langchain) (0.0.1)\n",
      "Requirement already satisfied: langsmith<0.2.0,>=0.1.17 in c:\\users\\cglyn\\appdata\\local\\programs\\python\\python311\\lib\\site-packages (from langchain) (0.1.56)\n",
      "Requirement already satisfied: numpy<2,>=1 in c:\\users\\cglyn\\appdata\\local\\programs\\python\\python311\\lib\\site-packages (from langchain) (1.26.4)\n",
      "Requirement already satisfied: pydantic<3,>=1 in c:\\users\\cglyn\\appdata\\local\\programs\\python\\python311\\lib\\site-packages (from langchain) (2.5.2)\n",
      "Requirement already satisfied: requests<3,>=2 in c:\\users\\cglyn\\appdata\\local\\programs\\python\\python311\\lib\\site-packages\\requests-2.31.0-py3.11.egg (from langchain) (2.31.0)\n",
      "Requirement already satisfied: tenacity<9.0.0,>=8.1.0 in c:\\users\\cglyn\\appdata\\local\\programs\\python\\python311\\lib\\site-packages (from langchain) (8.3.0)\n",
      "Requirement already satisfied: attrs>=17.3.0 in c:\\users\\cglyn\\appdata\\local\\programs\\python\\python311\\lib\\site-packages (from aiohttp<4.0.0,>=3.8.3->langchain) (23.1.0)\n",
      "Requirement already satisfied: multidict<7.0,>=4.5 in c:\\users\\cglyn\\appdata\\local\\programs\\python\\python311\\lib\\site-packages (from aiohttp<4.0.0,>=3.8.3->langchain) (6.0.4)\n",
      "Requirement already satisfied: yarl<2.0,>=1.0 in c:\\users\\cglyn\\appdata\\local\\programs\\python\\python311\\lib\\site-packages (from aiohttp<4.0.0,>=3.8.3->langchain) (1.9.4)\n",
      "Requirement already satisfied: frozenlist>=1.1.1 in c:\\users\\cglyn\\appdata\\local\\programs\\python\\python311\\lib\\site-packages (from aiohttp<4.0.0,>=3.8.3->langchain) (1.4.0)\n",
      "Requirement already satisfied: aiosignal>=1.1.2 in c:\\users\\cglyn\\appdata\\local\\programs\\python\\python311\\lib\\site-packages (from aiohttp<4.0.0,>=3.8.3->langchain) (1.3.1)\n",
      "Requirement already satisfied: marshmallow<4.0.0,>=3.18.0 in c:\\users\\cglyn\\appdata\\local\\programs\\python\\python311\\lib\\site-packages (from dataclasses-json<0.7,>=0.5.7->langchain) (3.21.2)\n",
      "Requirement already satisfied: typing-inspect<1,>=0.4.0 in c:\\users\\cglyn\\appdata\\local\\programs\\python\\python311\\lib\\site-packages (from dataclasses-json<0.7,>=0.5.7->langchain) (0.9.0)\n",
      "Requirement already satisfied: jsonpatch<2.0,>=1.33 in c:\\users\\cglyn\\appdata\\local\\programs\\python\\python311\\lib\\site-packages (from langchain-core<0.2.0,>=0.1.52->langchain) (1.33)\n",
      "Requirement already satisfied: packaging<24.0,>=23.2 in c:\\users\\cglyn\\appdata\\local\\programs\\python\\python311\\lib\\site-packages (from langchain-core<0.2.0,>=0.1.52->langchain) (23.2)\n",
      "Requirement already satisfied: orjson<4.0.0,>=3.9.14 in c:\\users\\cglyn\\appdata\\local\\programs\\python\\python311\\lib\\site-packages (from langsmith<0.2.0,>=0.1.17->langchain) (3.10.1)\n",
      "Requirement already satisfied: annotated-types>=0.4.0 in c:\\users\\cglyn\\appdata\\local\\programs\\python\\python311\\lib\\site-packages (from pydantic<3,>=1->langchain) (0.6.0)\n",
      "Requirement already satisfied: pydantic-core==2.14.5 in c:\\users\\cglyn\\appdata\\local\\programs\\python\\python311\\lib\\site-packages (from pydantic<3,>=1->langchain) (2.14.5)\n",
      "Requirement already satisfied: typing-extensions>=4.6.1 in c:\\users\\cglyn\\appdata\\local\\programs\\python\\python311\\lib\\site-packages (from pydantic<3,>=1->langchain) (4.9.0)\n",
      "Requirement already satisfied: certifi>=2017.4.17 in c:\\users\\cglyn\\appdata\\local\\programs\\python\\python311\\lib\\site-packages (from requests<3,>=2->langchain) (2024.2.2)\n",
      "Requirement already satisfied: charset-normalizer<4,>=2 in c:\\users\\cglyn\\appdata\\local\\programs\\python\\python311\\lib\\site-packages (from requests<3,>=2->langchain) (3.3.2)\n",
      "Requirement already satisfied: idna<4,>=2.5 in c:\\users\\cglyn\\appdata\\local\\programs\\python\\python311\\lib\\site-packages (from requests<3,>=2->langchain) (3.6)\n",
      "Requirement already satisfied: urllib3<3,>=1.21.1 in c:\\users\\cglyn\\appdata\\local\\programs\\python\\python311\\lib\\site-packages (from requests<3,>=2->langchain) (2.2.1)\n",
      "Requirement already satisfied: greenlet!=0.4.17 in c:\\users\\cglyn\\appdata\\local\\programs\\python\\python311\\lib\\site-packages (from SQLAlchemy<3,>=1.4->langchain) (3.0.3)\n",
      "Requirement already satisfied: jsonpointer>=1.9 in c:\\users\\cglyn\\appdata\\local\\programs\\python\\python311\\lib\\site-packages (from jsonpatch<2.0,>=1.33->langchain-core<0.2.0,>=0.1.52->langchain) (2.4)\n",
      "Requirement already satisfied: mypy-extensions>=0.3.0 in c:\\users\\cglyn\\appdata\\local\\programs\\python\\python311\\lib\\site-packages (from typing-inspect<1,>=0.4.0->dataclasses-json<0.7,>=0.5.7->langchain) (1.0.0)\n",
      "Note: you may need to restart the kernel to use updated packages.\n"
     ]
    },
    {
     "name": "stderr",
     "output_type": "stream",
     "text": [
      "DEPRECATION: Loading egg at c:\\users\\cglyn\\appdata\\local\\programs\\python\\python311\\lib\\site-packages\\requests-2.31.0-py3.11.egg is deprecated. pip 24.3 will enforce this behaviour change. A possible replacement is to use pip for package installation.. Discussion can be found at https://github.com/pypa/pip/issues/12330\n",
      "DEPRECATION: Loading egg at c:\\users\\cglyn\\appdata\\local\\programs\\python\\python311\\lib\\site-packages\\websockets-11.0-py3.11.egg is deprecated. pip 24.3 will enforce this behaviour change. A possible replacement is to use pip for package installation.. Discussion can be found at https://github.com/pypa/pip/issues/12330\n",
      "DEPRECATION: torchsde 0.2.5 has a non-standard dependency specifier numpy>=1.19.*; python_version >= \"3.7\". pip 24.1 will enforce this behaviour change. A possible replacement is to upgrade to a newer version of torchsde or contact the author to suggest that they release a version with a conforming dependency specifiers. Discussion can be found at https://github.com/pypa/pip/issues/12063\n"
     ]
    },
    {
     "name": "stdout",
     "output_type": "stream",
     "text": [
      "Requirement already satisfied: openai in c:\\users\\cglyn\\appdata\\local\\programs\\python\\python311\\lib\\site-packages (1.28.1)\n",
      "Requirement already satisfied: anyio<5,>=3.5.0 in c:\\users\\cglyn\\appdata\\local\\programs\\python\\python311\\lib\\site-packages (from openai) (3.7.1)\n",
      "Requirement already satisfied: distro<2,>=1.7.0 in c:\\users\\cglyn\\appdata\\local\\programs\\python\\python311\\lib\\site-packages (from openai) (1.9.0)\n",
      "Requirement already satisfied: httpx<1,>=0.23.0 in c:\\users\\cglyn\\appdata\\local\\programs\\python\\python311\\lib\\site-packages (from openai) (0.27.0)\n",
      "Requirement already satisfied: pydantic<3,>=1.9.0 in c:\\users\\cglyn\\appdata\\local\\programs\\python\\python311\\lib\\site-packages (from openai) (2.5.2)\n",
      "Requirement already satisfied: sniffio in c:\\users\\cglyn\\appdata\\local\\programs\\python\\python311\\lib\\site-packages (from openai) (1.3.0)\n",
      "Requirement already satisfied: tqdm>4 in c:\\users\\cglyn\\appdata\\local\\programs\\python\\python311\\lib\\site-packages (from openai) (4.65.2)\n",
      "Requirement already satisfied: typing-extensions<5,>=4.7 in c:\\users\\cglyn\\appdata\\local\\programs\\python\\python311\\lib\\site-packages (from openai) (4.9.0)\n",
      "Requirement already satisfied: idna>=2.8 in c:\\users\\cglyn\\appdata\\local\\programs\\python\\python311\\lib\\site-packages (from anyio<5,>=3.5.0->openai) (3.6)\n",
      "Requirement already satisfied: certifi in c:\\users\\cglyn\\appdata\\local\\programs\\python\\python311\\lib\\site-packages (from httpx<1,>=0.23.0->openai) (2024.2.2)\n",
      "Requirement already satisfied: httpcore==1.* in c:\\users\\cglyn\\appdata\\local\\programs\\python\\python311\\lib\\site-packages (from httpx<1,>=0.23.0->openai) (1.0.5)\n",
      "Requirement already satisfied: h11<0.15,>=0.13 in c:\\users\\cglyn\\appdata\\local\\programs\\python\\python311\\lib\\site-packages (from httpcore==1.*->httpx<1,>=0.23.0->openai) (0.14.0)\n",
      "Requirement already satisfied: annotated-types>=0.4.0 in c:\\users\\cglyn\\appdata\\local\\programs\\python\\python311\\lib\\site-packages (from pydantic<3,>=1.9.0->openai) (0.6.0)\n",
      "Requirement already satisfied: pydantic-core==2.14.5 in c:\\users\\cglyn\\appdata\\local\\programs\\python\\python311\\lib\\site-packages (from pydantic<3,>=1.9.0->openai) (2.14.5)\n",
      "Requirement already satisfied: colorama in c:\\users\\cglyn\\appdata\\local\\programs\\python\\python311\\lib\\site-packages (from tqdm>4->openai) (0.4.6)\n",
      "Note: you may need to restart the kernel to use updated packages.\n"
     ]
    },
    {
     "name": "stderr",
     "output_type": "stream",
     "text": [
      "DEPRECATION: Loading egg at c:\\users\\cglyn\\appdata\\local\\programs\\python\\python311\\lib\\site-packages\\requests-2.31.0-py3.11.egg is deprecated. pip 24.3 will enforce this behaviour change. A possible replacement is to use pip for package installation.. Discussion can be found at https://github.com/pypa/pip/issues/12330\n",
      "DEPRECATION: Loading egg at c:\\users\\cglyn\\appdata\\local\\programs\\python\\python311\\lib\\site-packages\\websockets-11.0-py3.11.egg is deprecated. pip 24.3 will enforce this behaviour change. A possible replacement is to use pip for package installation.. Discussion can be found at https://github.com/pypa/pip/issues/12330\n",
      "DEPRECATION: torchsde 0.2.5 has a non-standard dependency specifier numpy>=1.19.*; python_version >= \"3.7\". pip 24.1 will enforce this behaviour change. A possible replacement is to upgrade to a newer version of torchsde or contact the author to suggest that they release a version with a conforming dependency specifiers. Discussion can be found at https://github.com/pypa/pip/issues/12063\n"
     ]
    },
    {
     "name": "stdout",
     "output_type": "stream",
     "text": [
      "Requirement already satisfied: pydantic in c:\\users\\cglyn\\appdata\\local\\programs\\python\\python311\\lib\\site-packages (2.5.2)\n",
      "Requirement already satisfied: annotated-types>=0.4.0 in c:\\users\\cglyn\\appdata\\local\\programs\\python\\python311\\lib\\site-packages (from pydantic) (0.6.0)\n",
      "Requirement already satisfied: pydantic-core==2.14.5 in c:\\users\\cglyn\\appdata\\local\\programs\\python\\python311\\lib\\site-packages (from pydantic) (2.14.5)\n",
      "Requirement already satisfied: typing-extensions>=4.6.1 in c:\\users\\cglyn\\appdata\\local\\programs\\python\\python311\\lib\\site-packages (from pydantic) (4.9.0)\n",
      "Note: you may need to restart the kernel to use updated packages.\n"
     ]
    },
    {
     "name": "stderr",
     "output_type": "stream",
     "text": [
      "DEPRECATION: Loading egg at c:\\users\\cglyn\\appdata\\local\\programs\\python\\python311\\lib\\site-packages\\requests-2.31.0-py3.11.egg is deprecated. pip 24.3 will enforce this behaviour change. A possible replacement is to use pip for package installation.. Discussion can be found at https://github.com/pypa/pip/issues/12330\n",
      "DEPRECATION: Loading egg at c:\\users\\cglyn\\appdata\\local\\programs\\python\\python311\\lib\\site-packages\\websockets-11.0-py3.11.egg is deprecated. pip 24.3 will enforce this behaviour change. A possible replacement is to use pip for package installation.. Discussion can be found at https://github.com/pypa/pip/issues/12330\n",
      "DEPRECATION: torchsde 0.2.5 has a non-standard dependency specifier numpy>=1.19.*; python_version >= \"3.7\". pip 24.1 will enforce this behaviour change. A possible replacement is to upgrade to a newer version of torchsde or contact the author to suggest that they release a version with a conforming dependency specifiers. Discussion can be found at https://github.com/pypa/pip/issues/12063\n"
     ]
    },
    {
     "name": "stdout",
     "output_type": "stream",
     "text": [
      "Requirement already satisfied: python-dotenv in c:\\users\\cglyn\\appdata\\local\\programs\\python\\python311\\lib\\site-packages (1.0.1)Note: you may need to restart the kernel to use updated packages.\n"
     ]
    },
    {
     "name": "stderr",
     "output_type": "stream",
     "text": [
      "DEPRECATION: Loading egg at c:\\users\\cglyn\\appdata\\local\\programs\\python\\python311\\lib\\site-packages\\requests-2.31.0-py3.11.egg is deprecated. pip 24.3 will enforce this behaviour change. A possible replacement is to use pip for package installation.. Discussion can be found at https://github.com/pypa/pip/issues/12330\n",
      "DEPRECATION: Loading egg at c:\\users\\cglyn\\appdata\\local\\programs\\python\\python311\\lib\\site-packages\\websockets-11.0-py3.11.egg is deprecated. pip 24.3 will enforce this behaviour change. A possible replacement is to use pip for package installation.. Discussion can be found at https://github.com/pypa/pip/issues/12330\n",
      "DEPRECATION: torchsde 0.2.5 has a non-standard dependency specifier numpy>=1.19.*; python_version >= \"3.7\". pip 24.1 will enforce this behaviour change. A possible replacement is to upgrade to a newer version of torchsde or contact the author to suggest that they release a version with a conforming dependency specifiers. Discussion can be found at https://github.com/pypa/pip/issues/12063\n"
     ]
    },
    {
     "name": "stdout",
     "output_type": "stream",
     "text": [
      "\n"
     ]
    }
   ],
   "source": [
    "%pip install langchain\n",
    "%pip install openai\n",
    "%pip install pydantic\n",
    "%pip install python-dotenv"
   ]
  },
  {
   "cell_type": "markdown",
   "id": "8babb007-8d92-4eb8-9964-dc0d23e7f236",
   "metadata": {
    "tags": []
   },
   "source": [
    "## Load environment variables\n",
    "\n",
    "Change the path if necessary (read `README.md` first and follow the instructions to setup the `.env` file):"
   ]
  },
  {
   "cell_type": "code",
   "execution_count": 2,
   "id": "68173a51-4762-42f3-9049-277fe79ab62a",
   "metadata": {},
   "outputs": [],
   "source": [
    "# import os\n",
    "# os.chdir(\"/home/jovyan/work/\")"
   ]
  },
  {
   "cell_type": "code",
   "execution_count": 2,
   "id": "9ba55308-dc1a-4cf7-ad0f-e27330c951ed",
   "metadata": {},
   "outputs": [],
   "source": [
    "%load_ext dotenv\n",
    "%dotenv"
   ]
  },
  {
   "cell_type": "markdown",
   "id": "e55d879a-1a81-42b3-a70b-a59e0d3730ca",
   "metadata": {},
   "source": [
    "Disable warnings:"
   ]
  },
  {
   "cell_type": "code",
   "execution_count": 3,
   "id": "fe0302ca-0b99-4155-9a6a-401fcaed127c",
   "metadata": {},
   "outputs": [],
   "source": [
    "import warnings\n",
    "warnings.filterwarnings('ignore')"
   ]
  },
  {
   "cell_type": "markdown",
   "id": "91a7880e-d3fc-4485-a875-9133006a2c33",
   "metadata": {},
   "source": [
    "## LangChain"
   ]
  },
  {
   "cell_type": "code",
   "execution_count": 4,
   "id": "f70dd2e8-6dea-49b8-b4f9-26c7d92027fa",
   "metadata": {},
   "outputs": [],
   "source": [
    "from langchain.llms import OpenAI\n",
    "from langchain.prompts import PromptTemplate\n",
    "from langchain.output_parsers import PydanticOutputParser\n",
    "from pydantic import BaseModel, Field, validator"
   ]
  },
  {
   "cell_type": "code",
   "execution_count": 5,
   "id": "83a9d58a-44a3-4937-b985-c19d15028880",
   "metadata": {},
   "outputs": [
    {
     "name": "stderr",
     "output_type": "stream",
     "text": [
      "c:\\Users\\cglyn\\AppData\\Local\\Programs\\Python\\Python311\\Lib\\site-packages\\langchain_core\\_api\\deprecation.py:119: LangChainDeprecationWarning: The class `OpenAI` was deprecated in LangChain 0.0.10 and will be removed in 0.3.0. An updated version of the class exists in the langchain-openai package and should be used instead. To use it run `pip install -U langchain-openai` and import as `from langchain_openai import OpenAI`.\n",
      "  warn_deprecated(\n"
     ]
    }
   ],
   "source": [
    "model = OpenAI(temperature=0.0)"
   ]
  },
  {
   "cell_type": "markdown",
   "id": "7d3bb99a-d936-4e06-b890-d831fea5b290",
   "metadata": {},
   "source": [
    "Format we want for the output:"
   ]
  },
  {
   "cell_type": "code",
   "execution_count": 6,
   "id": "9cf07bfa-cffe-4937-993a-8b6a40af672f",
   "metadata": {},
   "outputs": [],
   "source": [
    "class Movie(BaseModel):\n",
    "    title: str = Field(description=\"the title of the movie\")\n",
    "    year: str = Field(description=\"year of the movie\")\n",
    "    director: str = Field(description=\"the name of the director of the movie\")"
   ]
  },
  {
   "cell_type": "markdown",
   "id": "c009c3b7-4cb6-4f86-8e2a-ff23ceb61d4c",
   "metadata": {},
   "source": [
    "Create a parser and inject the instructions from this parser into the prompt template:"
   ]
  },
  {
   "cell_type": "code",
   "execution_count": 7,
   "id": "dd4124b3-2d3a-458e-a53b-f2c171c9aa90",
   "metadata": {},
   "outputs": [],
   "source": [
    "parser = PydanticOutputParser(pydantic_object=Movie)\n",
    "\n",
    "prompt = PromptTemplate(\n",
    "    template=\"Recommend the most similar movie to this one (ignore sequels or prequels): {title}\\n{format_instructions}\\n\",\n",
    "    input_variables=[\"title\"],\n",
    "    partial_variables={\"format_instructions\": parser.get_format_instructions()},\n",
    ")\n",
    "\n",
    "def get_similar_movie(title: str) -> Movie:\n",
    "    _input = prompt.format_prompt(title=title)\n",
    "    output = model(_input.to_string())\n",
    "    return parser.parse(output)"
   ]
  },
  {
   "cell_type": "code",
   "execution_count": 9,
   "id": "766582ff-ff3e-4fab-86da-aacf8a246873",
   "metadata": {},
   "outputs": [
    {
     "data": {
      "text/plain": [
       "Movie(title='One Piece: Stampede', year='2019', director='Takashi Otsuka')"
      ]
     },
     "execution_count": 9,
     "metadata": {},
     "output_type": "execute_result"
    }
   ],
   "source": [
    "get_similar_movie(\"One piece\")"
   ]
  },
  {
   "cell_type": "code",
   "execution_count": 10,
   "id": "8679c508-7346-41fc-a0ad-d60c6fca4df3",
   "metadata": {},
   "outputs": [
    {
     "data": {
      "text/plain": [
       "Movie(title='Inception', year='2010', director='Christopher Nolan')"
      ]
     },
     "execution_count": 10,
     "metadata": {},
     "output_type": "execute_result"
    }
   ],
   "source": [
    "get_similar_movie(\"Matrix\")"
   ]
  },
  {
   "cell_type": "code",
   "execution_count": 11,
   "id": "6bd645aa-d3b9-4162-b4d0-ff71a06264c2",
   "metadata": {},
   "outputs": [
    {
     "data": {
      "text/plain": [
       "Movie(title='Annie Hall', year='1977', director='Woody Allen')"
      ]
     },
     "execution_count": 11,
     "metadata": {},
     "output_type": "execute_result"
    }
   ],
   "source": [
    "get_similar_movie(\"Manhattan\")"
   ]
  },
  {
   "cell_type": "code",
   "execution_count": 12,
   "id": "24ca2159-181b-4a8b-b25d-2e11330fe1f1",
   "metadata": {},
   "outputs": [
    {
     "data": {
      "text/plain": [
       "Movie(title='District 9', year='2009', director='Neill Blomkamp')"
      ]
     },
     "execution_count": 12,
     "metadata": {},
     "output_type": "execute_result"
    }
   ],
   "source": [
    "get_similar_movie(\"Avatar\")"
   ]
  },
  {
   "cell_type": "markdown",
   "id": "a1ee1d48-3207-4bc2-97c0-07c7a441367e",
   "metadata": {},
   "source": [
    "# Marvin"
   ]
  },
  {
   "cell_type": "code",
   "execution_count": 10,
   "id": "082ecee9-f2e2-4c48-9547-2b94cd3e9625",
   "metadata": {},
   "outputs": [
    {
     "name": "stdout",
     "output_type": "stream",
     "text": [
      "Collecting marvinNote: you may need to restart the kernel to use updated packages.\n",
      "\n",
      "  Downloading marvin-2.3.3-py3-none-any.whl.metadata (25 kB)\n",
      "Requirement already satisfied: cachetools>=5 in c:\\users\\cglyn\\appdata\\local\\programs\\python\\python311\\lib\\site-packages (from marvin) (5.3.2)\n",
      "Requirement already satisfied: fastapi in c:\\users\\cglyn\\appdata\\local\\programs\\python\\python311\\lib\\site-packages (from marvin) (0.104.1)\n",
      "Requirement already satisfied: httpx>=0.24.1 in c:\\users\\cglyn\\appdata\\local\\programs\\python\\python311\\lib\\site-packages (from marvin) (0.27.0)\n",
      "Requirement already satisfied: jinja2>=3.1.2 in c:\\users\\cglyn\\appdata\\local\\programs\\python\\python311\\lib\\site-packages (from marvin) (3.1.2)\n",
      "Requirement already satisfied: jsonpatch>=1.33 in c:\\users\\cglyn\\appdata\\local\\programs\\python\\python311\\lib\\site-packages (from marvin) (1.33)\n",
      "Requirement already satisfied: openai>=1.21.0 in c:\\users\\cglyn\\appdata\\local\\programs\\python\\python311\\lib\\site-packages (from marvin) (1.28.1)\n",
      "Requirement already satisfied: prompt-toolkit>=3.0.33 in c:\\users\\cglyn\\appdata\\roaming\\python\\python311\\site-packages (from marvin) (3.0.41)\n",
      "Requirement already satisfied: pydantic>=2.4.2 in c:\\users\\cglyn\\appdata\\local\\programs\\python\\python311\\lib\\site-packages (from marvin) (2.5.2)\n",
      "Collecting pydantic-settings (from marvin)\n",
      "  Downloading pydantic_settings-2.2.1-py3-none-any.whl.metadata (3.1 kB)\n",
      "Requirement already satisfied: rich>=12 in c:\\users\\cglyn\\appdata\\local\\programs\\python\\python311\\lib\\site-packages (from marvin) (13.4.2)\n",
      "Requirement already satisfied: tiktoken>=0.4.0 in c:\\users\\cglyn\\appdata\\local\\programs\\python\\python311\\lib\\site-packages (from marvin) (0.6.0)\n",
      "Requirement already satisfied: typer>=0.9.0 in c:\\users\\cglyn\\appdata\\local\\programs\\python\\python311\\lib\\site-packages (from marvin) (0.9.0)\n",
      "Requirement already satisfied: typing-extensions>=4.0.0 in c:\\users\\cglyn\\appdata\\local\\programs\\python\\python311\\lib\\site-packages (from marvin) (4.9.0)\n",
      "Requirement already satisfied: tzdata>=2023.3 in c:\\users\\cglyn\\appdata\\local\\programs\\python\\python311\\lib\\site-packages (from marvin) (2023.3)\n",
      "Requirement already satisfied: uvicorn>=0.22.0 in c:\\users\\cglyn\\appdata\\local\\programs\\python\\python311\\lib\\site-packages (from marvin) (0.23.2)\n",
      "Collecting partialjson>=0.0.5 (from marvin)\n",
      "  Downloading partialjson-0.0.7-py3-none-any.whl.metadata (2.2 kB)\n",
      "Requirement already satisfied: anyio in c:\\users\\cglyn\\appdata\\local\\programs\\python\\python311\\lib\\site-packages (from httpx>=0.24.1->marvin) (3.7.1)\n",
      "Requirement already satisfied: certifi in c:\\users\\cglyn\\appdata\\local\\programs\\python\\python311\\lib\\site-packages (from httpx>=0.24.1->marvin) (2024.2.2)\n",
      "Requirement already satisfied: httpcore==1.* in c:\\users\\cglyn\\appdata\\local\\programs\\python\\python311\\lib\\site-packages (from httpx>=0.24.1->marvin) (1.0.5)\n",
      "Requirement already satisfied: idna in c:\\users\\cglyn\\appdata\\local\\programs\\python\\python311\\lib\\site-packages (from httpx>=0.24.1->marvin) (3.6)\n",
      "Requirement already satisfied: sniffio in c:\\users\\cglyn\\appdata\\local\\programs\\python\\python311\\lib\\site-packages (from httpx>=0.24.1->marvin) (1.3.0)\n",
      "Requirement already satisfied: h11<0.15,>=0.13 in c:\\users\\cglyn\\appdata\\local\\programs\\python\\python311\\lib\\site-packages (from httpcore==1.*->httpx>=0.24.1->marvin) (0.14.0)\n",
      "Requirement already satisfied: MarkupSafe>=2.0 in c:\\users\\cglyn\\appdata\\local\\programs\\python\\python311\\lib\\site-packages (from jinja2>=3.1.2->marvin) (2.1.3)\n",
      "Requirement already satisfied: jsonpointer>=1.9 in c:\\users\\cglyn\\appdata\\local\\programs\\python\\python311\\lib\\site-packages (from jsonpatch>=1.33->marvin) (2.4)\n",
      "Requirement already satisfied: distro<2,>=1.7.0 in c:\\users\\cglyn\\appdata\\local\\programs\\python\\python311\\lib\\site-packages (from openai>=1.21.0->marvin) (1.9.0)\n",
      "Requirement already satisfied: tqdm>4 in c:\\users\\cglyn\\appdata\\local\\programs\\python\\python311\\lib\\site-packages (from openai>=1.21.0->marvin) (4.65.2)\n",
      "Requirement already satisfied: wcwidth in c:\\users\\cglyn\\appdata\\local\\programs\\python\\python311\\lib\\site-packages (from prompt-toolkit>=3.0.33->marvin) (0.2.12)\n",
      "Requirement already satisfied: annotated-types>=0.4.0 in c:\\users\\cglyn\\appdata\\local\\programs\\python\\python311\\lib\\site-packages (from pydantic>=2.4.2->marvin) (0.6.0)\n",
      "Requirement already satisfied: pydantic-core==2.14.5 in c:\\users\\cglyn\\appdata\\local\\programs\\python\\python311\\lib\\site-packages (from pydantic>=2.4.2->marvin) (2.14.5)\n",
      "Requirement already satisfied: markdown-it-py>=2.2.0 in c:\\users\\cglyn\\appdata\\local\\programs\\python\\python311\\lib\\site-packages (from rich>=12->marvin) (3.0.0)\n",
      "Requirement already satisfied: pygments<3.0.0,>=2.13.0 in c:\\users\\cglyn\\appdata\\local\\programs\\python\\python311\\lib\\site-packages (from rich>=12->marvin) (2.17.2)\n",
      "Requirement already satisfied: regex>=2022.1.18 in c:\\users\\cglyn\\appdata\\local\\programs\\python\\python311\\lib\\site-packages (from tiktoken>=0.4.0->marvin) (2023.10.3)\n",
      "Requirement already satisfied: requests>=2.26.0 in c:\\users\\cglyn\\appdata\\local\\programs\\python\\python311\\lib\\site-packages\\requests-2.31.0-py3.11.egg (from tiktoken>=0.4.0->marvin) (2.31.0)\n",
      "Requirement already satisfied: click<9.0.0,>=7.1.1 in c:\\users\\cglyn\\appdata\\local\\programs\\python\\python311\\lib\\site-packages (from typer>=0.9.0->marvin) (8.1.7)\n",
      "Requirement already satisfied: starlette<0.28.0,>=0.27.0 in c:\\users\\cglyn\\appdata\\local\\programs\\python\\python311\\lib\\site-packages (from fastapi->marvin) (0.27.0)\n",
      "Requirement already satisfied: python-dotenv>=0.21.0 in c:\\users\\cglyn\\appdata\\local\\programs\\python\\python311\\lib\\site-packages (from pydantic-settings->marvin) (1.0.1)\n",
      "Requirement already satisfied: colorama in c:\\users\\cglyn\\appdata\\local\\programs\\python\\python311\\lib\\site-packages (from click<9.0.0,>=7.1.1->typer>=0.9.0->marvin) (0.4.6)\n",
      "Requirement already satisfied: mdurl~=0.1 in c:\\users\\cglyn\\appdata\\local\\programs\\python\\python311\\lib\\site-packages (from markdown-it-py>=2.2.0->rich>=12->marvin) (0.1.2)\n",
      "Requirement already satisfied: charset-normalizer<4,>=2 in c:\\users\\cglyn\\appdata\\local\\programs\\python\\python311\\lib\\site-packages (from requests>=2.26.0->tiktoken>=0.4.0->marvin) (3.3.2)\n",
      "Requirement already satisfied: urllib3<3,>=1.21.1 in c:\\users\\cglyn\\appdata\\local\\programs\\python\\python311\\lib\\site-packages (from requests>=2.26.0->tiktoken>=0.4.0->marvin) (2.2.1)\n",
      "Downloading marvin-2.3.3-py3-none-any.whl (102 kB)\n",
      "   ---------------------------------------- 0.0/102.3 kB ? eta -:--:--\n",
      "   ---- ----------------------------------- 10.2/102.3 kB ? eta -:--:--\n",
      "   ----------- --------------------------- 30.7/102.3 kB 330.3 kB/s eta 0:00:01\n",
      "   ----------------------- --------------- 61.4/102.3 kB 365.7 kB/s eta 0:00:01\n",
      "   --------------------------- ----------- 71.7/102.3 kB 393.8 kB/s eta 0:00:01\n",
      "   -------------------------------------- 102.3/102.3 kB 422.1 kB/s eta 0:00:00\n",
      "Downloading partialjson-0.0.7-py3-none-any.whl (4.6 kB)\n",
      "Downloading pydantic_settings-2.2.1-py3-none-any.whl (13 kB)\n",
      "Installing collected packages: partialjson, pydantic-settings, marvin\n",
      "Successfully installed marvin-2.3.3 partialjson-0.0.7 pydantic-settings-2.2.1\n"
     ]
    },
    {
     "name": "stderr",
     "output_type": "stream",
     "text": [
      "DEPRECATION: Loading egg at c:\\users\\cglyn\\appdata\\local\\programs\\python\\python311\\lib\\site-packages\\requests-2.31.0-py3.11.egg is deprecated. pip 24.3 will enforce this behaviour change. A possible replacement is to use pip for package installation.. Discussion can be found at https://github.com/pypa/pip/issues/12330\n",
      "DEPRECATION: Loading egg at c:\\users\\cglyn\\appdata\\local\\programs\\python\\python311\\lib\\site-packages\\websockets-11.0-py3.11.egg is deprecated. pip 24.3 will enforce this behaviour change. A possible replacement is to use pip for package installation.. Discussion can be found at https://github.com/pypa/pip/issues/12330\n",
      "DEPRECATION: torchsde 0.2.5 has a non-standard dependency specifier numpy>=1.19.*; python_version >= \"3.7\". pip 24.1 will enforce this behaviour change. A possible replacement is to upgrade to a newer version of torchsde or contact the author to suggest that they release a version with a conforming dependency specifiers. Discussion can be found at https://github.com/pypa/pip/issues/12063\n"
     ]
    }
   ],
   "source": [
    "%pip install marvin"
   ]
  },
  {
   "cell_type": "code",
   "execution_count": 11,
   "id": "7c22bdd4-768f-44e9-8cc9-0a17281c51ed",
   "metadata": {},
   "outputs": [],
   "source": [
    "import datetime\n",
    "from typing import Optional, List\n",
    "from pydantic import BaseModel\n",
    "from marvin import ai_model"
   ]
  },
  {
   "cell_type": "code",
   "execution_count": 13,
   "id": "8e991fa1-0db4-4446-9020-43c2c58d4585",
   "metadata": {},
   "outputs": [],
   "source": [
    "class Client(BaseModel):\n",
    "    name: str\n",
    "    email: str\n",
    "    phone: Optional[str]\n",
    "    \n",
    "class Issue(BaseModel):\n",
    "    problem: str\n",
    "    device: str\n",
    "\n",
    "@ai_model\n",
    "class Ticket(BaseModel):\n",
    "    created: datetime.date\n",
    "    client: Client\n",
    "    title: str\n",
    "    issues: List[Issue]"
   ]
  },
  {
   "cell_type": "code",
   "execution_count": 17,
   "id": "57233630-478c-46e3-a783-2509dfd621e3",
   "metadata": {},
   "outputs": [
    {
     "ename": "ValidationError",
     "evalue": "1 validation error for Client\nphone\n  Field required [type=missing, input_value={'name': 'Jane Smith', 'e... 'jane.smith@email.com'}, input_type=dict]\n    For further information visit https://errors.pydantic.dev/2.5/v/missing",
     "output_type": "error",
     "traceback": [
      "\u001b[1;31m---------------------------------------------------------------------------\u001b[0m",
      "\u001b[1;31mValidationError\u001b[0m                           Traceback (most recent call last)",
      "Cell \u001b[1;32mIn[17], line 7\u001b[0m\n\u001b[0;32m      2\u001b[0m \u001b[38;5;28;01mfrom\u001b[39;00m \u001b[38;5;21;01mdatetime\u001b[39;00m \u001b[38;5;28;01mimport\u001b[39;00m datetime\n\u001b[0;32m      4\u001b[0m \u001b[38;5;66;03m# Assuming Ticket is a class defined elsewhere\u001b[39;00m\n\u001b[0;32m      5\u001b[0m ticket_instance \u001b[38;5;241m=\u001b[39m Ticket(\n\u001b[0;32m      6\u001b[0m     created\u001b[38;5;241m=\u001b[39mdatetime\u001b[38;5;241m.\u001b[39mstrptime(\u001b[38;5;124m\"\u001b[39m\u001b[38;5;124m2023-07-15\u001b[39m\u001b[38;5;124m\"\u001b[39m, \u001b[38;5;124m\"\u001b[39m\u001b[38;5;124m%\u001b[39m\u001b[38;5;124mY-\u001b[39m\u001b[38;5;124m%\u001b[39m\u001b[38;5;124mm-\u001b[39m\u001b[38;5;132;01m%d\u001b[39;00m\u001b[38;5;124m\"\u001b[39m)\u001b[38;5;241m.\u001b[39mdate(),\n\u001b[1;32m----> 7\u001b[0m     client\u001b[38;5;241m=\u001b[39m\u001b[43mClient\u001b[49m\u001b[43m(\u001b[49m\u001b[43mname\u001b[49m\u001b[38;5;241;43m=\u001b[39;49m\u001b[38;5;124;43m\"\u001b[39;49m\u001b[38;5;124;43mJane Smith\u001b[39;49m\u001b[38;5;124;43m\"\u001b[39;49m\u001b[43m,\u001b[49m\u001b[43m \u001b[49m\u001b[43memail\u001b[49m\u001b[38;5;241;43m=\u001b[39;49m\u001b[38;5;124;43m\"\u001b[39;49m\u001b[38;5;124;43mjane.smith@email.com\u001b[39;49m\u001b[38;5;124;43m\"\u001b[39;49m\u001b[43m)\u001b[49m,\n\u001b[0;32m      8\u001b[0m     title\u001b[38;5;241m=\u001b[39m\u001b[38;5;124m\"\u001b[39m\u001b[38;5;124mDisappointment with My Gizmo 3000 and Widget Pro Devices\u001b[39m\u001b[38;5;124m\"\u001b[39m,\n\u001b[0;32m      9\u001b[0m     issues\u001b[38;5;241m=\u001b[39m[\n\u001b[0;32m     10\u001b[0m         Issue(problem\u001b[38;5;241m=\u001b[39m\u001b[38;5;124m\"\u001b[39m\u001b[38;5;124mShort battery life and unresponsive touchscreen\u001b[39m\u001b[38;5;124m\"\u001b[39m, device\u001b[38;5;241m=\u001b[39m\u001b[38;5;124m\"\u001b[39m\u001b[38;5;124mGizmo 3000\u001b[39m\u001b[38;5;124m\"\u001b[39m),\n\u001b[0;32m     11\u001b[0m         Issue(problem\u001b[38;5;241m=\u001b[39m\u001b[38;5;124m\"\u001b[39m\u001b[38;5;124mConstant connectivity issues and random shutdowns\u001b[39m\u001b[38;5;124m\"\u001b[39m, device\u001b[38;5;241m=\u001b[39m\u001b[38;5;124m\"\u001b[39m\u001b[38;5;124mWidget Pro\u001b[39m\u001b[38;5;124m\"\u001b[39m)\n\u001b[0;32m     12\u001b[0m     ]\n\u001b[0;32m     13\u001b[0m )\n\u001b[0;32m     15\u001b[0m \u001b[38;5;66;03m# Convert Ticket instance to a dictionary\u001b[39;00m\n\u001b[0;32m     16\u001b[0m ticket_dict \u001b[38;5;241m=\u001b[39m \u001b[38;5;28mdict\u001b[39m(ticket_instance)\n",
      "File \u001b[1;32mc:\\Users\\cglyn\\AppData\\Local\\Programs\\Python\\Python311\\Lib\\site-packages\\pydantic\\main.py:164\u001b[0m, in \u001b[0;36mBaseModel.__init__\u001b[1;34m(__pydantic_self__, **data)\u001b[0m\n\u001b[0;32m    162\u001b[0m \u001b[38;5;66;03m# `__tracebackhide__` tells pytest and some other tools to omit this function from tracebacks\u001b[39;00m\n\u001b[0;32m    163\u001b[0m __tracebackhide__ \u001b[38;5;241m=\u001b[39m \u001b[38;5;28;01mTrue\u001b[39;00m\n\u001b[1;32m--> 164\u001b[0m \u001b[43m__pydantic_self__\u001b[49m\u001b[38;5;241;43m.\u001b[39;49m\u001b[43m__pydantic_validator__\u001b[49m\u001b[38;5;241;43m.\u001b[39;49m\u001b[43mvalidate_python\u001b[49m\u001b[43m(\u001b[49m\u001b[43mdata\u001b[49m\u001b[43m,\u001b[49m\u001b[43m \u001b[49m\u001b[43mself_instance\u001b[49m\u001b[38;5;241;43m=\u001b[39;49m\u001b[43m__pydantic_self__\u001b[49m\u001b[43m)\u001b[49m\n",
      "\u001b[1;31mValidationError\u001b[0m: 1 validation error for Client\nphone\n  Field required [type=missing, input_value={'name': 'Jane Smith', 'e... 'jane.smith@email.com'}, input_type=dict]\n    For further information visit https://errors.pydantic.dev/2.5/v/missing"
     ]
    }
   ],
   "source": [
    "import json\n",
    "from datetime import datetime\n",
    "\n",
    "# Assuming Ticket is a class defined elsewhere\n",
    "ticket_instance = Ticket(\n",
    "    created=datetime.strptime(\"2023-07-15\", \"%Y-%m-%d\").date(),\n",
    "    client=Client(name=\"Jane Smith\", email=\"jane.smith@email.com\"),\n",
    "    title=\"Disappointment with My Gizmo 3000 and Widget Pro Devices\",\n",
    "    issues=[\n",
    "        Issue(problem=\"Short battery life and unresponsive touchscreen\", device=\"Gizmo 3000\"),\n",
    "        Issue(problem=\"Constant connectivity issues and random shutdowns\", device=\"Widget Pro\")\n",
    "    ]\n",
    ")\n",
    "\n",
    "# Convert Ticket instance to a dictionary\n",
    "ticket_dict = dict(ticket_instance)\n",
    "\n",
    "# Serialize dictionary to JSON format\n",
    "json_str = json.dumps(ticket_dict, indent=2)\n",
    "print(json_str)\n"
   ]
  },
  {
   "cell_type": "markdown",
   "id": "5f809168-931b-42e4-aadd-15c7035c8fa5",
   "metadata": {},
   "source": [
    "# openai_function_calls"
   ]
  },
  {
   "cell_type": "code",
   "execution_count": 18,
   "id": "86252778-db6e-4515-864f-ee29ec12a3c6",
   "metadata": {},
   "outputs": [
    {
     "name": "stdout",
     "output_type": "stream",
     "text": [
      "Collecting openai-function-call\n",
      "  Downloading openai_function_call-0.2.6-py3-none-any.whl.metadata (9.7 kB)\n",
      "Collecting openai<0.28.0,>=0.27.8 (from openai-function-call)\n",
      "  Downloading openai-0.27.10-py3-none-any.whl.metadata (13 kB)\n",
      "Requirement already satisfied: pydantic<3.0.0,>=2.0.2 in c:\\users\\cglyn\\appdata\\local\\programs\\python\\python311\\lib\\site-packages (from openai-function-call) (2.5.2)\n",
      "Requirement already satisfied: requests>=2.20 in c:\\users\\cglyn\\appdata\\local\\programs\\python\\python311\\lib\\site-packages\\requests-2.31.0-py3.11.egg (from openai<0.28.0,>=0.27.8->openai-function-call) (2.31.0)\n",
      "Requirement already satisfied: tqdm in c:\\users\\cglyn\\appdata\\local\\programs\\python\\python311\\lib\\site-packages (from openai<0.28.0,>=0.27.8->openai-function-call) (4.65.2)\n",
      "Requirement already satisfied: aiohttp in c:\\users\\cglyn\\appdata\\local\\programs\\python\\python311\\lib\\site-packages (from openai<0.28.0,>=0.27.8->openai-function-call) (3.9.1)\n",
      "Requirement already satisfied: annotated-types>=0.4.0 in c:\\users\\cglyn\\appdata\\local\\programs\\python\\python311\\lib\\site-packages (from pydantic<3.0.0,>=2.0.2->openai-function-call) (0.6.0)\n",
      "Requirement already satisfied: pydantic-core==2.14.5 in c:\\users\\cglyn\\appdata\\local\\programs\\python\\python311\\lib\\site-packages (from pydantic<3.0.0,>=2.0.2->openai-function-call) (2.14.5)\n",
      "Requirement already satisfied: typing-extensions>=4.6.1 in c:\\users\\cglyn\\appdata\\local\\programs\\python\\python311\\lib\\site-packages (from pydantic<3.0.0,>=2.0.2->openai-function-call) (4.9.0)\n",
      "Requirement already satisfied: certifi>=2017.4.17 in c:\\users\\cglyn\\appdata\\local\\programs\\python\\python311\\lib\\site-packages (from requests>=2.20->openai<0.28.0,>=0.27.8->openai-function-call) (2024.2.2)\n",
      "Requirement already satisfied: charset-normalizer<4,>=2 in c:\\users\\cglyn\\appdata\\local\\programs\\python\\python311\\lib\\site-packages (from requests>=2.20->openai<0.28.0,>=0.27.8->openai-function-call) (3.3.2)\n",
      "Requirement already satisfied: idna<4,>=2.5 in c:\\users\\cglyn\\appdata\\local\\programs\\python\\python311\\lib\\site-packages (from requests>=2.20->openai<0.28.0,>=0.27.8->openai-function-call) (3.6)\n",
      "Requirement already satisfied: urllib3<3,>=1.21.1 in c:\\users\\cglyn\\appdata\\local\\programs\\python\\python311\\lib\\site-packages (from requests>=2.20->openai<0.28.0,>=0.27.8->openai-function-call) (2.2.1)\n",
      "Requirement already satisfied: attrs>=17.3.0 in c:\\users\\cglyn\\appdata\\local\\programs\\python\\python311\\lib\\site-packages (from aiohttp->openai<0.28.0,>=0.27.8->openai-function-call) (23.1.0)\n",
      "Requirement already satisfied: multidict<7.0,>=4.5 in c:\\users\\cglyn\\appdata\\local\\programs\\python\\python311\\lib\\site-packages (from aiohttp->openai<0.28.0,>=0.27.8->openai-function-call) (6.0.4)\n",
      "Requirement already satisfied: yarl<2.0,>=1.0 in c:\\users\\cglyn\\appdata\\local\\programs\\python\\python311\\lib\\site-packages (from aiohttp->openai<0.28.0,>=0.27.8->openai-function-call) (1.9.4)\n",
      "Requirement already satisfied: frozenlist>=1.1.1 in c:\\users\\cglyn\\appdata\\local\\programs\\python\\python311\\lib\\site-packages (from aiohttp->openai<0.28.0,>=0.27.8->openai-function-call) (1.4.0)\n",
      "Requirement already satisfied: aiosignal>=1.1.2 in c:\\users\\cglyn\\appdata\\local\\programs\\python\\python311\\lib\\site-packages (from aiohttp->openai<0.28.0,>=0.27.8->openai-function-call) (1.3.1)\n",
      "Requirement already satisfied: colorama in c:\\users\\cglyn\\appdata\\local\\programs\\python\\python311\\lib\\site-packages (from tqdm->openai<0.28.0,>=0.27.8->openai-function-call) (0.4.6)\n",
      "Downloading openai_function_call-0.2.6-py3-none-any.whl (15 kB)\n",
      "Downloading openai-0.27.10-py3-none-any.whl (76 kB)\n",
      "   ---------------------------------------- 0.0/76.5 kB ? eta -:--:--\n",
      "   ---------------- ----------------------- 30.7/76.5 kB 1.3 MB/s eta 0:00:01\n",
      "   ---------------- ----------------------- 30.7/76.5 kB 1.3 MB/s eta 0:00:01\n",
      "   ---------------- ----------------------- 30.7/76.5 kB 1.3 MB/s eta 0:00:01\n",
      "   ---------------- ----------------------- 30.7/76.5 kB 1.3 MB/s eta 0:00:01\n",
      "   ---------------------------------------- 76.5/76.5 kB 302.7 kB/s eta 0:00:00\n",
      "Installing collected packages: openai, openai-function-call\n",
      "  Attempting uninstall: openai\n",
      "    Found existing installation: openai 1.28.1\n",
      "    Uninstalling openai-1.28.1:\n",
      "      Successfully uninstalled openai-1.28.1\n",
      "Successfully installed openai-0.27.10 openai-function-call-0.2.6\n",
      "Note: you may need to restart the kernel to use updated packages.\n"
     ]
    },
    {
     "name": "stderr",
     "output_type": "stream",
     "text": [
      "DEPRECATION: Loading egg at c:\\users\\cglyn\\appdata\\local\\programs\\python\\python311\\lib\\site-packages\\requests-2.31.0-py3.11.egg is deprecated. pip 24.3 will enforce this behaviour change. A possible replacement is to use pip for package installation.. Discussion can be found at https://github.com/pypa/pip/issues/12330\n",
      "DEPRECATION: Loading egg at c:\\users\\cglyn\\appdata\\local\\programs\\python\\python311\\lib\\site-packages\\websockets-11.0-py3.11.egg is deprecated. pip 24.3 will enforce this behaviour change. A possible replacement is to use pip for package installation.. Discussion can be found at https://github.com/pypa/pip/issues/12330\n",
      "DEPRECATION: torchsde 0.2.5 has a non-standard dependency specifier numpy>=1.19.*; python_version >= \"3.7\". pip 24.1 will enforce this behaviour change. A possible replacement is to upgrade to a newer version of torchsde or contact the author to suggest that they release a version with a conforming dependency specifiers. Discussion can be found at https://github.com/pypa/pip/issues/12063\n",
      "ERROR: pip's dependency resolver does not currently take into account all the packages that are installed. This behaviour is the source of the following dependency conflicts.\n",
      "langchain-openai 0.1.6 requires openai<2.0.0,>=1.24.0, but you have openai 0.27.10 which is incompatible.\n",
      "marvin 2.3.3 requires openai>=1.21.0, but you have openai 0.27.10 which is incompatible.\n",
      "bae 0.1 requires importlib-resources==6.1.3, but you have importlib-resources 6.1.1 which is incompatible.\n",
      "bae 0.1 requires importlib-resources==6.1.3, but you have importlib-resources 6.1.1 which is incompatible.\n",
      "bae 0.1 requires setuptools==58.5.3, but you have setuptools 60.2.0 which is incompatible.\n",
      "bae 0.1 requires websockets==12.0, but you have websockets 11.0 which is incompatible.\n"
     ]
    }
   ],
   "source": [
    "%pip install openai-function-call"
   ]
  },
  {
   "cell_type": "code",
   "execution_count": 19,
   "id": "c51dcb4f-766a-4ba3-81dc-6da8dab5fe5d",
   "metadata": {},
   "outputs": [],
   "source": [
    "from openai_function_call import OpenAISchema\n",
    "from pydantic import Field\n",
    "import openai"
   ]
  },
  {
   "cell_type": "code",
   "execution_count": 22,
   "id": "f963ec43-0821-47f4-ab5a-f8e10257b296",
   "metadata": {},
   "outputs": [],
   "source": [
    "class Technology(BaseModel):\n",
    "    name: str = Field(..., description=\"one specific technology (like a language, framework, platform)\")\n",
    "    category: str\n",
    "\n",
    "class WorkExperience(BaseModel):\n",
    "    role: str\n",
    "    company: str\n",
    "    start_date: str\n",
    "    end_date: str\n",
    "    responsibilities: List[str]\n",
    "\n",
    "class Education(BaseModel):\n",
    "    degree: str\n",
    "    institution: str\n",
    "    location: str\n",
    "    start_date: str\n",
    "    end_date: str\n",
    "\n",
    "class Language(BaseModel):\n",
    "    name: str\n",
    "    level: str\n",
    "\n",
    "class Resume(OpenAISchema):\n",
    "    \"Correctly extracted information from a resume\"\n",
    "    name: str\n",
    "    contact_information: str\n",
    "    objective_statement: str\n",
    "    other_skills: List[str] = Field(..., description=\"name of a non-technical specific skill (like 'teamwork', 'empathy')\")\n",
    "    technologies: List[Technology]\n",
    "    work_experience: List[WorkExperience]\n",
    "    education: List[Education]\n",
    "    certifications: List[str]\n",
    "    language: List[Language]\n",
    "    references: Optional[str]"
   ]
  },
  {
   "cell_type": "code",
   "execution_count": 23,
   "id": "c023f078-45d7-4202-91e4-0adf2ee07eda",
   "metadata": {},
   "outputs": [],
   "source": [
    "def parse_resume(resume: str) -> Resume:\n",
    "    completion = openai.ChatCompletion.create(\n",
    "        model=\"gpt-3.5-turbo-0613\",\n",
    "        temperature=0.,\n",
    "        functions=[Resume.openai_schema],\n",
    "        function_call={\"name\": Resume.openai_schema[\"name\"]},\n",
    "        messages=[\n",
    "            {\"role\": \"system\", \"content\": \"Extract all the information fot the resume provided\"},\n",
    "            {\"role\": \"user\", \"content\": resume},\n",
    "        ],\n",
    "    )\n",
    "    return Resume.from_response(completion)"
   ]
  },
  {
   "cell_type": "code",
   "execution_count": 24,
   "id": "67f319aa-0f4a-4471-a37f-1a8f3d3400ed",
   "metadata": {},
   "outputs": [],
   "source": [
    "resume = \"\"\"\n",
    "    **John Doe**\n",
    "\n",
    "    1234 Main Street, San Francisco, CA 94101 | (123) 456-7890 | john.doe@email.com | LinkedIn: /in/johndoe\n",
    "\n",
    "    **Objective**\n",
    "\n",
    "    Highly motivated Software Engineer specializing in Machine Learning, Artificial Intelligence, and MLOps, seeking to leverage extensive background in software development, data science, and AI systems in a challenging new role.\n",
    "\n",
    "    **Skills**\n",
    "\n",
    "    - Proficiency in Python, Java, and C++\n",
    "    - Experience in Machine Learning and Deep Learning frameworks (TensorFlow, PyTorch, Keras)\n",
    "    - Expertise in MLOps tools (Kubeflow, Docker, Jenkins)\n",
    "    - Knowledge of cloud platforms (AWS, Google Cloud, Azure)\n",
    "    - Experience with Big Data tools (Hadoop, Spark)\n",
    "    - Excellent problem-solving skills and attention to detail\n",
    "\n",
    "    **Work Experience**\n",
    "\n",
    "    **Software Engineer, Machine Learning**\n",
    "    Google, Mountain View, CA | June 2019 – Present\n",
    "\n",
    "    - Designed and implemented ML models for various Google services, improving prediction accuracy by 20%.\n",
    "    - Deployed robust ML pipelines using MLOps best practices.\n",
    "    - Coordinated cross-functional teams to integrate ML models into product offerings.\n",
    "    - Optimized machine learning algorithms to enhance system performance.\n",
    "\n",
    "    **Software Engineer, AI**\n",
    "    Microsoft, Redmond, WA | August 2016 – May 2019\n",
    "\n",
    "    - Participated in the development of AI models for various Microsoft products.\n",
    "    - Assisted in the establishment of the company's MLOps framework.\n",
    "    - Created reusable code and libraries for future use.\n",
    "    - Improved efficiency of existing systems by implementing AI solutions.\n",
    "\n",
    "    **Junior Software Developer**\n",
    "    IBM, Armonk, NY | July 2014 – July 2016\n",
    "\n",
    "    - Developed and maintained software applications.\n",
    "    - Collaborated with senior engineers to develop machine learning capabilities.\n",
    "    - Assisted in bug fixing and improving application performance.\n",
    "\n",
    "    **Education**\n",
    "\n",
    "    **Master of Science in Computer Science (Specialization in AI)**\n",
    "    Stanford University, Stanford, CA | 2012 – 2014\n",
    "\n",
    "    **Bachelor of Science in Computer Science**\n",
    "    University of California, Berkeley, CA | 2008 – 2012\n",
    "\n",
    "    **Certifications**\n",
    "\n",
    "    - Certified TensorFlow Developer – TensorFlow\n",
    "    - Certified Professional in AI & ML – Microsoft\n",
    "    - Certified Solutions Architect – Amazon Web Services\n",
    "\n",
    "    **Languages**\n",
    "\n",
    "    - English (native)\n",
    "    - Spanish (fluent)\n",
    "\"\"\""
   ]
  },
  {
   "cell_type": "code",
   "execution_count": 27,
   "id": "5e037e6f-84ce-4951-bbbf-4a926e5b2441",
   "metadata": {},
   "outputs": [
    {
     "ename": "APIRemovedInV1",
     "evalue": "\n\nYou tried to access openai.ChatCompletion, but this is no longer supported in openai>=1.0.0 - see the README at https://github.com/openai/openai-python for the API.\n\nYou can run `openai migrate` to automatically upgrade your codebase to use the 1.0.0 interface. \n\nAlternatively, you can pin your installation to the old version, e.g. `pip install openai==0.28`\n\nA detailed migration guide is available here: https://github.com/openai/openai-python/discussions/742\n",
     "output_type": "error",
     "traceback": [
      "\u001b[1;31m---------------------------------------------------------------------------\u001b[0m",
      "\u001b[1;31mAPIRemovedInV1\u001b[0m                            Traceback (most recent call last)",
      "Cell \u001b[1;32mIn[27], line 1\u001b[0m\n\u001b[1;32m----> 1\u001b[0m \u001b[38;5;28mprint\u001b[39m(\u001b[43mparse_resume\u001b[49m\u001b[43m(\u001b[49m\u001b[43mresume\u001b[49m\u001b[43m)\u001b[49m\u001b[38;5;241m.\u001b[39mmodel_dump_json(indent\u001b[38;5;241m=\u001b[39m\u001b[38;5;241m2\u001b[39m))\n",
      "Cell \u001b[1;32mIn[23], line 2\u001b[0m, in \u001b[0;36mparse_resume\u001b[1;34m(resume)\u001b[0m\n\u001b[0;32m      1\u001b[0m \u001b[38;5;28;01mdef\u001b[39;00m \u001b[38;5;21mparse_resume\u001b[39m(resume: \u001b[38;5;28mstr\u001b[39m) \u001b[38;5;241m-\u001b[39m\u001b[38;5;241m>\u001b[39m Resume:\n\u001b[1;32m----> 2\u001b[0m     completion \u001b[38;5;241m=\u001b[39m \u001b[43mopenai\u001b[49m\u001b[38;5;241;43m.\u001b[39;49m\u001b[43mChatCompletion\u001b[49m\u001b[38;5;241;43m.\u001b[39;49m\u001b[43mcreate\u001b[49m\u001b[43m(\u001b[49m\n\u001b[0;32m      3\u001b[0m \u001b[43m        \u001b[49m\u001b[43mmodel\u001b[49m\u001b[38;5;241;43m=\u001b[39;49m\u001b[38;5;124;43m\"\u001b[39;49m\u001b[38;5;124;43mgpt-3.5-turbo-0613\u001b[39;49m\u001b[38;5;124;43m\"\u001b[39;49m\u001b[43m,\u001b[49m\n\u001b[0;32m      4\u001b[0m \u001b[43m        \u001b[49m\u001b[43mtemperature\u001b[49m\u001b[38;5;241;43m=\u001b[39;49m\u001b[38;5;241;43m0.\u001b[39;49m\u001b[43m,\u001b[49m\n\u001b[0;32m      5\u001b[0m \u001b[43m        \u001b[49m\u001b[43mfunctions\u001b[49m\u001b[38;5;241;43m=\u001b[39;49m\u001b[43m[\u001b[49m\u001b[43mResume\u001b[49m\u001b[38;5;241;43m.\u001b[39;49m\u001b[43mopenai_schema\u001b[49m\u001b[43m]\u001b[49m\u001b[43m,\u001b[49m\n\u001b[0;32m      6\u001b[0m \u001b[43m        \u001b[49m\u001b[43mfunction_call\u001b[49m\u001b[38;5;241;43m=\u001b[39;49m\u001b[43m{\u001b[49m\u001b[38;5;124;43m\"\u001b[39;49m\u001b[38;5;124;43mname\u001b[39;49m\u001b[38;5;124;43m\"\u001b[39;49m\u001b[43m:\u001b[49m\u001b[43m \u001b[49m\u001b[43mResume\u001b[49m\u001b[38;5;241;43m.\u001b[39;49m\u001b[43mopenai_schema\u001b[49m\u001b[43m[\u001b[49m\u001b[38;5;124;43m\"\u001b[39;49m\u001b[38;5;124;43mname\u001b[39;49m\u001b[38;5;124;43m\"\u001b[39;49m\u001b[43m]\u001b[49m\u001b[43m}\u001b[49m\u001b[43m,\u001b[49m\n\u001b[0;32m      7\u001b[0m \u001b[43m        \u001b[49m\u001b[43mmessages\u001b[49m\u001b[38;5;241;43m=\u001b[39;49m\u001b[43m[\u001b[49m\n\u001b[0;32m      8\u001b[0m \u001b[43m            \u001b[49m\u001b[43m{\u001b[49m\u001b[38;5;124;43m\"\u001b[39;49m\u001b[38;5;124;43mrole\u001b[39;49m\u001b[38;5;124;43m\"\u001b[39;49m\u001b[43m:\u001b[49m\u001b[43m \u001b[49m\u001b[38;5;124;43m\"\u001b[39;49m\u001b[38;5;124;43msystem\u001b[39;49m\u001b[38;5;124;43m\"\u001b[39;49m\u001b[43m,\u001b[49m\u001b[43m \u001b[49m\u001b[38;5;124;43m\"\u001b[39;49m\u001b[38;5;124;43mcontent\u001b[39;49m\u001b[38;5;124;43m\"\u001b[39;49m\u001b[43m:\u001b[49m\u001b[43m \u001b[49m\u001b[38;5;124;43m\"\u001b[39;49m\u001b[38;5;124;43mExtract all the information fot the resume provided\u001b[39;49m\u001b[38;5;124;43m\"\u001b[39;49m\u001b[43m}\u001b[49m\u001b[43m,\u001b[49m\n\u001b[0;32m      9\u001b[0m \u001b[43m            \u001b[49m\u001b[43m{\u001b[49m\u001b[38;5;124;43m\"\u001b[39;49m\u001b[38;5;124;43mrole\u001b[39;49m\u001b[38;5;124;43m\"\u001b[39;49m\u001b[43m:\u001b[49m\u001b[43m \u001b[49m\u001b[38;5;124;43m\"\u001b[39;49m\u001b[38;5;124;43muser\u001b[39;49m\u001b[38;5;124;43m\"\u001b[39;49m\u001b[43m,\u001b[49m\u001b[43m \u001b[49m\u001b[38;5;124;43m\"\u001b[39;49m\u001b[38;5;124;43mcontent\u001b[39;49m\u001b[38;5;124;43m\"\u001b[39;49m\u001b[43m:\u001b[49m\u001b[43m \u001b[49m\u001b[43mresume\u001b[49m\u001b[43m}\u001b[49m\u001b[43m,\u001b[49m\n\u001b[0;32m     10\u001b[0m \u001b[43m        \u001b[49m\u001b[43m]\u001b[49m\u001b[43m,\u001b[49m\n\u001b[0;32m     11\u001b[0m \u001b[43m    \u001b[49m\u001b[43m)\u001b[49m\n\u001b[0;32m     12\u001b[0m     \u001b[38;5;28;01mreturn\u001b[39;00m Resume\u001b[38;5;241m.\u001b[39mfrom_response(completion)\n",
      "File \u001b[1;32mc:\\Users\\cglyn\\AppData\\Local\\Programs\\Python\\Python311\\Lib\\site-packages\\openai\\lib\\_old_api.py:39\u001b[0m, in \u001b[0;36m__call__\u001b[1;34m(self, *_args, **_kwargs)\u001b[0m\n",
      "\u001b[1;31mAPIRemovedInV1\u001b[0m: \n\nYou tried to access openai.ChatCompletion, but this is no longer supported in openai>=1.0.0 - see the README at https://github.com/openai/openai-python for the API.\n\nYou can run `openai migrate` to automatically upgrade your codebase to use the 1.0.0 interface. \n\nAlternatively, you can pin your installation to the old version, e.g. `pip install openai==0.28`\n\nA detailed migration guide is available here: https://github.com/openai/openai-python/discussions/742\n"
     ]
    }
   ],
   "source": [
    "print(parse_resume(resume).model_dump_json(indent=2))"
   ]
  },
  {
   "cell_type": "code",
   "execution_count": null,
   "id": "80feb97e-4afd-4bc9-a512-2f4b1357c0f6",
   "metadata": {},
   "outputs": [],
   "source": []
  }
 ],
 "metadata": {
  "kernelspec": {
   "display_name": "Python 3 (ipykernel)",
   "language": "python",
   "name": "python3"
  },
  "language_info": {
   "codemirror_mode": {
    "name": "ipython",
    "version": 3
   },
   "file_extension": ".py",
   "mimetype": "text/x-python",
   "name": "python",
   "nbconvert_exporter": "python",
   "pygments_lexer": "ipython3",
   "version": "3.11.5"
  }
 },
 "nbformat": 4,
 "nbformat_minor": 5
}
